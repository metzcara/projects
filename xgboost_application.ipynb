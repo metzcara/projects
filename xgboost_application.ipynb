{
 "cells": [
  {
   "cell_type": "code",
   "execution_count": 2,
   "id": "8d3e06f3",
   "metadata": {},
   "outputs": [],
   "source": [
    "import numpy as np\n",
    "import fitsio\n",
    "import os\n",
    "import pandas as pd\n",
    "import matplotlib.pyplot as plt\n",
    "import sep\n",
    "import xgboost as xgb\n",
    "from sklearn.preprocessing import StandardScaler \n",
    "from sklearn.model_selection import train_test_split \n",
    "from sklearn.decomposition import PCA\n",
    "\n",
    "# Optimization\n",
    "from sklearn.experimental import enable_halving_search_cv\n",
    "from sklearn.model_selection import HalvingGridSearchCV\n",
    "from sklearn.model_selection import GridSearchCV\n",
    "\n",
    "\n",
    "# Metrics\n",
    "from sklearn import metrics\n",
    "from sklearn.metrics import mean_squared_error"
   ]
  },
  {
   "cell_type": "code",
   "execution_count": 3,
   "id": "d26f0317",
   "metadata": {},
   "outputs": [],
   "source": [
    "datapath = '/Users/avery/seoproject/data2w/'\n",
    "fpath = '/Users/avery/seoproject/filenames.csv'\n",
    "fnames = pd.read_csv(fpath)\n",
    "fn = fnames['filename']\n",
    "expts = []\n",
    "\n",
    "for f in fn:\n",
    "    h = fitsio.read_header(datapath+f)\n",
    "    et = h['EXPTIME']\n",
    "    expts.append(et)"
   ]
  },
  {
   "cell_type": "markdown",
   "id": "3f84c737",
   "metadata": {},
   "source": [
    "### creating training and test sets"
   ]
  },
  {
   "cell_type": "code",
   "execution_count": 33,
   "id": "8a95b962",
   "metadata": {},
   "outputs": [],
   "source": [
    "for i in range(0,len(fn)):\n",
    "    if meds[i]==np.nan:\n",
    "        data = fitsio.read(datapath+fn[i])\n",
    "        bkg = sep.Background(data)\n",
    "        data_sub = data - bkg\n",
    "        meds[i]= np.median(data)"
   ]
  },
  {
   "cell_type": "code",
   "execution_count": 4,
   "id": "ef189e9b",
   "metadata": {},
   "outputs": [],
   "source": [
    "meds = np.load('/Users/avery/seoproject/expbkgmeds5iter.npy')\n",
    "# df = pd.read_csv('/Users/avery/seoproject/allparamdf.csv')\n",
    "df = pd.read_csv('/Users/avery/seoproject/parapim.csv')"
   ]
  },
  {
   "cell_type": "code",
   "execution_count": 81,
   "id": "02497911",
   "metadata": {},
   "outputs": [],
   "source": [
    "df = pd.read_csv('/Users/avery/seoproject/parapim.csv')"
   ]
  },
  {
   "cell_type": "code",
   "execution_count": 9,
   "id": "bef343d9",
   "metadata": {},
   "outputs": [
    {
     "data": {
      "text/html": [
       "<div>\n",
       "<style scoped>\n",
       "    .dataframe tbody tr th:only-of-type {\n",
       "        vertical-align: middle;\n",
       "    }\n",
       "\n",
       "    .dataframe tbody tr th {\n",
       "        vertical-align: top;\n",
       "    }\n",
       "\n",
       "    .dataframe thead th {\n",
       "        text-align: right;\n",
       "    }\n",
       "</style>\n",
       "<table border=\"1\" class=\"dataframe\">\n",
       "  <thead>\n",
       "    <tr style=\"text-align: right;\">\n",
       "      <th></th>\n",
       "      <th>Unnamed: 0</th>\n",
       "      <th>temp</th>\n",
       "      <th>rh</th>\n",
       "      <th>wind spd</th>\n",
       "      <th>wind dir</th>\n",
       "      <th>moon angle</th>\n",
       "    </tr>\n",
       "  </thead>\n",
       "  <tbody>\n",
       "    <tr>\n",
       "      <th>0</th>\n",
       "      <td>0</td>\n",
       "      <td>39.1</td>\n",
       "      <td>95</td>\n",
       "      <td>0.0</td>\n",
       "      <td>0</td>\n",
       "      <td>21.617428</td>\n",
       "    </tr>\n",
       "    <tr>\n",
       "      <th>1</th>\n",
       "      <td>1</td>\n",
       "      <td>45.2</td>\n",
       "      <td>90</td>\n",
       "      <td>2.9</td>\n",
       "      <td>178</td>\n",
       "      <td>65.219098</td>\n",
       "    </tr>\n",
       "    <tr>\n",
       "      <th>2</th>\n",
       "      <td>2</td>\n",
       "      <td>53.1</td>\n",
       "      <td>63</td>\n",
       "      <td>2.9</td>\n",
       "      <td>190</td>\n",
       "      <td>44.898670</td>\n",
       "    </tr>\n",
       "    <tr>\n",
       "      <th>3</th>\n",
       "      <td>3</td>\n",
       "      <td>49.6</td>\n",
       "      <td>74</td>\n",
       "      <td>4.8</td>\n",
       "      <td>166</td>\n",
       "      <td>44.903420</td>\n",
       "    </tr>\n",
       "    <tr>\n",
       "      <th>4</th>\n",
       "      <td>4</td>\n",
       "      <td>47.2</td>\n",
       "      <td>94</td>\n",
       "      <td>0.0</td>\n",
       "      <td>64</td>\n",
       "      <td>79.117844</td>\n",
       "    </tr>\n",
       "    <tr>\n",
       "      <th>...</th>\n",
       "      <td>...</td>\n",
       "      <td>...</td>\n",
       "      <td>...</td>\n",
       "      <td>...</td>\n",
       "      <td>...</td>\n",
       "      <td>...</td>\n",
       "    </tr>\n",
       "    <tr>\n",
       "      <th>314</th>\n",
       "      <td>314</td>\n",
       "      <td>51.6</td>\n",
       "      <td>43</td>\n",
       "      <td>8.2</td>\n",
       "      <td>303</td>\n",
       "      <td>54.550208</td>\n",
       "    </tr>\n",
       "    <tr>\n",
       "      <th>315</th>\n",
       "      <td>315</td>\n",
       "      <td>36.8</td>\n",
       "      <td>92</td>\n",
       "      <td>0.3</td>\n",
       "      <td>100</td>\n",
       "      <td>80.408719</td>\n",
       "    </tr>\n",
       "    <tr>\n",
       "      <th>316</th>\n",
       "      <td>316</td>\n",
       "      <td>32.1</td>\n",
       "      <td>89</td>\n",
       "      <td>0.1</td>\n",
       "      <td>315</td>\n",
       "      <td>4.753472</td>\n",
       "    </tr>\n",
       "    <tr>\n",
       "      <th>317</th>\n",
       "      <td>317</td>\n",
       "      <td>33.8</td>\n",
       "      <td>93</td>\n",
       "      <td>0.0</td>\n",
       "      <td>295</td>\n",
       "      <td>31.961029</td>\n",
       "    </tr>\n",
       "    <tr>\n",
       "      <th>318</th>\n",
       "      <td>318</td>\n",
       "      <td>35.9</td>\n",
       "      <td>95</td>\n",
       "      <td>0.0</td>\n",
       "      <td>350</td>\n",
       "      <td>21.589370</td>\n",
       "    </tr>\n",
       "  </tbody>\n",
       "</table>\n",
       "<p>319 rows × 6 columns</p>\n",
       "</div>"
      ],
      "text/plain": [
       "     Unnamed: 0  temp  rh  wind spd  wind dir  moon angle\n",
       "0             0  39.1  95       0.0         0   21.617428\n",
       "1             1  45.2  90       2.9       178   65.219098\n",
       "2             2  53.1  63       2.9       190   44.898670\n",
       "3             3  49.6  74       4.8       166   44.903420\n",
       "4             4  47.2  94       0.0        64   79.117844\n",
       "..          ...   ...  ..       ...       ...         ...\n",
       "314         314  51.6  43       8.2       303   54.550208\n",
       "315         315  36.8  92       0.3       100   80.408719\n",
       "316         316  32.1  89       0.1       315    4.753472\n",
       "317         317  33.8  93       0.0       295   31.961029\n",
       "318         318  35.9  95       0.0       350   21.589370\n",
       "\n",
       "[319 rows x 6 columns]"
      ]
     },
     "execution_count": 9,
     "metadata": {},
     "output_type": "execute_result"
    }
   ],
   "source": [
    "df"
   ]
  },
  {
   "cell_type": "markdown",
   "id": "5f10ad54",
   "metadata": {},
   "source": [
    "***only using StandardScaler***"
   ]
  },
  {
   "cell_type": "code",
   "execution_count": 63,
   "id": "7252503d",
   "metadata": {},
   "outputs": [],
   "source": [
    "df2 = df.drop('Unnamed: 0',axis=1)\n",
    "df2 = df2.drop('wind dir',axis=1)\n",
    "df2 = StandardScaler().fit_transform(df2)\n",
    "xtrain, xtest, ytrain, ytest = train_test_split(df2, meds, test_size=0.15)"
   ]
  },
  {
   "cell_type": "markdown",
   "id": "0fcc4544",
   "metadata": {},
   "source": [
    "***using StandardScaler and PCA***"
   ]
  },
  {
   "cell_type": "code",
   "execution_count": 40,
   "id": "24670b05",
   "metadata": {
    "scrolled": true
   },
   "outputs": [],
   "source": [
    "# df2 = df.drop('Unnamed: 0',axis=1)\n",
    "# df2 = StandardScaler().fit_transform(df2)\n",
    "pca = PCA(n_components=3)\n",
    "df3 = pca.fit_transform(df2)\n",
    "xtrain, xtest, ytrain, ytest = train_test_split(df3, meds, test_size=0.15)"
   ]
  },
  {
   "cell_type": "markdown",
   "id": "0453b6aa",
   "metadata": {},
   "source": [
    "### training the algorithm"
   ]
  },
  {
   "cell_type": "markdown",
   "id": "03544735",
   "metadata": {},
   "source": [
    "#### standard scaler"
   ]
  },
  {
   "cell_type": "code",
   "execution_count": 16,
   "id": "1d931dda",
   "metadata": {},
   "outputs": [],
   "source": [
    "from xgboost import XGBRegressor"
   ]
  },
  {
   "cell_type": "code",
   "execution_count": 79,
   "id": "56e9f92d",
   "metadata": {},
   "outputs": [],
   "source": [
    "df2 = df.drop('Unnamed: 0',axis=1)\n",
    "df2 = df2.drop('wind dir',axis=1)\n",
    "df2 = StandardScaler().fit_transform(df2)\n",
    "xtrain, xtest, ytrain, ytest = train_test_split(df2, meds, test_size=0.15)"
   ]
  },
  {
   "cell_type": "code",
   "execution_count": 80,
   "id": "7f1bc977",
   "metadata": {},
   "outputs": [],
   "source": [
    "regressor = xgb.XGBRegressor()\n",
    "regressor.fit(xtrain, ytrain)\n",
    "ypred = regressor.predict(xtest)\n",
    "stdmsr = mean_squared_error(ytest,ypred)"
   ]
  },
  {
   "cell_type": "code",
   "execution_count": 81,
   "id": "10092030",
   "metadata": {},
   "outputs": [
    {
     "name": "stdout",
     "output_type": "stream",
     "text": [
      "mean squared error: 0.5430536866188049\n",
      "root mean squared error: 0.7369217872619629\n"
     ]
    }
   ],
   "source": [
    "print(f'mean squared error: {mean_squared_error(ytest,ypred)}')\n",
    "print(f'root mean squared error: {np.sqrt(mean_squared_error(ytest,ypred))}')"
   ]
  },
  {
   "cell_type": "code",
   "execution_count": 82,
   "id": "f3c72873",
   "metadata": {},
   "outputs": [],
   "source": [
    "regressor.save_model('/Users/avery/seoproject/standmse0543.json')"
   ]
  },
  {
   "cell_type": "code",
   "execution_count": 36,
   "id": "7ba29ca2",
   "metadata": {},
   "outputs": [],
   "source": [
    "tr = xgb.Booster()\n",
    "tr.load_model('/Users/avery/seoproject/stand275.json')"
   ]
  },
  {
   "cell_type": "code",
   "execution_count": 83,
   "id": "08f533b9",
   "metadata": {},
   "outputs": [
    {
     "data": {
      "text/plain": [
       "array([1.0126867e-04, 8.1781857e-04, 5.4355316e+00, 7.6017933e+00,\n",
       "       5.1739645e+00, 4.7370017e-04, 6.6340639e-05, 4.5116301e-04,\n",
       "       1.5006133e-04, 6.4880133e-04, 2.6140974e+00, 5.1887473e-04,\n",
       "       6.0996647e+00, 6.1458122e-04, 2.7216382e+00, 4.0463858e+00,\n",
       "       5.0187130e+00, 3.8289475e+00, 7.5781784e+00, 1.9133107e-03,\n",
       "       1.7810942e-04, 6.2191521e-04, 1.6828245e-04, 4.8952864e-04,\n",
       "       2.5725582e+00, 1.9791880e+00, 1.5030125e-04, 3.2258197e-04,\n",
       "       5.0740544e-04, 8.1758806e-04, 7.6469512e+00, 6.3452078e-04,\n",
       "       4.3106613e+00, 4.5814919e+00, 1.4560294e-04, 7.6127977e+00,\n",
       "       1.2144428e-05, 6.3996710e-04, 1.6309459e-05, 1.7352711e-04,\n",
       "       1.0539192e-04, 1.1518145e-03, 4.0317783e+00, 4.7802758e+00,\n",
       "       5.1911349e+00, 1.0001987e+01, 8.8520616e-04, 9.9767504e+00],\n",
       "      dtype=float32)"
      ]
     },
     "execution_count": 83,
     "metadata": {},
     "output_type": "execute_result"
    }
   ],
   "source": [
    "ytest"
   ]
  },
  {
   "cell_type": "code",
   "execution_count": 38,
   "id": "02ba5072",
   "metadata": {},
   "outputs": [
    {
     "name": "stdout",
     "output_type": "stream",
     "text": [
      "mean squared error: 7.569271087646484\n",
      "root mean squared error: 2.7512307167053223\n"
     ]
    }
   ],
   "source": [
    "trp = tr.predict(xgb.DMatrix(xtest))\n",
    "print(f'mean squared error: {mean_squared_error(ytest,trp)}')\n",
    "print(f'root mean squared error: {np.sqrt(mean_squared_error(ytest,trp))}')"
   ]
  },
  {
   "cell_type": "markdown",
   "id": "511e8979",
   "metadata": {},
   "source": [
    "default parameters:\n",
    "- ```eta``` or ```learning_rate```: step size shrinkage used in update to prevent overfitting; after each boosting step, we can directly get the weights of new features, and eta shrinks the feature weights to make the boosting process more conservative; range [0,1]; default 0.3\n",
    "- ```gamma``` or ```min_split_loss```: minimum loss reduction required to make a further partition on a leaf node of the tree. the larger ```gamma``` is, the more conservative the algorithm will be; range [0, inf]; default 0\n",
    "- ```max depth```: maximum depth of a tree. increasing this value will make the model more ocmplex and more likely to overfit. 0 indicates no limit on depth. beware that xgboost aggressively consumes memory when training a deep tree. ```exact``` tree method requires nonzero value; range [0,inf]; default 6\n",
    "- ```min_child_weight```: minimum sum of instance weight (hessian) needed in a child. if the tree partition step results in a leaf node with the sum of instance weight less than ```min_child_weight```, then the building process will give up further partitioning. in linear regression task, this simply corresponds to minimum number of instances needed to be in each node. the larger ```min_child_weight``` is, the more conservative the algorithm will be. range [0,inf] default 1\n",
    "- ```lambda``` or ```reg_lambda```: L2 regularization term on weights; increasing this value will make model more conservative; default 1"
   ]
  },
  {
   "cell_type": "markdown",
   "id": "55809d60",
   "metadata": {},
   "source": [
    "#### optimization"
   ]
  },
  {
   "cell_type": "code",
   "execution_count": 19,
   "id": "38445f56",
   "metadata": {},
   "outputs": [
    {
     "name": "stdout",
     "output_type": "stream",
     "text": [
      "mean squared error: 8.179444313049316\n",
      "CPU times: user 3.56 s, sys: 209 ms, total: 3.77 s\n",
      "Wall time: 7.66 s\n"
     ]
    }
   ],
   "source": [
    "%%time\n",
    "\n",
    "param_grid = {'n_estimators': [50,100,150,200], 'reg_lambda': [0.5,1,1.5],\n",
    "             'gamma':[0,0.5,1], 'max_depth': [3,6,10,15]}\n",
    "halving_cv = HalvingGridSearchCV(XGBRegressor(), param_grid, scoring=\"neg_mean_squared_error\", n_jobs=-1, min_resources=\"exhaust\", factor=3)\n",
    "\n",
    "halving_cv.fit(xtrain,ytrain)\n",
    "\n",
    "test = xgb.XGBRegressor(\n",
    "    n_estimators=halving_cv.best_params_['n_estimators'],\n",
    "    reg_lambda=halving_cv.best_params_['reg_lambda'],\n",
    "    gamma=halving_cv.best_params_['gamma'],\n",
    "    max_depth=halving_cv.best_params_['max_depth']\n",
    ")\n",
    "\n",
    "test.fit(xtrain,ytrain)\n",
    "ypred = test.predict(xtest)\n",
    "print(f'mean squared error: {mean_squared_error(ytest,ypred)}')\n",
    "\n",
    "sthvmsr = mean_squared_error(ytest,ypred)"
   ]
  },
  {
   "cell_type": "code",
   "execution_count": 8,
   "id": "88d80f2b",
   "metadata": {},
   "outputs": [
    {
     "name": "stdout",
     "output_type": "stream",
     "text": [
      "mean squared error: 22.50870704650879\n",
      "CPU times: user 4min 28s, sys: 1.83 s, total: 4min 29s\n",
      "Wall time: 34.5 s\n"
     ]
    }
   ],
   "source": [
    "%%time\n",
    "gridsearch = GridSearchCV(XGBRegressor(), param_grid, scoring=\"neg_mean_squared_error\")\n",
    "gridsearch.fit(xtrain, ytrain)\n",
    "regressor = xgb.XGBRegressor(\n",
    "    n_estimators=gridsearch.best_params_['n_estimators'],\n",
    "    reg_lambda=gridsearch.best_params_['reg_lambda'],\n",
    "    gamma=gridsearch.best_params_['gamma'],\n",
    "    max_depth=gridsearch.best_params_['max_depth']\n",
    ")\n",
    "\n",
    "regressor.fit(xtrain,ytrain)\n",
    "ypred = regressor.predict(xtest)\n",
    "print(f'mean squared error: {mean_squared_error(ytest,ypred)}')\n",
    "\n",
    "stgdmsr = mean_squared_error(ytest,ypred)"
   ]
  },
  {
   "cell_type": "code",
   "execution_count": 9,
   "id": "ba559bed",
   "metadata": {},
   "outputs": [
    {
     "data": {
      "text/plain": [
       "(23.311676, 22.397202, 22.508707)"
      ]
     },
     "execution_count": 9,
     "metadata": {},
     "output_type": "execute_result"
    }
   ],
   "source": [
    "stdmsr, sthvmsr, stgdmsr"
   ]
  },
  {
   "cell_type": "markdown",
   "id": "097cd165",
   "metadata": {},
   "source": [
    "#### PCA"
   ]
  },
  {
   "cell_type": "code",
   "execution_count": 36,
   "id": "8015b57c",
   "metadata": {},
   "outputs": [],
   "source": [
    "# df2 = df.drop('Unnamed: 0',axis=1)\n",
    "# df2 = StandardScaler().fit_transform(df2)\n",
    "pca = PCA(n_components=4)\n",
    "df3 = pca.fit_transform(df2)\n",
    "xtrain, xtest, ytrain, ytest = train_test_split(df3, meds, test_size=0.15)"
   ]
  },
  {
   "cell_type": "code",
   "execution_count": 37,
   "id": "2845447d",
   "metadata": {},
   "outputs": [],
   "source": [
    "regressor = xgb.XGBRegressor()\n",
    "regressor.fit(xtrain, ytrain)\n",
    "ypred = regressor.predict(xtest)\n",
    "\n",
    "n4pcamsr = mean_squared_error(ytest,ypred)"
   ]
  },
  {
   "cell_type": "code",
   "execution_count": 38,
   "id": "d520034f",
   "metadata": {},
   "outputs": [
    {
     "name": "stdout",
     "output_type": "stream",
     "text": [
      "mean squared error: 0.652540922164917\n"
     ]
    }
   ],
   "source": [
    "print(f'mean squared error: {mean_squared_error(ytest,ypred)}')"
   ]
  },
  {
   "cell_type": "code",
   "execution_count": null,
   "id": "9b17fd65",
   "metadata": {},
   "outputs": [],
   "source": []
  },
  {
   "cell_type": "code",
   "execution_count": 39,
   "id": "a09c7572",
   "metadata": {},
   "outputs": [],
   "source": [
    "regressor.save_model('/Users/avery/seoproject/pcamse0653.json')"
   ]
  },
  {
   "cell_type": "markdown",
   "id": "5937d190",
   "metadata": {},
   "source": [
    "#### optimization"
   ]
  },
  {
   "cell_type": "code",
   "execution_count": 184,
   "id": "cfba6240",
   "metadata": {
    "scrolled": true
   },
   "outputs": [
    {
     "ename": "KeyboardInterrupt",
     "evalue": "",
     "output_type": "error",
     "traceback": [
      "\u001b[0;31m---------------------------------------------------------------------------\u001b[0m",
      "\u001b[0;31mKeyboardInterrupt\u001b[0m                         Traceback (most recent call last)",
      "Input \u001b[0;32mIn [184]\u001b[0m, in \u001b[0;36m<cell line: 4>\u001b[0;34m()\u001b[0m\n\u001b[1;32m      1\u001b[0m param_grid \u001b[38;5;241m=\u001b[39m {\u001b[38;5;124m'\u001b[39m\u001b[38;5;124mn_estimators\u001b[39m\u001b[38;5;124m'\u001b[39m: [\u001b[38;5;241m50\u001b[39m,\u001b[38;5;241m100\u001b[39m,\u001b[38;5;241m150\u001b[39m,\u001b[38;5;241m200\u001b[39m], \u001b[38;5;124m'\u001b[39m\u001b[38;5;124mreg_lambda\u001b[39m\u001b[38;5;124m'\u001b[39m: [\u001b[38;5;241m0.5\u001b[39m,\u001b[38;5;241m1\u001b[39m,\u001b[38;5;241m1.5\u001b[39m],\n\u001b[1;32m      2\u001b[0m              \u001b[38;5;124m'\u001b[39m\u001b[38;5;124mgamma\u001b[39m\u001b[38;5;124m'\u001b[39m:[\u001b[38;5;241m0\u001b[39m,\u001b[38;5;241m0.5\u001b[39m,\u001b[38;5;241m1\u001b[39m], \u001b[38;5;124m'\u001b[39m\u001b[38;5;124mmax_depth\u001b[39m\u001b[38;5;124m'\u001b[39m: [\u001b[38;5;241m3\u001b[39m,\u001b[38;5;241m6\u001b[39m,\u001b[38;5;241m10\u001b[39m,\u001b[38;5;241m15\u001b[39m]}\n\u001b[1;32m      3\u001b[0m halving_cv \u001b[38;5;241m=\u001b[39m HalvingGridSearchCV(xgb\u001b[38;5;241m.\u001b[39mXGBRegressor(), param_grid, scoring\u001b[38;5;241m=\u001b[39m\u001b[38;5;124m\"\u001b[39m\u001b[38;5;124mneg_mean_squared_error\u001b[39m\u001b[38;5;124m\"\u001b[39m, n_jobs\u001b[38;5;241m=\u001b[39m\u001b[38;5;241m-\u001b[39m\u001b[38;5;241m1\u001b[39m, min_resources\u001b[38;5;241m=\u001b[39m\u001b[38;5;124m\"\u001b[39m\u001b[38;5;124mexhaust\u001b[39m\u001b[38;5;124m\"\u001b[39m, factor\u001b[38;5;241m=\u001b[39m\u001b[38;5;241m3\u001b[39m)\n\u001b[0;32m----> 4\u001b[0m \u001b[43mhalving_cv\u001b[49m\u001b[38;5;241;43m.\u001b[39;49m\u001b[43mfit\u001b[49m\u001b[43m(\u001b[49m\u001b[43mxtrain\u001b[49m\u001b[43m,\u001b[49m\u001b[43mytrain\u001b[49m\u001b[43m)\u001b[49m\n\u001b[1;32m      5\u001b[0m regressor \u001b[38;5;241m=\u001b[39m xgb\u001b[38;5;241m.\u001b[39mXGBRegressor(\n\u001b[1;32m      6\u001b[0m     n_estimators\u001b[38;5;241m=\u001b[39mhalving_cv\u001b[38;5;241m.\u001b[39mbest_params_[\u001b[38;5;124m'\u001b[39m\u001b[38;5;124mn_estimators\u001b[39m\u001b[38;5;124m'\u001b[39m],\n\u001b[1;32m      7\u001b[0m     reg_lambda\u001b[38;5;241m=\u001b[39mhalving_cv\u001b[38;5;241m.\u001b[39mbest_params_[\u001b[38;5;124m'\u001b[39m\u001b[38;5;124mreg_lambda\u001b[39m\u001b[38;5;124m'\u001b[39m],\n\u001b[1;32m      8\u001b[0m     gamma\u001b[38;5;241m=\u001b[39mhalving_cv\u001b[38;5;241m.\u001b[39mbest_params_[\u001b[38;5;124m'\u001b[39m\u001b[38;5;124mgamma\u001b[39m\u001b[38;5;124m'\u001b[39m],\n\u001b[1;32m      9\u001b[0m     max_depth\u001b[38;5;241m=\u001b[39mhalving_cv\u001b[38;5;241m.\u001b[39mbest_params_[\u001b[38;5;124m'\u001b[39m\u001b[38;5;124mmax_depth\u001b[39m\u001b[38;5;124m'\u001b[39m]\n\u001b[1;32m     10\u001b[0m )\n\u001b[1;32m     12\u001b[0m regressor\u001b[38;5;241m.\u001b[39mfit(xtrain,ytrain)\n",
      "File \u001b[0;32m~/miniforge3/envs/a211env/lib/python3.8/site-packages/sklearn/base.py:1151\u001b[0m, in \u001b[0;36m_fit_context.<locals>.decorator.<locals>.wrapper\u001b[0;34m(estimator, *args, **kwargs)\u001b[0m\n\u001b[1;32m   1144\u001b[0m     estimator\u001b[38;5;241m.\u001b[39m_validate_params()\n\u001b[1;32m   1146\u001b[0m \u001b[38;5;28;01mwith\u001b[39;00m config_context(\n\u001b[1;32m   1147\u001b[0m     skip_parameter_validation\u001b[38;5;241m=\u001b[39m(\n\u001b[1;32m   1148\u001b[0m         prefer_skip_nested_validation \u001b[38;5;129;01mor\u001b[39;00m global_skip_validation\n\u001b[1;32m   1149\u001b[0m     )\n\u001b[1;32m   1150\u001b[0m ):\n\u001b[0;32m-> 1151\u001b[0m     \u001b[38;5;28;01mreturn\u001b[39;00m \u001b[43mfit_method\u001b[49m\u001b[43m(\u001b[49m\u001b[43mestimator\u001b[49m\u001b[43m,\u001b[49m\u001b[43m \u001b[49m\u001b[38;5;241;43m*\u001b[39;49m\u001b[43margs\u001b[49m\u001b[43m,\u001b[49m\u001b[43m \u001b[49m\u001b[38;5;241;43m*\u001b[39;49m\u001b[38;5;241;43m*\u001b[39;49m\u001b[43mkwargs\u001b[49m\u001b[43m)\u001b[49m\n",
      "File \u001b[0;32m~/miniforge3/envs/a211env/lib/python3.8/site-packages/sklearn/model_selection/_search_successive_halving.py:257\u001b[0m, in \u001b[0;36mBaseSuccessiveHalving.fit\u001b[0;34m(self, X, y, groups, **fit_params)\u001b[0m\n\u001b[1;32m    249\u001b[0m \u001b[38;5;28mself\u001b[39m\u001b[38;5;241m.\u001b[39m_check_input_parameters(\n\u001b[1;32m    250\u001b[0m     X\u001b[38;5;241m=\u001b[39mX,\n\u001b[1;32m    251\u001b[0m     y\u001b[38;5;241m=\u001b[39my,\n\u001b[1;32m    252\u001b[0m     groups\u001b[38;5;241m=\u001b[39mgroups,\n\u001b[1;32m    253\u001b[0m )\n\u001b[1;32m    255\u001b[0m \u001b[38;5;28mself\u001b[39m\u001b[38;5;241m.\u001b[39m_n_samples_orig \u001b[38;5;241m=\u001b[39m _num_samples(X)\n\u001b[0;32m--> 257\u001b[0m \u001b[38;5;28;43msuper\u001b[39;49m\u001b[43m(\u001b[49m\u001b[43m)\u001b[49m\u001b[38;5;241;43m.\u001b[39;49m\u001b[43mfit\u001b[49m\u001b[43m(\u001b[49m\u001b[43mX\u001b[49m\u001b[43m,\u001b[49m\u001b[43m \u001b[49m\u001b[43my\u001b[49m\u001b[38;5;241;43m=\u001b[39;49m\u001b[43my\u001b[49m\u001b[43m,\u001b[49m\u001b[43m \u001b[49m\u001b[43mgroups\u001b[49m\u001b[38;5;241;43m=\u001b[39;49m\u001b[43mgroups\u001b[49m\u001b[43m,\u001b[49m\u001b[43m \u001b[49m\u001b[38;5;241;43m*\u001b[39;49m\u001b[38;5;241;43m*\u001b[39;49m\u001b[43mfit_params\u001b[49m\u001b[43m)\u001b[49m\n\u001b[1;32m    259\u001b[0m \u001b[38;5;66;03m# Set best_score_: BaseSearchCV does not set it, as refit is a callable\u001b[39;00m\n\u001b[1;32m    260\u001b[0m \u001b[38;5;28mself\u001b[39m\u001b[38;5;241m.\u001b[39mbest_score_ \u001b[38;5;241m=\u001b[39m \u001b[38;5;28mself\u001b[39m\u001b[38;5;241m.\u001b[39mcv_results_[\u001b[38;5;124m\"\u001b[39m\u001b[38;5;124mmean_test_score\u001b[39m\u001b[38;5;124m\"\u001b[39m][\u001b[38;5;28mself\u001b[39m\u001b[38;5;241m.\u001b[39mbest_index_]\n",
      "File \u001b[0;32m~/miniforge3/envs/a211env/lib/python3.8/site-packages/sklearn/base.py:1151\u001b[0m, in \u001b[0;36m_fit_context.<locals>.decorator.<locals>.wrapper\u001b[0;34m(estimator, *args, **kwargs)\u001b[0m\n\u001b[1;32m   1144\u001b[0m     estimator\u001b[38;5;241m.\u001b[39m_validate_params()\n\u001b[1;32m   1146\u001b[0m \u001b[38;5;28;01mwith\u001b[39;00m config_context(\n\u001b[1;32m   1147\u001b[0m     skip_parameter_validation\u001b[38;5;241m=\u001b[39m(\n\u001b[1;32m   1148\u001b[0m         prefer_skip_nested_validation \u001b[38;5;129;01mor\u001b[39;00m global_skip_validation\n\u001b[1;32m   1149\u001b[0m     )\n\u001b[1;32m   1150\u001b[0m ):\n\u001b[0;32m-> 1151\u001b[0m     \u001b[38;5;28;01mreturn\u001b[39;00m \u001b[43mfit_method\u001b[49m\u001b[43m(\u001b[49m\u001b[43mestimator\u001b[49m\u001b[43m,\u001b[49m\u001b[43m \u001b[49m\u001b[38;5;241;43m*\u001b[39;49m\u001b[43margs\u001b[49m\u001b[43m,\u001b[49m\u001b[43m \u001b[49m\u001b[38;5;241;43m*\u001b[39;49m\u001b[38;5;241;43m*\u001b[39;49m\u001b[43mkwargs\u001b[49m\u001b[43m)\u001b[49m\n",
      "File \u001b[0;32m~/miniforge3/envs/a211env/lib/python3.8/site-packages/sklearn/model_selection/_search.py:898\u001b[0m, in \u001b[0;36mBaseSearchCV.fit\u001b[0;34m(self, X, y, groups, **fit_params)\u001b[0m\n\u001b[1;32m    892\u001b[0m     results \u001b[38;5;241m=\u001b[39m \u001b[38;5;28mself\u001b[39m\u001b[38;5;241m.\u001b[39m_format_results(\n\u001b[1;32m    893\u001b[0m         all_candidate_params, n_splits, all_out, all_more_results\n\u001b[1;32m    894\u001b[0m     )\n\u001b[1;32m    896\u001b[0m     \u001b[38;5;28;01mreturn\u001b[39;00m results\n\u001b[0;32m--> 898\u001b[0m \u001b[38;5;28;43mself\u001b[39;49m\u001b[38;5;241;43m.\u001b[39;49m\u001b[43m_run_search\u001b[49m\u001b[43m(\u001b[49m\u001b[43mevaluate_candidates\u001b[49m\u001b[43m)\u001b[49m\n\u001b[1;32m    900\u001b[0m \u001b[38;5;66;03m# multimetric is determined here because in the case of a callable\u001b[39;00m\n\u001b[1;32m    901\u001b[0m \u001b[38;5;66;03m# self.scoring the return type is only known after calling\u001b[39;00m\n\u001b[1;32m    902\u001b[0m first_test_score \u001b[38;5;241m=\u001b[39m all_out[\u001b[38;5;241m0\u001b[39m][\u001b[38;5;124m\"\u001b[39m\u001b[38;5;124mtest_scores\u001b[39m\u001b[38;5;124m\"\u001b[39m]\n",
      "File \u001b[0;32m~/miniforge3/envs/a211env/lib/python3.8/site-packages/sklearn/model_selection/_search_successive_halving.py:361\u001b[0m, in \u001b[0;36mBaseSuccessiveHalving._run_search\u001b[0;34m(self, evaluate_candidates)\u001b[0m\n\u001b[1;32m    354\u001b[0m     cv \u001b[38;5;241m=\u001b[39m \u001b[38;5;28mself\u001b[39m\u001b[38;5;241m.\u001b[39m_checked_cv_orig\n\u001b[1;32m    356\u001b[0m more_results \u001b[38;5;241m=\u001b[39m {\n\u001b[1;32m    357\u001b[0m     \u001b[38;5;124m\"\u001b[39m\u001b[38;5;124miter\u001b[39m\u001b[38;5;124m\"\u001b[39m: [itr] \u001b[38;5;241m*\u001b[39m n_candidates,\n\u001b[1;32m    358\u001b[0m     \u001b[38;5;124m\"\u001b[39m\u001b[38;5;124mn_resources\u001b[39m\u001b[38;5;124m\"\u001b[39m: [n_resources] \u001b[38;5;241m*\u001b[39m n_candidates,\n\u001b[1;32m    359\u001b[0m }\n\u001b[0;32m--> 361\u001b[0m results \u001b[38;5;241m=\u001b[39m \u001b[43mevaluate_candidates\u001b[49m\u001b[43m(\u001b[49m\n\u001b[1;32m    362\u001b[0m \u001b[43m    \u001b[49m\u001b[43mcandidate_params\u001b[49m\u001b[43m,\u001b[49m\u001b[43m \u001b[49m\u001b[43mcv\u001b[49m\u001b[43m,\u001b[49m\u001b[43m \u001b[49m\u001b[43mmore_results\u001b[49m\u001b[38;5;241;43m=\u001b[39;49m\u001b[43mmore_results\u001b[49m\n\u001b[1;32m    363\u001b[0m \u001b[43m\u001b[49m\u001b[43m)\u001b[49m\n\u001b[1;32m    365\u001b[0m n_candidates_to_keep \u001b[38;5;241m=\u001b[39m ceil(n_candidates \u001b[38;5;241m/\u001b[39m \u001b[38;5;28mself\u001b[39m\u001b[38;5;241m.\u001b[39mfactor)\n\u001b[1;32m    366\u001b[0m candidate_params \u001b[38;5;241m=\u001b[39m _top_k(results, n_candidates_to_keep, itr)\n",
      "File \u001b[0;32m~/miniforge3/envs/a211env/lib/python3.8/site-packages/sklearn/model_selection/_search.py:845\u001b[0m, in \u001b[0;36mBaseSearchCV.fit.<locals>.evaluate_candidates\u001b[0;34m(candidate_params, cv, more_results)\u001b[0m\n\u001b[1;32m    837\u001b[0m \u001b[38;5;28;01mif\u001b[39;00m \u001b[38;5;28mself\u001b[39m\u001b[38;5;241m.\u001b[39mverbose \u001b[38;5;241m>\u001b[39m \u001b[38;5;241m0\u001b[39m:\n\u001b[1;32m    838\u001b[0m     \u001b[38;5;28mprint\u001b[39m(\n\u001b[1;32m    839\u001b[0m         \u001b[38;5;124m\"\u001b[39m\u001b[38;5;124mFitting \u001b[39m\u001b[38;5;132;01m{0}\u001b[39;00m\u001b[38;5;124m folds for each of \u001b[39m\u001b[38;5;132;01m{1}\u001b[39;00m\u001b[38;5;124m candidates,\u001b[39m\u001b[38;5;124m\"\u001b[39m\n\u001b[1;32m    840\u001b[0m         \u001b[38;5;124m\"\u001b[39m\u001b[38;5;124m totalling \u001b[39m\u001b[38;5;132;01m{2}\u001b[39;00m\u001b[38;5;124m fits\u001b[39m\u001b[38;5;124m\"\u001b[39m\u001b[38;5;241m.\u001b[39mformat(\n\u001b[1;32m    841\u001b[0m             n_splits, n_candidates, n_candidates \u001b[38;5;241m*\u001b[39m n_splits\n\u001b[1;32m    842\u001b[0m         )\n\u001b[1;32m    843\u001b[0m     )\n\u001b[0;32m--> 845\u001b[0m out \u001b[38;5;241m=\u001b[39m \u001b[43mparallel\u001b[49m\u001b[43m(\u001b[49m\n\u001b[1;32m    846\u001b[0m \u001b[43m    \u001b[49m\u001b[43mdelayed\u001b[49m\u001b[43m(\u001b[49m\u001b[43m_fit_and_score\u001b[49m\u001b[43m)\u001b[49m\u001b[43m(\u001b[49m\n\u001b[1;32m    847\u001b[0m \u001b[43m        \u001b[49m\u001b[43mclone\u001b[49m\u001b[43m(\u001b[49m\u001b[43mbase_estimator\u001b[49m\u001b[43m)\u001b[49m\u001b[43m,\u001b[49m\n\u001b[1;32m    848\u001b[0m \u001b[43m        \u001b[49m\u001b[43mX\u001b[49m\u001b[43m,\u001b[49m\n\u001b[1;32m    849\u001b[0m \u001b[43m        \u001b[49m\u001b[43my\u001b[49m\u001b[43m,\u001b[49m\n\u001b[1;32m    850\u001b[0m \u001b[43m        \u001b[49m\u001b[43mtrain\u001b[49m\u001b[38;5;241;43m=\u001b[39;49m\u001b[43mtrain\u001b[49m\u001b[43m,\u001b[49m\n\u001b[1;32m    851\u001b[0m \u001b[43m        \u001b[49m\u001b[43mtest\u001b[49m\u001b[38;5;241;43m=\u001b[39;49m\u001b[43mtest\u001b[49m\u001b[43m,\u001b[49m\n\u001b[1;32m    852\u001b[0m \u001b[43m        \u001b[49m\u001b[43mparameters\u001b[49m\u001b[38;5;241;43m=\u001b[39;49m\u001b[43mparameters\u001b[49m\u001b[43m,\u001b[49m\n\u001b[1;32m    853\u001b[0m \u001b[43m        \u001b[49m\u001b[43msplit_progress\u001b[49m\u001b[38;5;241;43m=\u001b[39;49m\u001b[43m(\u001b[49m\u001b[43msplit_idx\u001b[49m\u001b[43m,\u001b[49m\u001b[43m \u001b[49m\u001b[43mn_splits\u001b[49m\u001b[43m)\u001b[49m\u001b[43m,\u001b[49m\n\u001b[1;32m    854\u001b[0m \u001b[43m        \u001b[49m\u001b[43mcandidate_progress\u001b[49m\u001b[38;5;241;43m=\u001b[39;49m\u001b[43m(\u001b[49m\u001b[43mcand_idx\u001b[49m\u001b[43m,\u001b[49m\u001b[43m \u001b[49m\u001b[43mn_candidates\u001b[49m\u001b[43m)\u001b[49m\u001b[43m,\u001b[49m\n\u001b[1;32m    855\u001b[0m \u001b[43m        \u001b[49m\u001b[38;5;241;43m*\u001b[39;49m\u001b[38;5;241;43m*\u001b[39;49m\u001b[43mfit_and_score_kwargs\u001b[49m\u001b[43m,\u001b[49m\n\u001b[1;32m    856\u001b[0m \u001b[43m    \u001b[49m\u001b[43m)\u001b[49m\n\u001b[1;32m    857\u001b[0m \u001b[43m    \u001b[49m\u001b[38;5;28;43;01mfor\u001b[39;49;00m\u001b[43m \u001b[49m\u001b[43m(\u001b[49m\u001b[43mcand_idx\u001b[49m\u001b[43m,\u001b[49m\u001b[43m \u001b[49m\u001b[43mparameters\u001b[49m\u001b[43m)\u001b[49m\u001b[43m,\u001b[49m\u001b[43m \u001b[49m\u001b[43m(\u001b[49m\u001b[43msplit_idx\u001b[49m\u001b[43m,\u001b[49m\u001b[43m \u001b[49m\u001b[43m(\u001b[49m\u001b[43mtrain\u001b[49m\u001b[43m,\u001b[49m\u001b[43m \u001b[49m\u001b[43mtest\u001b[49m\u001b[43m)\u001b[49m\u001b[43m)\u001b[49m\u001b[43m \u001b[49m\u001b[38;5;129;43;01min\u001b[39;49;00m\u001b[43m \u001b[49m\u001b[43mproduct\u001b[49m\u001b[43m(\u001b[49m\n\u001b[1;32m    858\u001b[0m \u001b[43m        \u001b[49m\u001b[38;5;28;43menumerate\u001b[39;49m\u001b[43m(\u001b[49m\u001b[43mcandidate_params\u001b[49m\u001b[43m)\u001b[49m\u001b[43m,\u001b[49m\u001b[43m \u001b[49m\u001b[38;5;28;43menumerate\u001b[39;49m\u001b[43m(\u001b[49m\u001b[43mcv\u001b[49m\u001b[38;5;241;43m.\u001b[39;49m\u001b[43msplit\u001b[49m\u001b[43m(\u001b[49m\u001b[43mX\u001b[49m\u001b[43m,\u001b[49m\u001b[43m \u001b[49m\u001b[43my\u001b[49m\u001b[43m,\u001b[49m\u001b[43m \u001b[49m\u001b[43mgroups\u001b[49m\u001b[43m)\u001b[49m\u001b[43m)\u001b[49m\n\u001b[1;32m    859\u001b[0m \u001b[43m    \u001b[49m\u001b[43m)\u001b[49m\n\u001b[1;32m    860\u001b[0m \u001b[43m\u001b[49m\u001b[43m)\u001b[49m\n\u001b[1;32m    862\u001b[0m \u001b[38;5;28;01mif\u001b[39;00m \u001b[38;5;28mlen\u001b[39m(out) \u001b[38;5;241m<\u001b[39m \u001b[38;5;241m1\u001b[39m:\n\u001b[1;32m    863\u001b[0m     \u001b[38;5;28;01mraise\u001b[39;00m \u001b[38;5;167;01mValueError\u001b[39;00m(\n\u001b[1;32m    864\u001b[0m         \u001b[38;5;124m\"\u001b[39m\u001b[38;5;124mNo fits were performed. \u001b[39m\u001b[38;5;124m\"\u001b[39m\n\u001b[1;32m    865\u001b[0m         \u001b[38;5;124m\"\u001b[39m\u001b[38;5;124mWas the CV iterator empty? \u001b[39m\u001b[38;5;124m\"\u001b[39m\n\u001b[1;32m    866\u001b[0m         \u001b[38;5;124m\"\u001b[39m\u001b[38;5;124mWere there no candidates?\u001b[39m\u001b[38;5;124m\"\u001b[39m\n\u001b[1;32m    867\u001b[0m     )\n",
      "File \u001b[0;32m~/miniforge3/envs/a211env/lib/python3.8/site-packages/sklearn/utils/parallel.py:65\u001b[0m, in \u001b[0;36mParallel.__call__\u001b[0;34m(self, iterable)\u001b[0m\n\u001b[1;32m     60\u001b[0m config \u001b[38;5;241m=\u001b[39m get_config()\n\u001b[1;32m     61\u001b[0m iterable_with_config \u001b[38;5;241m=\u001b[39m (\n\u001b[1;32m     62\u001b[0m     (_with_config(delayed_func, config), args, kwargs)\n\u001b[1;32m     63\u001b[0m     \u001b[38;5;28;01mfor\u001b[39;00m delayed_func, args, kwargs \u001b[38;5;129;01min\u001b[39;00m iterable\n\u001b[1;32m     64\u001b[0m )\n\u001b[0;32m---> 65\u001b[0m \u001b[38;5;28;01mreturn\u001b[39;00m \u001b[38;5;28;43msuper\u001b[39;49m\u001b[43m(\u001b[49m\u001b[43m)\u001b[49m\u001b[38;5;241;43m.\u001b[39;49m\u001b[38;5;21;43m__call__\u001b[39;49m\u001b[43m(\u001b[49m\u001b[43miterable_with_config\u001b[49m\u001b[43m)\u001b[49m\n",
      "File \u001b[0;32m~/miniforge3/envs/a211env/lib/python3.8/site-packages/joblib/parallel.py:1944\u001b[0m, in \u001b[0;36mParallel.__call__\u001b[0;34m(self, iterable)\u001b[0m\n\u001b[1;32m   1938\u001b[0m \u001b[38;5;66;03m# The first item from the output is blank, but it makes the interpreter\u001b[39;00m\n\u001b[1;32m   1939\u001b[0m \u001b[38;5;66;03m# progress until it enters the Try/Except block of the generator and\u001b[39;00m\n\u001b[1;32m   1940\u001b[0m \u001b[38;5;66;03m# reach the first `yield` statement. This starts the aynchronous\u001b[39;00m\n\u001b[1;32m   1941\u001b[0m \u001b[38;5;66;03m# dispatch of the tasks to the workers.\u001b[39;00m\n\u001b[1;32m   1942\u001b[0m \u001b[38;5;28mnext\u001b[39m(output)\n\u001b[0;32m-> 1944\u001b[0m \u001b[38;5;28;01mreturn\u001b[39;00m output \u001b[38;5;28;01mif\u001b[39;00m \u001b[38;5;28mself\u001b[39m\u001b[38;5;241m.\u001b[39mreturn_generator \u001b[38;5;28;01melse\u001b[39;00m \u001b[38;5;28;43mlist\u001b[39;49m\u001b[43m(\u001b[49m\u001b[43moutput\u001b[49m\u001b[43m)\u001b[49m\n",
      "File \u001b[0;32m~/miniforge3/envs/a211env/lib/python3.8/site-packages/joblib/parallel.py:1587\u001b[0m, in \u001b[0;36mParallel._get_outputs\u001b[0;34m(self, iterator, pre_dispatch)\u001b[0m\n\u001b[1;32m   1584\u001b[0m     \u001b[38;5;28;01myield\u001b[39;00m\n\u001b[1;32m   1586\u001b[0m     \u001b[38;5;28;01mwith\u001b[39;00m \u001b[38;5;28mself\u001b[39m\u001b[38;5;241m.\u001b[39m_backend\u001b[38;5;241m.\u001b[39mretrieval_context():\n\u001b[0;32m-> 1587\u001b[0m         \u001b[38;5;28;01myield from\u001b[39;00m \u001b[38;5;28mself\u001b[39m\u001b[38;5;241m.\u001b[39m_retrieve()\n\u001b[1;32m   1589\u001b[0m \u001b[38;5;28;01mexcept\u001b[39;00m \u001b[38;5;167;01mGeneratorExit\u001b[39;00m:\n\u001b[1;32m   1590\u001b[0m     \u001b[38;5;66;03m# The generator has been garbage collected before being fully\u001b[39;00m\n\u001b[1;32m   1591\u001b[0m     \u001b[38;5;66;03m# consumed. This aborts the remaining tasks if possible and warn\u001b[39;00m\n\u001b[1;32m   1592\u001b[0m     \u001b[38;5;66;03m# the user if necessary.\u001b[39;00m\n\u001b[1;32m   1593\u001b[0m     \u001b[38;5;28mself\u001b[39m\u001b[38;5;241m.\u001b[39m_exception \u001b[38;5;241m=\u001b[39m \u001b[38;5;28;01mTrue\u001b[39;00m\n",
      "File \u001b[0;32m~/miniforge3/envs/a211env/lib/python3.8/site-packages/joblib/parallel.py:1699\u001b[0m, in \u001b[0;36mParallel._retrieve\u001b[0;34m(self)\u001b[0m\n\u001b[1;32m   1694\u001b[0m \u001b[38;5;66;03m# If the next job is not ready for retrieval yet, we just wait for\u001b[39;00m\n\u001b[1;32m   1695\u001b[0m \u001b[38;5;66;03m# async callbacks to progress.\u001b[39;00m\n\u001b[1;32m   1696\u001b[0m \u001b[38;5;28;01mif\u001b[39;00m ((\u001b[38;5;28mlen\u001b[39m(\u001b[38;5;28mself\u001b[39m\u001b[38;5;241m.\u001b[39m_jobs) \u001b[38;5;241m==\u001b[39m \u001b[38;5;241m0\u001b[39m) \u001b[38;5;129;01mor\u001b[39;00m\n\u001b[1;32m   1697\u001b[0m     (\u001b[38;5;28mself\u001b[39m\u001b[38;5;241m.\u001b[39m_jobs[\u001b[38;5;241m0\u001b[39m]\u001b[38;5;241m.\u001b[39mget_status(\n\u001b[1;32m   1698\u001b[0m         timeout\u001b[38;5;241m=\u001b[39m\u001b[38;5;28mself\u001b[39m\u001b[38;5;241m.\u001b[39mtimeout) \u001b[38;5;241m==\u001b[39m TASK_PENDING)):\n\u001b[0;32m-> 1699\u001b[0m     \u001b[43mtime\u001b[49m\u001b[38;5;241;43m.\u001b[39;49m\u001b[43msleep\u001b[49m\u001b[43m(\u001b[49m\u001b[38;5;241;43m0.01\u001b[39;49m\u001b[43m)\u001b[49m\n\u001b[1;32m   1700\u001b[0m     \u001b[38;5;28;01mcontinue\u001b[39;00m\n\u001b[1;32m   1702\u001b[0m \u001b[38;5;66;03m# We need to be careful: the job list can be filling up as\u001b[39;00m\n\u001b[1;32m   1703\u001b[0m \u001b[38;5;66;03m# we empty it and Python list are not thread-safe by\u001b[39;00m\n\u001b[1;32m   1704\u001b[0m \u001b[38;5;66;03m# default hence the use of the lock\u001b[39;00m\n",
      "\u001b[0;31mKeyboardInterrupt\u001b[0m: "
     ]
    }
   ],
   "source": [
    "param_grid = {'n_estimators': [50,100,150,200], 'reg_lambda': [0.5,1,1.5],\n",
    "             'gamma':[0,0.5,1], 'max_depth': [3,6,10,15]}\n",
    "halving_cv = HalvingGridSearchCV(xgb.XGBRegressor(), param_grid, scoring=\"neg_mean_squared_error\", n_jobs=-1, min_resources=\"exhaust\", factor=3)\n",
    "halving_cv.fit(xtrain,ytrain)\n",
    "regressor = xgb.XGBRegressor(\n",
    "    n_estimators=halving_cv.best_params_['n_estimators'],\n",
    "    reg_lambda=halving_cv.best_params_['reg_lambda'],\n",
    "    gamma=halving_cv.best_params_['gamma'],\n",
    "    max_depth=halving_cv.best_params_['max_depth']\n",
    ")\n",
    "\n",
    "regressor.fit(xtrain,ytrain)\n",
    "ypred = regressor.predict(xtest)\n",
    "print(f'mean squared error: {mean_squared_error(ytest,ypred)}')\n",
    "\n",
    "n4pcahvmsr = mean_squared_error(ytest,ypred)"
   ]
  },
  {
   "cell_type": "code",
   "execution_count": 57,
   "id": "acdbece5",
   "metadata": {},
   "outputs": [
    {
     "name": "stdout",
     "output_type": "stream",
     "text": [
      "1.0242241621017456 at {'gamma': 1, 'max_depth': 10, 'n_estimators': 100, 'reg_lambda': 1.5}\n"
     ]
    }
   ],
   "source": [
    "print(f'{n3pcahvmsr} at {halving_cv.best_params_}') #n_components = 3"
   ]
  },
  {
   "cell_type": "markdown",
   "id": "4f270476",
   "metadata": {},
   "source": [
    "#### gridsearchcv"
   ]
  },
  {
   "cell_type": "code",
   "execution_count": 186,
   "id": "0fb55e97",
   "metadata": {},
   "outputs": [
    {
     "name": "stdout",
     "output_type": "stream",
     "text": [
      "mean squared error: 1.3833354711532593\n",
      "CPU times: user 4min 32s, sys: 2.44 s, total: 4min 35s\n",
      "Wall time: 35.6 s\n"
     ]
    }
   ],
   "source": [
    "%%time\n",
    "\n",
    "gridsearch = GridSearchCV(XGBRegressor(), param_grid, scoring=\"neg_mean_squared_error\")\n",
    "\n",
    "gridsearch.fit(xtrain, ytrain)\n",
    "\n",
    "test = xgb.XGBRegressor(\n",
    "    n_estimators=gridsearch.best_params_['n_estimators'],\n",
    "    reg_lambda=gridsearch.best_params_['reg_lambda'],\n",
    "    gamma=gridsearch.best_params_['gamma'],\n",
    "    max_depth=gridsearch.best_params_['max_depth']\n",
    ")\n",
    "\n",
    "test.fit(xtrain,ytrain)\n",
    "ypred = test.predict(xtest)\n",
    "print(f'mean squared error: {mean_squared_error(ytest,ypred)}')\n",
    "\n",
    "n4pcagdmsr = mean_squared_error(ytest,ypred)"
   ]
  },
  {
   "cell_type": "code",
   "execution_count": 78,
   "id": "5fa4ad9c",
   "metadata": {},
   "outputs": [
    {
     "name": "stdout",
     "output_type": "stream",
     "text": [
      "mean squared error: 6.066430568695068\n"
     ]
    }
   ],
   "source": [
    "tregressor = xgb.XGBRegressor(\n",
    "    n_estimators=100,\n",
    "    reg_lambda=0.5,\n",
    "    gamma=0.5,\n",
    "    max_depth=6\n",
    ")\n",
    "\n",
    "tregressor.fit(xtrain,ytrain)\n",
    "ypred = tregressor.predict(xtest)\n",
    "print(f'mean squared error: {mean_squared_error(ytest,ypred)}')"
   ]
  },
  {
   "cell_type": "code",
   "execution_count": 123,
   "id": "0b096625",
   "metadata": {},
   "outputs": [],
   "source": [
    "results = {'regressor type':['default', 'halvinggridsearchcv', 'gridsearchcv'],'StandardScaler': [stdmsr, sthvmsr, stgdmsr], '2-component PCA': [n2pcamsr, n2pcahvmsr, n2pcagdmsr],\n",
    "           '3-component PCA': [n3pcamsr, n3pcahvmsr, n3pcagdmsr], '4-component PCA':[n4pcamsr, n4pcahvmsr, n4pcagdmsr]}\n",
    "\n"
   ]
  },
  {
   "cell_type": "code",
   "execution_count": 124,
   "id": "8e4b7095",
   "metadata": {},
   "outputs": [],
   "source": [
    "rdf = pd.DataFrame.from_dict(results)"
   ]
  },
  {
   "cell_type": "code",
   "execution_count": 127,
   "id": "8446b555",
   "metadata": {},
   "outputs": [
    {
     "data": {
      "text/html": [
       "<div>\n",
       "<style scoped>\n",
       "    .dataframe tbody tr th:only-of-type {\n",
       "        vertical-align: middle;\n",
       "    }\n",
       "\n",
       "    .dataframe tbody tr th {\n",
       "        vertical-align: top;\n",
       "    }\n",
       "\n",
       "    .dataframe thead th {\n",
       "        text-align: right;\n",
       "    }\n",
       "</style>\n",
       "<table border=\"1\" class=\"dataframe\">\n",
       "  <thead>\n",
       "    <tr style=\"text-align: right;\">\n",
       "      <th></th>\n",
       "      <th>regressor type</th>\n",
       "      <th>StandardScaler</th>\n",
       "      <th>2-component PCA</th>\n",
       "      <th>3-component PCA</th>\n",
       "      <th>4-component PCA</th>\n",
       "    </tr>\n",
       "  </thead>\n",
       "  <tbody>\n",
       "    <tr>\n",
       "      <th>0</th>\n",
       "      <td>default</td>\n",
       "      <td>23.311676</td>\n",
       "      <td>9.186532</td>\n",
       "      <td>1.103137</td>\n",
       "      <td>3.662132</td>\n",
       "    </tr>\n",
       "    <tr>\n",
       "      <th>1</th>\n",
       "      <td>halvinggridsearchcv</td>\n",
       "      <td>22.397202</td>\n",
       "      <td>9.335927</td>\n",
       "      <td>1.024224</td>\n",
       "      <td>3.405843</td>\n",
       "    </tr>\n",
       "    <tr>\n",
       "      <th>2</th>\n",
       "      <td>gridsearchcv</td>\n",
       "      <td>22.508707</td>\n",
       "      <td>9.700326</td>\n",
       "      <td>2.958178</td>\n",
       "      <td>3.888152</td>\n",
       "    </tr>\n",
       "  </tbody>\n",
       "</table>\n",
       "</div>"
      ],
      "text/plain": [
       "        regressor type  StandardScaler  2-component PCA  3-component PCA  \\\n",
       "0              default       23.311676         9.186532         1.103137   \n",
       "1  halvinggridsearchcv       22.397202         9.335927         1.024224   \n",
       "2         gridsearchcv       22.508707         9.700326         2.958178   \n",
       "\n",
       "   4-component PCA  \n",
       "0         3.662132  \n",
       "1         3.405843  \n",
       "2         3.888152  "
      ]
     },
     "execution_count": 127,
     "metadata": {},
     "output_type": "execute_result"
    }
   ],
   "source": [
    "rdf # mean squared error"
   ]
  },
  {
   "cell_type": "code",
   "execution_count": 142,
   "id": "2167fd7f",
   "metadata": {},
   "outputs": [],
   "source": [
    "rdf.to_csv('/Users/avery/seoproject/rmsresults.csv')"
   ]
  },
  {
   "cell_type": "code",
   "execution_count": 141,
   "id": "eab38492",
   "metadata": {},
   "outputs": [
    {
     "data": {
      "text/html": [
       "<div>\n",
       "<style scoped>\n",
       "    .dataframe tbody tr th:only-of-type {\n",
       "        vertical-align: middle;\n",
       "    }\n",
       "\n",
       "    .dataframe tbody tr th {\n",
       "        vertical-align: top;\n",
       "    }\n",
       "\n",
       "    .dataframe thead th {\n",
       "        text-align: right;\n",
       "    }\n",
       "</style>\n",
       "<table border=\"1\" class=\"dataframe\">\n",
       "  <thead>\n",
       "    <tr style=\"text-align: right;\">\n",
       "      <th></th>\n",
       "      <th>regressor type</th>\n",
       "      <th>StandardScaler</th>\n",
       "      <th>2-component PCA</th>\n",
       "      <th>3-component PCA</th>\n",
       "      <th>4-component PCA</th>\n",
       "    </tr>\n",
       "  </thead>\n",
       "  <tbody>\n",
       "    <tr>\n",
       "      <th>0</th>\n",
       "      <td>default</td>\n",
       "      <td>4.828217</td>\n",
       "      <td>3.030929</td>\n",
       "      <td>1.050303</td>\n",
       "      <td>1.913670</td>\n",
       "    </tr>\n",
       "    <tr>\n",
       "      <th>1</th>\n",
       "      <td>halvinggridsearchcv</td>\n",
       "      <td>4.732568</td>\n",
       "      <td>3.055475</td>\n",
       "      <td>1.012040</td>\n",
       "      <td>1.845493</td>\n",
       "    </tr>\n",
       "    <tr>\n",
       "      <th>2</th>\n",
       "      <td>gridsearchcv</td>\n",
       "      <td>4.744334</td>\n",
       "      <td>3.114535</td>\n",
       "      <td>1.719936</td>\n",
       "      <td>1.971840</td>\n",
       "    </tr>\n",
       "  </tbody>\n",
       "</table>\n",
       "</div>"
      ],
      "text/plain": [
       "        regressor type  StandardScaler  2-component PCA  3-component PCA  \\\n",
       "0              default        4.828217         3.030929         1.050303   \n",
       "1  halvinggridsearchcv        4.732568         3.055475         1.012040   \n",
       "2         gridsearchcv        4.744334         3.114535         1.719936   \n",
       "\n",
       "   4-component PCA  \n",
       "0         1.913670  \n",
       "1         1.845493  \n",
       "2         1.971840  "
      ]
     },
     "execution_count": 141,
     "metadata": {},
     "output_type": "execute_result"
    }
   ],
   "source": [
    "rdf # root mean squared error"
   ]
  },
  {
   "cell_type": "markdown",
   "id": "041e6c8f",
   "metadata": {},
   "source": [
    "## Dash"
   ]
  },
  {
   "cell_type": "code",
   "execution_count": 187,
   "id": "423c17dd",
   "metadata": {
    "collapsed": true
   },
   "outputs": [
    {
     "name": "stdout",
     "output_type": "stream",
     "text": [
      "Collecting dash\n",
      "  Downloading dash-2.11.1-py3-none-any.whl (10.4 MB)\n",
      "\u001b[2K     \u001b[90m━━━━━━━━━━━━━━━━━━━━━━━━━━━━━━━━━━━━━━━━\u001b[0m \u001b[32m10.4/10.4 MB\u001b[0m \u001b[31m23.6 MB/s\u001b[0m eta \u001b[36m0:00:00\u001b[0m00:01\u001b[0m0:01\u001b[0m\n",
      "\u001b[?25hRequirement already satisfied: typing-extensions>=4.1.1 in /Users/avery/miniforge3/envs/a211env/lib/python3.8/site-packages (from dash) (4.2.0)\n",
      "Requirement already satisfied: nest-asyncio in /Users/avery/miniforge3/envs/a211env/lib/python3.8/site-packages (from dash) (1.5.4)\n",
      "Requirement already satisfied: Werkzeug<2.3.0 in /Users/avery/miniforge3/envs/a211env/lib/python3.8/site-packages (from dash) (2.1.2)\n",
      "Collecting dash-table==5.0.0\n",
      "  Downloading dash_table-5.0.0-py3-none-any.whl (3.9 kB)\n",
      "Collecting ansi2html\n",
      "  Downloading ansi2html-1.8.0-py3-none-any.whl (16 kB)\n",
      "Collecting Flask<2.3.0,>=1.0.4\n",
      "  Downloading Flask-2.2.5-py3-none-any.whl (101 kB)\n",
      "\u001b[2K     \u001b[90m━━━━━━━━━━━━━━━━━━━━━━━━━━━━━━━━━━━━━━━\u001b[0m \u001b[32m101.8/101.8 KB\u001b[0m \u001b[31m3.2 MB/s\u001b[0m eta \u001b[36m0:00:00\u001b[0m\n",
      "\u001b[?25hCollecting dash-core-components==2.0.0\n",
      "  Downloading dash_core_components-2.0.0-py3-none-any.whl (3.8 kB)\n",
      "Collecting retrying\n",
      "  Downloading retrying-1.3.4-py3-none-any.whl (11 kB)\n",
      "Requirement already satisfied: requests in /Users/avery/miniforge3/envs/a211env/lib/python3.8/site-packages (from dash) (2.27.1)\n",
      "Collecting dash-html-components==2.0.0\n",
      "  Downloading dash_html_components-2.0.0-py3-none-any.whl (4.1 kB)\n",
      "Collecting plotly>=5.0.0\n",
      "  Downloading plotly-5.15.0-py2.py3-none-any.whl (15.5 MB)\n",
      "\u001b[2K     \u001b[90m━━━━━━━━━━━━━━━━━━━━━━━━━━━━━━━━━━━━━━━━\u001b[0m \u001b[32m15.5/15.5 MB\u001b[0m \u001b[31m29.6 MB/s\u001b[0m eta \u001b[36m0:00:00\u001b[0m00:01\u001b[0m00:01\u001b[0m\n",
      "\u001b[?25hRequirement already satisfied: Jinja2>=3.0 in /Users/avery/miniforge3/envs/a211env/lib/python3.8/site-packages (from Flask<2.3.0,>=1.0.4->dash) (3.0.3)\n",
      "Collecting click>=8.0\n",
      "  Downloading click-8.1.6-py3-none-any.whl (97 kB)\n",
      "\u001b[2K     \u001b[90m━━━━━━━━━━━━━━━━━━━━━━━━━━━━━━━━━━━━━━━━\u001b[0m \u001b[32m97.9/97.9 KB\u001b[0m \u001b[31m3.6 MB/s\u001b[0m eta \u001b[36m0:00:00\u001b[0m\n",
      "\u001b[?25hRequirement already satisfied: importlib-metadata>=3.6.0 in /Users/avery/miniforge3/envs/a211env/lib/python3.8/site-packages (from Flask<2.3.0,>=1.0.4->dash) (4.11.3)\n",
      "Collecting itsdangerous>=2.0\n",
      "  Downloading itsdangerous-2.1.2-py3-none-any.whl (15 kB)\n",
      "Collecting Werkzeug<2.3.0\n",
      "  Downloading Werkzeug-2.2.3-py3-none-any.whl (233 kB)\n",
      "\u001b[2K     \u001b[90m━━━━━━━━━━━━━━━━━━━━━━━━━━━━━━━━━━━━━━━\u001b[0m \u001b[32m233.6/233.6 KB\u001b[0m \u001b[31m7.2 MB/s\u001b[0m eta \u001b[36m0:00:00\u001b[0m\n",
      "\u001b[?25hCollecting tenacity>=6.2.0\n",
      "  Downloading tenacity-8.2.2-py3-none-any.whl (24 kB)\n",
      "Requirement already satisfied: packaging in /Users/avery/miniforge3/envs/a211env/lib/python3.8/site-packages (from plotly>=5.0.0->dash) (21.3)\n",
      "Requirement already satisfied: MarkupSafe>=2.1.1 in /Users/avery/miniforge3/envs/a211env/lib/python3.8/site-packages (from Werkzeug<2.3.0->dash) (2.1.1)\n",
      "Requirement already satisfied: charset-normalizer~=2.0.0 in /Users/avery/miniforge3/envs/a211env/lib/python3.8/site-packages (from requests->dash) (2.0.12)\n",
      "Requirement already satisfied: urllib3<1.27,>=1.21.1 in /Users/avery/miniforge3/envs/a211env/lib/python3.8/site-packages (from requests->dash) (1.26.9)\n",
      "Requirement already satisfied: certifi>=2017.4.17 in /Users/avery/miniforge3/envs/a211env/lib/python3.8/site-packages (from requests->dash) (2023.5.7)\n",
      "Requirement already satisfied: idna<4,>=2.5 in /Users/avery/miniforge3/envs/a211env/lib/python3.8/site-packages (from requests->dash) (3.3)\n",
      "Requirement already satisfied: six>=1.7.0 in /Users/avery/miniforge3/envs/a211env/lib/python3.8/site-packages (from retrying->dash) (1.16.0)\n",
      "Requirement already satisfied: zipp>=0.5 in /Users/avery/miniforge3/envs/a211env/lib/python3.8/site-packages (from importlib-metadata>=3.6.0->Flask<2.3.0,>=1.0.4->dash) (3.7.0)\n",
      "Requirement already satisfied: pyparsing!=3.0.5,>=2.0.2 in /Users/avery/miniforge3/envs/a211env/lib/python3.8/site-packages (from packaging->plotly>=5.0.0->dash) (3.0.7)\n",
      "Installing collected packages: dash-table, dash-html-components, dash-core-components, Werkzeug, tenacity, retrying, itsdangerous, click, ansi2html, plotly, Flask, dash\n",
      "  Attempting uninstall: Werkzeug\n",
      "    Found existing installation: Werkzeug 2.1.2\n",
      "    Uninstalling Werkzeug-2.1.2:\n",
      "      Successfully uninstalled Werkzeug-2.1.2\n",
      "Successfully installed Flask-2.2.5 Werkzeug-2.2.3 ansi2html-1.8.0 click-8.1.6 dash-2.11.1 dash-core-components-2.0.0 dash-html-components-2.0.0 dash-table-5.0.0 itsdangerous-2.1.2 plotly-5.15.0 retrying-1.3.4 tenacity-8.2.2\n",
      "Requirement already satisfied: dash-html-components in /Users/avery/miniforge3/envs/a211env/lib/python3.8/site-packages (2.0.0)\n",
      "Requirement already satisfied: dash-core-components in /Users/avery/miniforge3/envs/a211env/lib/python3.8/site-packages (2.0.0)\n",
      "Requirement already satisfied: plotly in /Users/avery/miniforge3/envs/a211env/lib/python3.8/site-packages (5.15.0)\n",
      "Requirement already satisfied: tenacity>=6.2.0 in /Users/avery/miniforge3/envs/a211env/lib/python3.8/site-packages (from plotly) (8.2.2)\n",
      "Requirement already satisfied: packaging in /Users/avery/miniforge3/envs/a211env/lib/python3.8/site-packages (from plotly) (21.3)\n",
      "Requirement already satisfied: pyparsing!=3.0.5,>=2.0.2 in /Users/avery/miniforge3/envs/a211env/lib/python3.8/site-packages (from packaging->plotly) (3.0.7)\n"
     ]
    }
   ],
   "source": [
    "! pip install dash   \n",
    "! pip install dash-html-components                                         \n",
    "! pip install dash-core-components                                     \n",
    "! pip install plotly"
   ]
  },
  {
   "cell_type": "code",
   "execution_count": 2,
   "id": "0f7ee2bc",
   "metadata": {},
   "outputs": [],
   "source": [
    "from dash import Dash, html, dcc\n",
    "import plotly.express as px"
   ]
  },
  {
   "cell_type": "code",
   "execution_count": 3,
   "id": "a64809fa",
   "metadata": {},
   "outputs": [
    {
     "data": {
      "text/html": [
       "\n",
       "        <iframe\n",
       "            width=\"100%\"\n",
       "            height=\"650\"\n",
       "            src=\"http://127.0.0.1:8050/\"\n",
       "            frameborder=\"0\"\n",
       "            allowfullscreen\n",
       "            \n",
       "        ></iframe>\n",
       "        "
      ],
      "text/plain": [
       "<IPython.lib.display.IFrame at 0x7fa1557944c0>"
      ]
     },
     "metadata": {},
     "output_type": "display_data"
    }
   ],
   "source": [
    "app = Dash(__name__)\n",
    "\n",
    "# assume you have a \"long-form\" data frame\n",
    "# see https://plotly.com/python/px-arguments/ for more options\n",
    "df = pd.DataFrame({\n",
    "    \"Fruit\": [\"Apples\", \"Oranges\", \"Bananas\", \"Apples\", \"Oranges\", \"Bananas\"],\n",
    "    \"Amount\": [4, 1, 2, 2, 4, 5],\n",
    "    \"City\": [\"SF\", \"SF\", \"SF\", \"Montreal\", \"Montreal\", \"Montreal\"]\n",
    "})\n",
    "\n",
    "fig = px.bar(df, x=\"Fruit\", y=\"Amount\", color=\"City\", barmode=\"group\")\n",
    "\n",
    "app.layout = html.Div(children=[\n",
    "    html.H1(children='Hello Dash'),\n",
    "\n",
    "    html.Div(children='''\n",
    "        Dash: A web application framework for your data.\n",
    "    '''),\n",
    "\n",
    "    dcc.Graph(\n",
    "        id='example-graph',\n",
    "        figure=fig\n",
    "    )\n",
    "])\n",
    "\n",
    "if __name__ == '__main__':\n",
    "    app.run(debug=True)"
   ]
  },
  {
   "cell_type": "code",
   "execution_count": null,
   "id": "4484b24f",
   "metadata": {},
   "outputs": [],
   "source": [
    "app = Dash(__name__)\n",
    "\n",
    "app.layout = html.Div([\n",
    "    html.H6(\"Receive median background value prediction.\"),\n",
    "    html.Div([\n",
    "        \"Temperature (°F): \",\n",
    "        dcc.Input(id='my-input', value='initial value', type='text')\n",
    "    ]),\n",
    "    html.Div([\n",
    "        \"Temperature (°F): \",\n",
    "        dcc.Input(id='my-input', value='initial value', type='text')\n",
    "    ]),\n",
    "    html.Br(),\n",
    "    html.Div(id='my-output'),\n",
    "\n",
    "])\n",
    "\n",
    "\n",
    "@callback(\n",
    "    Output(component_id='my-output', component_property='children'),\n",
    "    Input(component_id='my-input', component_property='value')\n",
    ")\n",
    "def update_output_div(input_value):\n",
    "    return f'Output: {input_value}'\n",
    "\n",
    "\n",
    "if __name__ == '__main__':\n",
    "    app.run(debug=True)\n"
   ]
  }
 ],
 "metadata": {
  "kernelspec": {
   "display_name": "Python [conda env:a211env] *",
   "language": "python",
   "name": "conda-env-a211env-py"
  },
  "language_info": {
   "codemirror_mode": {
    "name": "ipython",
    "version": 3
   },
   "file_extension": ".py",
   "mimetype": "text/x-python",
   "name": "python",
   "nbconvert_exporter": "python",
   "pygments_lexer": "ipython3",
   "version": "3.8.17"
  }
 },
 "nbformat": 4,
 "nbformat_minor": 5
}
