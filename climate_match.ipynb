{
 "cells": [
  {
   "cell_type": "markdown",
   "id": "a666305e",
   "metadata": {},
   "source": [
    "# matching climate data to images"
   ]
  },
  {
   "cell_type": "code",
   "execution_count": 1,
   "id": "c1ff8832",
   "metadata": {},
   "outputs": [],
   "source": [
    "import numpy as np\n",
    "import fitsio\n",
    "import os\n",
    "import pandas as pd\n",
    "import astropy.stats\n",
    "import sep\n",
    "import scipy\n",
    "from scipy import ndimage\n",
    "import matplotlib.pyplot as plt"
   ]
  },
  {
   "cell_type": "code",
   "execution_count": 2,
   "id": "8c15a650",
   "metadata": {},
   "outputs": [],
   "source": [
    "fpath = '/Users/avery/seoproject/filenames.csv'\n",
    "fnames = pd.read_csv(fpath)\n",
    "fn = fnames['filename']"
   ]
  },
  {
   "cell_type": "code",
   "execution_count": 3,
   "id": "eeac0480",
   "metadata": {},
   "outputs": [],
   "source": [
    "cpath = '/Users/avery/seoproject/climatedata/weathvalse3.csv'\n",
    "df = pd.read_csv(cpath)"
   ]
  },
  {
   "cell_type": "code",
   "execution_count": 4,
   "id": "9c35c547",
   "metadata": {},
   "outputs": [],
   "source": [
    "newdates = []\n",
    "\n",
    "for d in range(0, len(df['Date'])):\n",
    "    date = df['Date'][d]\n",
    "    sp = date.split('/')\n",
    "    if len(sp[1])==1:\n",
    "        newval = sp[2]+'0'+sp[0]+'0'+sp[1]\n",
    "    else:\n",
    "        newval = sp[2]+'0'+sp[0]+sp[1]\n",
    "    newdates.append(newval)\n",
    "    \n",
    "df['date ymd'] = newdates"
   ]
  },
  {
   "cell_type": "code",
   "execution_count": 5,
   "id": "d33f8d07",
   "metadata": {},
   "outputs": [],
   "source": [
    "rtimes = []\n",
    "\n",
    "for i in range(0,len(fn)):\n",
    "    s = fn[i].split('_')\n",
    "    if len(s)==10:\n",
    "        sp = s[5]\n",
    "    else:\n",
    "        d = (len(s)/2) - 5\n",
    "        idx = 5 + d*2\n",
    "        sp = s[int(idx)]\n",
    "    #     if len(s)==12:\n",
    "    #         sp = s[7]\n",
    "    #     if len(s)==14:\n",
    "    #         sp = s[10]\n",
    "    if sp[:1]=='0':\n",
    "        t = sp[1:4]\n",
    "    else:\n",
    "        t = sp[:4]\n",
    "#     print(sp)\n",
    "    rtimes.append(int(round(int(t),-2)))"
   ]
  },
  {
   "cell_type": "code",
   "execution_count": 6,
   "id": "e5c1277c",
   "metadata": {},
   "outputs": [],
   "source": [
    "fdates = []\n",
    "\n",
    "for i in range(0,len(fn)):\n",
    "    s = fn[i].split('_')\n",
    "    if len(s)==10:\n",
    "        sp = s[4]\n",
    "    else:\n",
    "        d = (len(s)/2) - 5\n",
    "        idx = 5 + d*2 - 1\n",
    "        sp = s[int(idx)]\n",
    "\n",
    "    fdates.append(sp)"
   ]
  },
  {
   "cell_type": "code",
   "execution_count": 7,
   "id": "d32016c4",
   "metadata": {},
   "outputs": [],
   "source": [
    "x=np.isin(df['Time'],rtimes)\n",
    "df2 = df[x]"
   ]
  },
  {
   "cell_type": "code",
   "execution_count": 8,
   "id": "aab5d88b",
   "metadata": {},
   "outputs": [],
   "source": [
    "y = np.isin(df2['date ymd'], fdates)\n",
    "df3 = df2[y]"
   ]
  },
  {
   "cell_type": "code",
   "execution_count": 9,
   "id": "1c1e27eb",
   "metadata": {},
   "outputs": [
    {
     "data": {
      "text/html": [
       "<div>\n",
       "<style scoped>\n",
       "    .dataframe tbody tr th:only-of-type {\n",
       "        vertical-align: middle;\n",
       "    }\n",
       "\n",
       "    .dataframe tbody tr th {\n",
       "        vertical-align: top;\n",
       "    }\n",
       "\n",
       "    .dataframe thead th {\n",
       "        text-align: right;\n",
       "    }\n",
       "</style>\n",
       "<table border=\"1\" class=\"dataframe\">\n",
       "  <thead>\n",
       "    <tr style=\"text-align: right;\">\n",
       "      <th></th>\n",
       "      <th>Date</th>\n",
       "      <th>Time</th>\n",
       "      <th>Temp (°F)</th>\n",
       "      <th>RH (%)</th>\n",
       "      <th>Wind Spd (mph)</th>\n",
       "      <th>Wind Dir (°)</th>\n",
       "      <th>date ymd</th>\n",
       "    </tr>\n",
       "  </thead>\n",
       "  <tbody>\n",
       "    <tr>\n",
       "      <th>35</th>\n",
       "      <td>6/1/23</td>\n",
       "      <td>1200</td>\n",
       "      <td>67.0</td>\n",
       "      <td>58</td>\n",
       "      <td>4.3</td>\n",
       "      <td>S | 181</td>\n",
       "      <td>230601</td>\n",
       "    </tr>\n",
       "    <tr>\n",
       "      <th>36</th>\n",
       "      <td>6/1/23</td>\n",
       "      <td>1100</td>\n",
       "      <td>65.0</td>\n",
       "      <td>61</td>\n",
       "      <td>2.7</td>\n",
       "      <td>SSE | 164</td>\n",
       "      <td>230601</td>\n",
       "    </tr>\n",
       "    <tr>\n",
       "      <th>37</th>\n",
       "      <td>6/1/23</td>\n",
       "      <td>1000</td>\n",
       "      <td>62.0</td>\n",
       "      <td>66</td>\n",
       "      <td>2.3</td>\n",
       "      <td>SE | 133</td>\n",
       "      <td>230601</td>\n",
       "    </tr>\n",
       "    <tr>\n",
       "      <th>38</th>\n",
       "      <td>6/1/23</td>\n",
       "      <td>900</td>\n",
       "      <td>57.4</td>\n",
       "      <td>76</td>\n",
       "      <td>1.9</td>\n",
       "      <td>S | 172</td>\n",
       "      <td>230601</td>\n",
       "    </tr>\n",
       "    <tr>\n",
       "      <th>39</th>\n",
       "      <td>6/1/23</td>\n",
       "      <td>800</td>\n",
       "      <td>54.6</td>\n",
       "      <td>83</td>\n",
       "      <td>1.0</td>\n",
       "      <td>SW | 227</td>\n",
       "      <td>230601</td>\n",
       "    </tr>\n",
       "    <tr>\n",
       "      <th>...</th>\n",
       "      <td>...</td>\n",
       "      <td>...</td>\n",
       "      <td>...</td>\n",
       "      <td>...</td>\n",
       "      <td>...</td>\n",
       "      <td>...</td>\n",
       "      <td>...</td>\n",
       "    </tr>\n",
       "    <tr>\n",
       "      <th>2200</th>\n",
       "      <td>3/3/23</td>\n",
       "      <td>600</td>\n",
       "      <td>34.9</td>\n",
       "      <td>93</td>\n",
       "      <td>0.0</td>\n",
       "      <td>N | 0</td>\n",
       "      <td>230303</td>\n",
       "    </tr>\n",
       "    <tr>\n",
       "      <th>2201</th>\n",
       "      <td>3/3/23</td>\n",
       "      <td>500</td>\n",
       "      <td>36.7</td>\n",
       "      <td>95</td>\n",
       "      <td>0.1</td>\n",
       "      <td>E | 80</td>\n",
       "      <td>230303</td>\n",
       "    </tr>\n",
       "    <tr>\n",
       "      <th>2202</th>\n",
       "      <td>3/3/23</td>\n",
       "      <td>400</td>\n",
       "      <td>36.8</td>\n",
       "      <td>94</td>\n",
       "      <td>0.2</td>\n",
       "      <td>E | 85</td>\n",
       "      <td>230303</td>\n",
       "    </tr>\n",
       "    <tr>\n",
       "      <th>2203</th>\n",
       "      <td>3/3/23</td>\n",
       "      <td>300</td>\n",
       "      <td>36.8</td>\n",
       "      <td>92</td>\n",
       "      <td>0.3</td>\n",
       "      <td>E | 100</td>\n",
       "      <td>230303</td>\n",
       "    </tr>\n",
       "    <tr>\n",
       "      <th>2204</th>\n",
       "      <td>3/3/23</td>\n",
       "      <td>200</td>\n",
       "      <td>38.2</td>\n",
       "      <td>92</td>\n",
       "      <td>0.6</td>\n",
       "      <td>ESE | 110</td>\n",
       "      <td>230303</td>\n",
       "    </tr>\n",
       "  </tbody>\n",
       "</table>\n",
       "<p>165 rows × 7 columns</p>\n",
       "</div>"
      ],
      "text/plain": [
       "        Date  Time  Temp (°F)  RH (%)  Wind Spd (mph) Wind Dir (°) date ymd\n",
       "35    6/1/23  1200       67.0      58             4.3      S | 181   230601\n",
       "36    6/1/23  1100       65.0      61             2.7    SSE | 164   230601\n",
       "37    6/1/23  1000       62.0      66             2.3     SE | 133   230601\n",
       "38    6/1/23   900       57.4      76             1.9      S | 172   230601\n",
       "39    6/1/23   800       54.6      83             1.0     SW | 227   230601\n",
       "...      ...   ...        ...     ...             ...          ...      ...\n",
       "2200  3/3/23   600       34.9      93             0.0        N | 0   230303\n",
       "2201  3/3/23   500       36.7      95             0.1       E | 80   230303\n",
       "2202  3/3/23   400       36.8      94             0.2       E | 85   230303\n",
       "2203  3/3/23   300       36.8      92             0.3      E | 100   230303\n",
       "2204  3/3/23   200       38.2      92             0.6    ESE | 110   230303\n",
       "\n",
       "[165 rows x 7 columns]"
      ]
     },
     "execution_count": 9,
     "metadata": {},
     "output_type": "execute_result"
    }
   ],
   "source": [
    "df3"
   ]
  },
  {
   "cell_type": "markdown",
   "id": "00b894d9",
   "metadata": {},
   "source": [
    "the reason for using return_inverse instead of return_index is that return_inverse outputs an array the shape of the inputted array with the values set to the value's index in the unique array. return_index outputs an array the shape of the unique array with the index of the value's first occurence in the original inputted array."
   ]
  },
  {
   "cell_type": "code",
   "execution_count": 9,
   "id": "5a4427df",
   "metadata": {},
   "outputs": [
    {
     "name": "stderr",
     "output_type": "stream",
     "text": [
      "/var/folders/dn/860znfzd5g994cf8xvnckf1r0000gp/T/ipykernel_24982/583372194.py:3: UserWarning: Boolean Series key will be reindexed to match DataFrame index.\n",
      "  fndf = df3[df3['date ymd']==fdates[i]][df3['Time']==rtimes[i]]\n"
     ]
    }
   ],
   "source": [
    "fndt = {}\n",
    "for i in range(0,len(rtimes)):\n",
    "    fndf = df3[df3['date ymd']==fdates[i]][df3['Time']==rtimes[i]]\n",
    "    fndt[i]=fndf\n",
    "    \n",
    "# for i in range(0,len(rtimes)):\n",
    "#     if fndt[i].empty:\n",
    "#         fndt[i]='noclimdata'"
   ]
  },
  {
   "cell_type": "code",
   "execution_count": 42,
   "id": "25e36da1",
   "metadata": {},
   "outputs": [
    {
     "data": {
      "text/plain": [
       "{0:         Date  Time  Temp (°F)  RH (%)  Wind Spd (mph) Wind Dir (°) date ymd\n",
       " 1503  4/1/23   800       39.1      95             0.0        N | 0   230401,\n",
       " 1:         Date  Time  Temp (°F)  RH (%)  Wind Spd (mph) Wind Dir (°) date ymd\n",
       " 2083  3/8/23   300       45.2      90             2.9      S | 178   230308,\n",
       " 2:         Date  Time  Temp (°F)  RH (%)  Wind Spd (mph) Wind Dir (°) date ymd\n",
       " 2195  3/3/23  1100       53.1      63             2.9      S | 190   230303,\n",
       " 3:         Date  Time  Temp (°F)  RH (%)  Wind Spd (mph) Wind Dir (°) date ymd\n",
       " 2196  3/3/23  1000       49.6      74             4.8    SSE | 166   230303,\n",
       " 4:         Date  Time  Temp (°F)  RH (%)  Wind Spd (mph) Wind Dir (°) date ymd\n",
       " 353  5/19/23   600       47.2      94             0.0     ENE | 64   230519,\n",
       " 5:         Date  Time  Temp (°F)  RH (%)  Wind Spd (mph) Wind Dir (°) date ymd\n",
       " 1456  4/3/23   700       39.1      66             4.5     NW | 319   230403,\n",
       " 6:         Date  Time  Temp (°F)  RH (%)  Wind Spd (mph) Wind Dir (°) date ymd\n",
       " 2083  3/8/23   300       45.2      90             2.9      S | 178   230308,\n",
       " 7:          Date  Time  Temp (°F)  RH (%)  Wind Spd (mph) Wind Dir (°) date ymd\n",
       " 1649  3/26/23   600       36.1      77             2.0     NW | 318   230326,\n",
       " 8:         Date  Time  Temp (°F)  RH (%)  Wind Spd (mph) Wind Dir (°) date ymd\n",
       " 2203  3/3/23   300       36.8      92             0.3      E | 100   230303,\n",
       " 9:          Date  Time  Temp (°F)  RH (%)  Wind Spd (mph) Wind Dir (°) date ymd\n",
       " 1235  4/12/23  1200       60.2      41             5.7    WNW | 287   230412,\n",
       " 10:         Date  Time  Temp (°F)  RH (%)  Wind Spd (mph) Wind Dir (°) date ymd\n",
       " 348  5/19/23  1100       67.2      56             2.8      S | 180   230519,\n",
       " 11:         Date  Time  Temp (°F)  RH (%)  Wind Spd (mph) Wind Dir (°) date ymd\n",
       " 353  5/19/23   600       47.2      94             0.0     ENE | 64   230519,\n",
       " 12:         Date  Time  Temp (°F)  RH (%)  Wind Spd (mph) Wind Dir (°) date ymd\n",
       " 1452  4/3/23  1100       51.6      43             8.2    WNW | 303   230403,\n",
       " 13:          Date  Time  Temp (°F)  RH (%)  Wind Spd (mph) Wind Dir (°) date ymd\n",
       " 1240  4/12/23   700       38.4      81             0.0     NW | 325   230412,\n",
       " 14:         Date  Time  Temp (°F)  RH (%)  Wind Spd (mph) Wind Dir (°) date ymd\n",
       " 347  5/19/23  1200       69.0      59             4.6      S | 171   230519,\n",
       " 15:         Date  Time  Temp (°F)  RH (%)  Wind Spd (mph) Wind Dir (°) date ymd\n",
       " 2083  3/8/23   300       45.2      90             2.9      S | 178   230308,\n",
       " 16:         Date  Time  Temp (°F)  RH (%)  Wind Spd (mph) Wind Dir (°) date ymd\n",
       " 2083  3/8/23   300       45.2      90             2.9      S | 178   230308,\n",
       " 17:         Date  Time  Temp (°F)  RH (%)  Wind Spd (mph) Wind Dir (°) date ymd\n",
       " 2203  3/3/23   300       36.8      92             0.3      E | 100   230303,\n",
       " 18:         Date  Time  Temp (°F)  RH (%)  Wind Spd (mph) Wind Dir (°) date ymd\n",
       " 2199  3/3/23   700       39.0      95             0.0        N | 0   230303,\n",
       " 19:          Date  Time  Temp (°F)  RH (%)  Wind Spd (mph) Wind Dir (°) date ymd\n",
       " 1240  4/12/23   700       38.4      81             0.0     NW | 325   230412,\n",
       " 20:         Date  Time  Temp (°F)  RH (%)  Wind Spd (mph) Wind Dir (°) date ymd\n",
       " 1504  4/1/23   700       35.9      95             0.0      N | 350   230401,\n",
       " 21:         Date  Time  Temp (°F)  RH (%)  Wind Spd (mph) Wind Dir (°) date ymd\n",
       " 2083  3/8/23   300       45.2      90             2.9      S | 178   230308,\n",
       " 22:         Date  Time  Temp (°F)  RH (%)  Wind Spd (mph) Wind Dir (°) date ymd\n",
       " 1453  4/3/23  1000       48.7      46             8.8    NNW | 334   230403,\n",
       " 23:          Date  Time  Temp (°F)  RH (%)  Wind Spd (mph) Wind Dir (°) date ymd\n",
       " 1648  3/26/23   700       32.4      87             0.0        N | 0   230326,\n",
       " 24:          Date  Time  Temp (°F)  RH (%)  Wind Spd (mph) Wind Dir (°) date ymd\n",
       " 1649  3/26/23   600       36.1      77             2.0     NW | 318   230326,\n",
       " 25:         Date  Time  Temp (°F)  RH (%)  Wind Spd (mph) Wind Dir (°) date ymd\n",
       " 2199  3/3/23   700       39.0      95             0.0        N | 0   230303,\n",
       " 26:          Date  Time  Temp (°F)  RH (%)  Wind Spd (mph) Wind Dir (°) date ymd\n",
       " 1622  3/27/23   900       42.6      73             0.0        N | 0   230327,\n",
       " 27:         Date  Time  Temp (°F)  RH (%)  Wind Spd (mph) Wind Dir (°) date ymd\n",
       " 2131  3/6/23   300       34.9      94             0.1     NNE | 18   230306,\n",
       " 28:         Date  Time  Temp (°F)  RH (%)  Wind Spd (mph) Wind Dir (°) date ymd\n",
       " 2199  3/3/23   700       39.0      95             0.0        N | 0   230303,\n",
       " 29:         Date  Time  Temp (°F)  RH (%)  Wind Spd (mph) Wind Dir (°) date ymd\n",
       " 2131  3/6/23   300       34.9      94             0.1     NNE | 18   230306,\n",
       " 30:         Date  Time  Temp (°F)  RH (%)  Wind Spd (mph) Wind Dir (°) date ymd\n",
       " 2083  3/8/23   300       45.2      90             2.9      S | 178   230308,\n",
       " 31:         Date  Time  Temp (°F)  RH (%)  Wind Spd (mph) Wind Dir (°) date ymd\n",
       " 2195  3/3/23  1100       53.1      63             2.9      S | 190   230303,\n",
       " 32:          Date  Time  Temp (°F)  RH (%)  Wind Spd (mph) Wind Dir (°) date ymd\n",
       " 1648  3/26/23   700       32.4      87             0.0        N | 0   230326,\n",
       " 33:         Date  Time  Temp (°F)  RH (%)  Wind Spd (mph) Wind Dir (°) date ymd\n",
       " 2083  3/8/23   300       45.2      90             2.9      S | 178   230308,\n",
       " 34:          Date  Time  Temp (°F)  RH (%)  Wind Spd (mph) Wind Dir (°) date ymd\n",
       " 1625  3/27/23   600       31.1      91             0.0        N | 0   230327,\n",
       " 35:         Date  Time  Temp (°F)  RH (%)  Wind Spd (mph) Wind Dir (°) date ymd\n",
       " 2199  3/3/23   700       39.0      95             0.0        N | 0   230303,\n",
       " 36:         Date  Time  Temp (°F)  RH (%)  Wind Spd (mph) Wind Dir (°) date ymd\n",
       " 2203  3/3/23   300       36.8      92             0.3      E | 100   230303,\n",
       " 37:          Date  Time  Temp (°F)  RH (%)  Wind Spd (mph) Wind Dir (°) date ymd\n",
       " 1648  3/26/23   700       32.4      87             0.0        N | 0   230326,\n",
       " 38:         Date  Time  Temp (°F)  RH (%)  Wind Spd (mph) Wind Dir (°) date ymd\n",
       " 2203  3/3/23   300       36.8      92             0.3      E | 100   230303,\n",
       " 39:         Date  Time  Temp (°F)  RH (%)  Wind Spd (mph) Wind Dir (°) date ymd\n",
       " 348  5/19/23  1100       67.2      56             2.8      S | 180   230519,\n",
       " 40:         Date  Time  Temp (°F)  RH (%)  Wind Spd (mph) Wind Dir (°) date ymd\n",
       " 353  5/19/23   600       47.2      94             0.0     ENE | 64   230519,\n",
       " 41:          Date  Time  Temp (°F)  RH (%)  Wind Spd (mph) Wind Dir (°) date ymd\n",
       " 1623  3/27/23   800       33.8      93             0.0    WNW | 295   230327,\n",
       " 42:         Date  Time  Temp (°F)  RH (%)  Wind Spd (mph) Wind Dir (°) date ymd\n",
       " 2203  3/3/23   300       36.8      92             0.3      E | 100   230303,\n",
       " 43:         Date  Time  Temp (°F)  RH (%)  Wind Spd (mph) Wind Dir (°) date ymd\n",
       " 1504  4/1/23   700       35.9      95             0.0      N | 350   230401,\n",
       " 44:          Date  Time  Temp (°F)  RH (%)  Wind Spd (mph) Wind Dir (°) date ymd\n",
       " 1626  3/27/23   500       32.1      89             0.1     NW | 315   230327,\n",
       " 45:         Date  Time  Temp (°F)  RH (%)  Wind Spd (mph) Wind Dir (°) date ymd\n",
       " 1505  4/1/23   600       35.6      94             0.1     SE | 131   230401,\n",
       " 46:         Date  Time  Temp (°F)  RH (%)  Wind Spd (mph) Wind Dir (°) date ymd\n",
       " 348  5/19/23  1100       67.2      56             2.8      S | 180   230519,\n",
       " 47:         Date  Time  Temp (°F)  RH (%)  Wind Spd (mph) Wind Dir (°) date ymd\n",
       " 2204  3/3/23   200       38.2      92             0.6    ESE | 110   230303,\n",
       " 48:         Date  Time  Temp (°F)  RH (%)  Wind Spd (mph) Wind Dir (°) date ymd\n",
       " 348  5/19/23  1100       67.2      56             2.8      S | 180   230519,\n",
       " 49:         Date  Time  Temp (°F)  RH (%)  Wind Spd (mph) Wind Dir (°) date ymd\n",
       " 2083  3/8/23   300       45.2      90             2.9      S | 178   230308,\n",
       " 50:         Date  Time  Temp (°F)  RH (%)  Wind Spd (mph) Wind Dir (°) date ymd\n",
       " 2199  3/3/23   700       39.0      95             0.0        N | 0   230303,\n",
       " 51:         Date  Time  Temp (°F)  RH (%)  Wind Spd (mph) Wind Dir (°) date ymd\n",
       " 1452  4/3/23  1100       51.6      43             8.2    WNW | 303   230403,\n",
       " 52:          Date  Time  Temp (°F)  RH (%)  Wind Spd (mph) Wind Dir (°) date ymd\n",
       " 1626  3/27/23   500       32.1      89             0.1     NW | 315   230327,\n",
       " 53:         Date  Time  Temp (°F)  RH (%)  Wind Spd (mph) Wind Dir (°) date ymd\n",
       " 2204  3/3/23   200       38.2      92             0.6    ESE | 110   230303,\n",
       " 54:          Date  Time  Temp (°F)  RH (%)  Wind Spd (mph) Wind Dir (°) date ymd\n",
       " 1625  3/27/23   600       31.1      91             0.0        N | 0   230327,\n",
       " 55:          Date  Time  Temp (°F)  RH (%)  Wind Spd (mph) Wind Dir (°) date ymd\n",
       " 1626  3/27/23   500       32.1      89             0.1     NW | 315   230327,\n",
       " 56:          Date  Time  Temp (°F)  RH (%)  Wind Spd (mph) Wind Dir (°) date ymd\n",
       " 1625  3/27/23   600       31.1      91             0.0        N | 0   230327,\n",
       " 57:          Date  Time  Temp (°F)  RH (%)  Wind Spd (mph) Wind Dir (°) date ymd\n",
       " 1623  3/27/23   800       33.8      93             0.0    WNW | 295   230327,\n",
       " 58:         Date  Time  Temp (°F)  RH (%)  Wind Spd (mph) Wind Dir (°) date ymd\n",
       " 1452  4/3/23  1100       51.6      43             8.2    WNW | 303   230403,\n",
       " 59:         Date  Time  Temp (°F)  RH (%)  Wind Spd (mph) Wind Dir (°) date ymd\n",
       " 1453  4/3/23  1000       48.7      46             8.8    NNW | 334   230403,\n",
       " 60:         Date  Time  Temp (°F)  RH (%)  Wind Spd (mph) Wind Dir (°) date ymd\n",
       " 2131  3/6/23   300       34.9      94             0.1     NNE | 18   230306,\n",
       " 61:         Date  Time  Temp (°F)  RH (%)  Wind Spd (mph) Wind Dir (°) date ymd\n",
       " 1453  4/3/23  1000       48.7      46             8.8    NNW | 334   230403,\n",
       " 62:          Date  Time  Temp (°F)  RH (%)  Wind Spd (mph) Wind Dir (°) date ymd\n",
       " 1648  3/26/23   700       32.4      87             0.0        N | 0   230326,\n",
       " 63:          Date  Time  Temp (°F)  RH (%)  Wind Spd (mph) Wind Dir (°) date ymd\n",
       " 1625  3/27/23   600       31.1      91             0.0        N | 0   230327,\n",
       " 64:         Date  Time  Temp (°F)  RH (%)  Wind Spd (mph) Wind Dir (°) date ymd\n",
       " 348  5/19/23  1100       67.2      56             2.8      S | 180   230519,\n",
       " 65:         Date  Time  Temp (°F)  RH (%)  Wind Spd (mph) Wind Dir (°) date ymd\n",
       " 1452  4/3/23  1100       51.6      43             8.2    WNW | 303   230403,\n",
       " 66:          Date  Time  Temp (°F)  RH (%)  Wind Spd (mph) Wind Dir (°) date ymd\n",
       " 1623  3/27/23   800       33.8      93             0.0    WNW | 295   230327,\n",
       " 67:         Date  Time  Temp (°F)  RH (%)  Wind Spd (mph) Wind Dir (°) date ymd\n",
       " 1504  4/1/23   700       35.9      95             0.0      N | 350   230401,\n",
       " 68:         Date  Time  Temp (°F)  RH (%)  Wind Spd (mph) Wind Dir (°) date ymd\n",
       " 353  5/19/23   600       47.2      94             0.0     ENE | 64   230519,\n",
       " 69:         Date  Time  Temp (°F)  RH (%)  Wind Spd (mph) Wind Dir (°) date ymd\n",
       " 2131  3/6/23   300       34.9      94             0.1     NNE | 18   230306,\n",
       " 70:         Date  Time  Temp (°F)  RH (%)  Wind Spd (mph) Wind Dir (°) date ymd\n",
       " 2195  3/3/23  1100       53.1      63             2.9      S | 190   230303,\n",
       " 71:          Date  Time  Temp (°F)  RH (%)  Wind Spd (mph) Wind Dir (°) date ymd\n",
       " 1649  3/26/23   600       36.1      77             2.0     NW | 318   230326,\n",
       " 72:         Date  Time  Temp (°F)  RH (%)  Wind Spd (mph) Wind Dir (°) date ymd\n",
       " 1503  4/1/23   800       39.1      95             0.0        N | 0   230401,\n",
       " 73:         Date  Time  Temp (°F)  RH (%)  Wind Spd (mph) Wind Dir (°) date ymd\n",
       " 2083  3/8/23   300       45.2      90             2.9      S | 178   230308,\n",
       " 74:         Date  Time  Temp (°F)  RH (%)  Wind Spd (mph) Wind Dir (°) date ymd\n",
       " 1433  4/4/23   600       32.8      89             1.1       E | 90   230404,\n",
       " 75:         Date  Time  Temp (°F)  RH (%)  Wind Spd (mph) Wind Dir (°) date ymd\n",
       " 2203  3/3/23   300       36.8      92             0.3      E | 100   230303,\n",
       " 76:         Date  Time  Temp (°F)  RH (%)  Wind Spd (mph) Wind Dir (°) date ymd\n",
       " 2083  3/8/23   300       45.2      90             2.9      S | 178   230308,\n",
       " 77:         Date  Time  Temp (°F)  RH (%)  Wind Spd (mph) Wind Dir (°) date ymd\n",
       " 353  5/19/23   600       47.2      94             0.0     ENE | 64   230519,\n",
       " 78:          Date  Time  Temp (°F)  RH (%)  Wind Spd (mph) Wind Dir (°) date ymd\n",
       " 1649  3/26/23   600       36.1      77             2.0     NW | 318   230326,\n",
       " 79:         Date  Time  Temp (°F)  RH (%)  Wind Spd (mph) Wind Dir (°) date ymd\n",
       " 2131  3/6/23   300       34.9      94             0.1     NNE | 18   230306,\n",
       " 80:         Date  Time  Temp (°F)  RH (%)  Wind Spd (mph) Wind Dir (°) date ymd\n",
       " 2203  3/3/23   300       36.8      92             0.3      E | 100   230303,\n",
       " 81:         Date  Time  Temp (°F)  RH (%)  Wind Spd (mph) Wind Dir (°) date ymd\n",
       " 2203  3/3/23   300       36.8      92             0.3      E | 100   230303,\n",
       " 82:         Date  Time  Temp (°F)  RH (%)  Wind Spd (mph) Wind Dir (°) date ymd\n",
       " 2130  3/6/23   400       33.8      94             0.0      W | 274   230306,\n",
       " 83:       Date  Time  Temp (°F)  RH (%)  Wind Spd (mph) Wind Dir (°) date ymd\n",
       " 38  6/1/23   900       57.4      76             1.9      S | 172   230601,\n",
       " 84:         Date  Time  Temp (°F)  RH (%)  Wind Spd (mph) Wind Dir (°) date ymd\n",
       " 2128  3/6/23   600       37.1      94             0.3    WNW | 301   230306,\n",
       " 85:         Date  Time  Temp (°F)  RH (%)  Wind Spd (mph) Wind Dir (°) date ymd\n",
       " 353  5/19/23   600       47.2      94             0.0     ENE | 64   230519,\n",
       " 86:          Date  Time  Temp (°F)  RH (%)  Wind Spd (mph) Wind Dir (°) date ymd\n",
       " 1240  4/12/23   700       38.4      81             0.0     NW | 325   230412,\n",
       " 87:         Date  Time  Temp (°F)  RH (%)  Wind Spd (mph) Wind Dir (°) date ymd\n",
       " 2194  3/3/23  1200       55.2      60             2.2    SSE | 153   230303,\n",
       " 88:         Date  Time  Temp (°F)  RH (%)  Wind Spd (mph) Wind Dir (°) date ymd\n",
       " 2130  3/6/23   400       33.8      94             0.0      W | 274   230306,\n",
       " 89:         Date  Time  Temp (°F)  RH (%)  Wind Spd (mph) Wind Dir (°) date ymd\n",
       " 353  5/19/23   600       47.2      94             0.0     ENE | 64   230519,\n",
       " 90:          Date  Time  Temp (°F)  RH (%)  Wind Spd (mph) Wind Dir (°) date ymd\n",
       " 1626  3/27/23   500       32.1      89             0.1     NW | 315   230327,\n",
       " 91:         Date  Time  Temp (°F)  RH (%)  Wind Spd (mph) Wind Dir (°) date ymd\n",
       " 1454  4/3/23   900       45.0      55             7.0     NW | 318   230403,\n",
       " 92:         Date  Time  Temp (°F)  RH (%)  Wind Spd (mph) Wind Dir (°) date ymd\n",
       " 353  5/19/23   600       47.2      94             0.0     ENE | 64   230519,\n",
       " 93:         Date  Time  Temp (°F)  RH (%)  Wind Spd (mph) Wind Dir (°) date ymd\n",
       " 2199  3/3/23   700       39.0      95             0.0        N | 0   230303,\n",
       " 94:          Date  Time  Temp (°F)  RH (%)  Wind Spd (mph) Wind Dir (°) date ymd\n",
       " 1626  3/27/23   500       32.1      89             0.1     NW | 315   230327,\n",
       " 95:          Date  Time  Temp (°F)  RH (%)  Wind Spd (mph) Wind Dir (°) date ymd\n",
       " 1626  3/27/23   500       32.1      89             0.1     NW | 315   230327,\n",
       " 96:         Date  Time  Temp (°F)  RH (%)  Wind Spd (mph) Wind Dir (°) date ymd\n",
       " 2083  3/8/23   300       45.2      90             2.9      S | 178   230308,\n",
       " 97:         Date  Time  Temp (°F)  RH (%)  Wind Spd (mph) Wind Dir (°) date ymd\n",
       " 2203  3/3/23   300       36.8      92             0.3      E | 100   230303,\n",
       " 98:         Date  Time  Temp (°F)  RH (%)  Wind Spd (mph) Wind Dir (°) date ymd\n",
       " 2083  3/8/23   300       45.2      90             2.9      S | 178   230308,\n",
       " 99:         Date  Time  Temp (°F)  RH (%)  Wind Spd (mph) Wind Dir (°) date ymd\n",
       " 1454  4/3/23   900       45.0      55             7.0     NW | 318   230403,\n",
       " 100:          Date  Time  Temp (°F)  RH (%)  Wind Spd (mph) Wind Dir (°) date ymd\n",
       " 1235  4/12/23  1200       60.2      41             5.7    WNW | 287   230412,\n",
       " 101:         Date  Time  Temp (°F)  RH (%)  Wind Spd (mph) Wind Dir (°) date ymd\n",
       " 2203  3/3/23   300       36.8      92             0.3      E | 100   230303,\n",
       " 102:          Date  Time  Temp (°F)  RH (%)  Wind Spd (mph) Wind Dir (°) date ymd\n",
       " 1649  3/26/23   600       36.1      77             2.0     NW | 318   230326,\n",
       " 103:         Date  Time  Temp (°F)  RH (%)  Wind Spd (mph) Wind Dir (°) date ymd\n",
       " 348  5/19/23  1100       67.2      56             2.8      S | 180   230519,\n",
       " 104:         Date  Time  Temp (°F)  RH (%)  Wind Spd (mph) Wind Dir (°) date ymd\n",
       " 1453  4/3/23  1000       48.7      46             8.8    NNW | 334   230403,\n",
       " 105:         Date  Time  Temp (°F)  RH (%)  Wind Spd (mph) Wind Dir (°) date ymd\n",
       " 2204  3/3/23   200       38.2      92             0.6    ESE | 110   230303,\n",
       " 106:         Date  Time  Temp (°F)  RH (%)  Wind Spd (mph) Wind Dir (°) date ymd\n",
       " 2131  3/6/23   300       34.9      94             0.1     NNE | 18   230306,\n",
       " 107:         Date  Time  Temp (°F)  RH (%)  Wind Spd (mph) Wind Dir (°) date ymd\n",
       " 348  5/19/23  1100       67.2      56             2.8      S | 180   230519,\n",
       " 108:         Date  Time  Temp (°F)  RH (%)  Wind Spd (mph) Wind Dir (°) date ymd\n",
       " 2083  3/8/23   300       45.2      90             2.9      S | 178   230308,\n",
       " 109:         Date  Time  Temp (°F)  RH (%)  Wind Spd (mph) Wind Dir (°) date ymd\n",
       " 2203  3/3/23   300       36.8      92             0.3      E | 100   230303,\n",
       " 110:         Date  Time  Temp (°F)  RH (%)  Wind Spd (mph) Wind Dir (°) date ymd\n",
       " 2083  3/8/23   300       45.2      90             2.9      S | 178   230308,\n",
       " 111:         Date  Time  Temp (°F)  RH (%)  Wind Spd (mph) Wind Dir (°) date ymd\n",
       " 1504  4/1/23   700       35.9      95             0.0      N | 350   230401,\n",
       " 112:         Date  Time  Temp (°F)  RH (%)  Wind Spd (mph) Wind Dir (°) date ymd\n",
       " 1505  4/1/23   600       35.6      94             0.1     SE | 131   230401,\n",
       " 113:         Date  Time  Temp (°F)  RH (%)  Wind Spd (mph) Wind Dir (°) date ymd\n",
       " 2131  3/6/23   300       34.9      94             0.1     NNE | 18   230306,\n",
       " 114:         Date  Time  Temp (°F)  RH (%)  Wind Spd (mph) Wind Dir (°) date ymd\n",
       " 2083  3/8/23   300       45.2      90             2.9      S | 178   230308,\n",
       " 115:         Date  Time  Temp (°F)  RH (%)  Wind Spd (mph) Wind Dir (°) date ymd\n",
       " 2204  3/3/23   200       38.2      92             0.6    ESE | 110   230303,\n",
       " 116:         Date  Time  Temp (°F)  RH (%)  Wind Spd (mph) Wind Dir (°) date ymd\n",
       " 2131  3/6/23   300       34.9      94             0.1     NNE | 18   230306,\n",
       " 117:         Date  Time  Temp (°F)  RH (%)  Wind Spd (mph) Wind Dir (°) date ymd\n",
       " 2083  3/8/23   300       45.2      90             2.9      S | 178   230308,\n",
       " 118:         Date  Time  Temp (°F)  RH (%)  Wind Spd (mph) Wind Dir (°) date ymd\n",
       " 2127  3/6/23   700       39.9      95             2.2    NNW | 329   230306,\n",
       " 119:         Date  Time  Temp (°F)  RH (%)  Wind Spd (mph) Wind Dir (°) date ymd\n",
       " 1479  4/2/23   800       44.4      93             0.0      W | 262   230402,\n",
       " 120:          Date  Time  Temp (°F)  RH (%)  Wind Spd (mph) Wind Dir (°) date ymd\n",
       " 1240  4/12/23   700       38.4      81             0.0     NW | 325   230412,\n",
       " 121:         Date  Time  Temp (°F)  RH (%)  Wind Spd (mph) Wind Dir (°) date ymd\n",
       " 2083  3/8/23   300       45.2      90             2.9      S | 178   230308,\n",
       " 122:          Date  Time  Temp (°F)  RH (%)  Wind Spd (mph) Wind Dir (°) date ymd\n",
       " 1626  3/27/23   500       32.1      89             0.1     NW | 315   230327,\n",
       " 123:          Date  Time  Temp (°F)  RH (%)  Wind Spd (mph) Wind Dir (°) date ymd\n",
       " 1626  3/27/23   500       32.1      89             0.1     NW | 315   230327,\n",
       " 124:         Date  Time  Temp (°F)  RH (%)  Wind Spd (mph) Wind Dir (°) date ymd\n",
       " 353  5/19/23   600       47.2      94             0.0     ENE | 64   230519,\n",
       " 125:         Date  Time  Temp (°F)  RH (%)  Wind Spd (mph) Wind Dir (°) date ymd\n",
       " 1454  4/3/23   900       45.0      55             7.0     NW | 318   230403,\n",
       " 126:         Date  Time  Temp (°F)  RH (%)  Wind Spd (mph) Wind Dir (°) date ymd\n",
       " 2199  3/3/23   700       39.0      95             0.0        N | 0   230303,\n",
       " 127:         Date  Time  Temp (°F)  RH (%)  Wind Spd (mph) Wind Dir (°) date ymd\n",
       " 2199  3/3/23   700       39.0      95             0.0        N | 0   230303,\n",
       " 128:         Date  Time  Temp (°F)  RH (%)  Wind Spd (mph) Wind Dir (°) date ymd\n",
       " 1433  4/4/23   600       32.8      89             1.1       E | 90   230404,\n",
       " 129:         Date  Time  Temp (°F)  RH (%)  Wind Spd (mph) Wind Dir (°) date ymd\n",
       " 348  5/19/23  1100       67.2      56             2.8      S | 180   230519,\n",
       " 130:         Date  Time  Temp (°F)  RH (%)  Wind Spd (mph) Wind Dir (°) date ymd\n",
       " 2204  3/3/23   200       38.2      92             0.6    ESE | 110   230303,\n",
       " 131:         Date  Time  Temp (°F)  RH (%)  Wind Spd (mph) Wind Dir (°) date ymd\n",
       " 2203  3/3/23   300       36.8      92             0.3      E | 100   230303,\n",
       " 132:          Date  Time  Temp (°F)  RH (%)  Wind Spd (mph) Wind Dir (°) date ymd\n",
       " 1626  3/27/23   500       32.1      89             0.1     NW | 315   230327,\n",
       " 133:         Date  Time  Temp (°F)  RH (%)  Wind Spd (mph) Wind Dir (°) date ymd\n",
       " 1479  4/2/23   800       44.4      93             0.0      W | 262   230402,\n",
       " 134:         Date  Time  Temp (°F)  RH (%)  Wind Spd (mph) Wind Dir (°) date ymd\n",
       " 353  5/19/23   600       47.2      94             0.0     ENE | 64   230519,\n",
       " 135:         Date  Time  Temp (°F)  RH (%)  Wind Spd (mph) Wind Dir (°) date ymd\n",
       " 347  5/19/23  1200       69.0      59             4.6      S | 171   230519,\n",
       " 136:         Date  Time  Temp (°F)  RH (%)  Wind Spd (mph) Wind Dir (°) date ymd\n",
       " 1504  4/1/23   700       35.9      95             0.0      N | 350   230401,\n",
       " 137:         Date  Time  Temp (°F)  RH (%)  Wind Spd (mph) Wind Dir (°) date ymd\n",
       " 2083  3/8/23   300       45.2      90             2.9      S | 178   230308,\n",
       " 138:         Date  Time  Temp (°F)  RH (%)  Wind Spd (mph) Wind Dir (°) date ymd\n",
       " 2194  3/3/23  1200       55.2      60             2.2    SSE | 153   230303,\n",
       " 139:         Date  Time  Temp (°F)  RH (%)  Wind Spd (mph) Wind Dir (°) date ymd\n",
       " 1504  4/1/23   700       35.9      95             0.0      N | 350   230401,\n",
       " 140:         Date  Time  Temp (°F)  RH (%)  Wind Spd (mph) Wind Dir (°) date ymd\n",
       " 1506  4/1/23   500       35.9      95             0.0     SE | 124   230401,\n",
       " 141:         Date  Time  Temp (°F)  RH (%)  Wind Spd (mph) Wind Dir (°) date ymd\n",
       " 1454  4/3/23   900       45.0      55             7.0     NW | 318   230403,\n",
       " 142:         Date  Time  Temp (°F)  RH (%)  Wind Spd (mph) Wind Dir (°) date ymd\n",
       " 2199  3/3/23   700       39.0      95             0.0        N | 0   230303,\n",
       " 143:         Date  Time  Temp (°F)  RH (%)  Wind Spd (mph) Wind Dir (°) date ymd\n",
       " 1407  4/5/23   800       39.4      95             0.0      N | 355   230405,\n",
       " 144:         Date  Time  Temp (°F)  RH (%)  Wind Spd (mph) Wind Dir (°) date ymd\n",
       " 2083  3/8/23   300       45.2      90             2.9      S | 178   230308,\n",
       " 145:          Date  Time  Temp (°F)  RH (%)  Wind Spd (mph) Wind Dir (°) date ymd\n",
       " 1647  3/26/23   800       34.8      89             0.0        N | 0   230326,\n",
       " 146:         Date  Time  Temp (°F)  RH (%)  Wind Spd (mph) Wind Dir (°) date ymd\n",
       " 350  5/19/23   900       55.0      85             1.7      W | 269   230519,\n",
       " 147:         Date  Time  Temp (°F)  RH (%)  Wind Spd (mph) Wind Dir (°) date ymd\n",
       " 2196  3/3/23  1000       49.6      74             4.8    SSE | 166   230303,\n",
       " 148:         Date  Time  Temp (°F)  RH (%)  Wind Spd (mph) Wind Dir (°) date ymd\n",
       " 2083  3/8/23   300       45.2      90             2.9      S | 178   230308,\n",
       " 149:         Date  Time  Temp (°F)  RH (%)  Wind Spd (mph) Wind Dir (°) date ymd\n",
       " 353  5/19/23   600       47.2      94             0.0     ENE | 64   230519,\n",
       " 150:         Date  Time  Temp (°F)  RH (%)  Wind Spd (mph) Wind Dir (°) date ymd\n",
       " 348  5/19/23  1100       67.2      56             2.8      S | 180   230519,\n",
       " 151:         Date  Time  Temp (°F)  RH (%)  Wind Spd (mph) Wind Dir (°) date ymd\n",
       " 2131  3/6/23   300       34.9      94             0.1     NNE | 18   230306,\n",
       " 152:         Date  Time  Temp (°F)  RH (%)  Wind Spd (mph) Wind Dir (°) date ymd\n",
       " 1504  4/1/23   700       35.9      95             0.0      N | 350   230401,\n",
       " 153:          Date  Time  Temp (°F)  RH (%)  Wind Spd (mph) Wind Dir (°) date ymd\n",
       " 1625  3/27/23   600       31.1      91             0.0        N | 0   230327,\n",
       " 154:         Date  Time  Temp (°F)  RH (%)  Wind Spd (mph) Wind Dir (°) date ymd\n",
       " 2196  3/3/23  1000       49.6      74             4.8    SSE | 166   230303,\n",
       " 155:         Date  Time  Temp (°F)  RH (%)  Wind Spd (mph) Wind Dir (°) date ymd\n",
       " 2131  3/6/23   300       34.9      94             0.1     NNE | 18   230306,\n",
       " 156:         Date  Time  Temp (°F)  RH (%)  Wind Spd (mph) Wind Dir (°) date ymd\n",
       " 2203  3/3/23   300       36.8      92             0.3      E | 100   230303,\n",
       " 157:         Date  Time  Temp (°F)  RH (%)  Wind Spd (mph) Wind Dir (°) date ymd\n",
       " 348  5/19/23  1100       67.2      56             2.8      S | 180   230519,\n",
       " 158:         Date  Time  Temp (°F)  RH (%)  Wind Spd (mph) Wind Dir (°) date ymd\n",
       " 2196  3/3/23  1000       49.6      74             4.8    SSE | 166   230303,\n",
       " 159:         Date  Time  Temp (°F)  RH (%)  Wind Spd (mph) Wind Dir (°) date ymd\n",
       " 2203  3/3/23   300       36.8      92             0.3      E | 100   230303,\n",
       " 160:         Date  Time  Temp (°F)  RH (%)  Wind Spd (mph) Wind Dir (°) date ymd\n",
       " 2083  3/8/23   300       45.2      90             2.9      S | 178   230308,\n",
       " 161:         Date  Time  Temp (°F)  RH (%)  Wind Spd (mph) Wind Dir (°) date ymd\n",
       " 1454  4/3/23   900       45.0      55             7.0     NW | 318   230403,\n",
       " 162:          Date  Time  Temp (°F)  RH (%)  Wind Spd (mph) Wind Dir (°) date ymd\n",
       " 1625  3/27/23   600       31.1      91             0.0        N | 0   230327,\n",
       " 163:          Date  Time  Temp (°F)  RH (%)  Wind Spd (mph) Wind Dir (°) date ymd\n",
       " 1649  3/26/23   600       36.1      77             2.0     NW | 318   230326,\n",
       " 164:          Date  Time  Temp (°F)  RH (%)  Wind Spd (mph) Wind Dir (°) date ymd\n",
       " 1649  3/26/23   600       36.1      77             2.0     NW | 318   230326,\n",
       " 165:         Date  Time  Temp (°F)  RH (%)  Wind Spd (mph) Wind Dir (°) date ymd\n",
       " 2201  3/3/23   500       36.7      95             0.1       E | 80   230303,\n",
       " 166:         Date  Time  Temp (°F)  RH (%)  Wind Spd (mph) Wind Dir (°) date ymd\n",
       " 2083  3/8/23   300       45.2      90             2.9      S | 178   230308,\n",
       " 167:         Date  Time  Temp (°F)  RH (%)  Wind Spd (mph) Wind Dir (°) date ymd\n",
       " 2131  3/6/23   300       34.9      94             0.1     NNE | 18   230306,\n",
       " 168:         Date  Time  Temp (°F)  RH (%)  Wind Spd (mph) Wind Dir (°) date ymd\n",
       " 353  5/19/23   600       47.2      94             0.0     ENE | 64   230519,\n",
       " 169:         Date  Time  Temp (°F)  RH (%)  Wind Spd (mph) Wind Dir (°) date ymd\n",
       " 1504  4/1/23   700       35.9      95             0.0      N | 350   230401,\n",
       " 170:         Date  Time  Temp (°F)  RH (%)  Wind Spd (mph) Wind Dir (°) date ymd\n",
       " 1504  4/1/23   700       35.9      95             0.0      N | 350   230401,\n",
       " 171:         Date  Time  Temp (°F)  RH (%)  Wind Spd (mph) Wind Dir (°) date ymd\n",
       " 2131  3/6/23   300       34.9      94             0.1     NNE | 18   230306,\n",
       " 172:          Date  Time  Temp (°F)  RH (%)  Wind Spd (mph) Wind Dir (°) date ymd\n",
       " 1625  3/27/23   600       31.1      91             0.0        N | 0   230327,\n",
       " 173:         Date  Time  Temp (°F)  RH (%)  Wind Spd (mph) Wind Dir (°) date ymd\n",
       " 2199  3/3/23   700       39.0      95             0.0        N | 0   230303,\n",
       " 174:         Date  Time  Temp (°F)  RH (%)  Wind Spd (mph) Wind Dir (°) date ymd\n",
       " 1454  4/3/23   900       45.0      55             7.0     NW | 318   230403,\n",
       " 175:         Date  Time  Temp (°F)  RH (%)  Wind Spd (mph) Wind Dir (°) date ymd\n",
       " 2083  3/8/23   300       45.2      90             2.9      S | 178   230308,\n",
       " 176:          Date  Time  Temp (°F)  RH (%)  Wind Spd (mph) Wind Dir (°) date ymd\n",
       " 1626  3/27/23   500       32.1      89             0.1     NW | 315   230327,\n",
       " 177:         Date  Time  Temp (°F)  RH (%)  Wind Spd (mph) Wind Dir (°) date ymd\n",
       " 2196  3/3/23  1000       49.6      74             4.8    SSE | 166   230303,\n",
       " 178:         Date  Time  Temp (°F)  RH (%)  Wind Spd (mph) Wind Dir (°) date ymd\n",
       " 348  5/19/23  1100       67.2      56             2.8      S | 180   230519,\n",
       " 179:         Date  Time  Temp (°F)  RH (%)  Wind Spd (mph) Wind Dir (°) date ymd\n",
       " 2204  3/3/23   200       38.2      92             0.6    ESE | 110   230303,\n",
       " 180:         Date  Time  Temp (°F)  RH (%)  Wind Spd (mph) Wind Dir (°) date ymd\n",
       " 2199  3/3/23   700       39.0      95             0.0        N | 0   230303,\n",
       " 181:         Date  Time  Temp (°F)  RH (%)  Wind Spd (mph) Wind Dir (°) date ymd\n",
       " 2130  3/6/23   400       33.8      94             0.0      W | 274   230306,\n",
       " 182:         Date  Time  Temp (°F)  RH (%)  Wind Spd (mph) Wind Dir (°) date ymd\n",
       " 1504  4/1/23   700       35.9      95             0.0      N | 350   230401,\n",
       " 183:         Date  Time  Temp (°F)  RH (%)  Wind Spd (mph) Wind Dir (°) date ymd\n",
       " 1452  4/3/23  1100       51.6      43             8.2    WNW | 303   230403,\n",
       " 184:         Date  Time  Temp (°F)  RH (%)  Wind Spd (mph) Wind Dir (°) date ymd\n",
       " 348  5/19/23  1100       67.2      56             2.8      S | 180   230519,\n",
       " 185:         Date  Time  Temp (°F)  RH (%)  Wind Spd (mph) Wind Dir (°) date ymd\n",
       " 2083  3/8/23   300       45.2      90             2.9      S | 178   230308,\n",
       " 186:         Date  Time  Temp (°F)  RH (%)  Wind Spd (mph) Wind Dir (°) date ymd\n",
       " 2203  3/3/23   300       36.8      92             0.3      E | 100   230303,\n",
       " 187:         Date  Time  Temp (°F)  RH (%)  Wind Spd (mph) Wind Dir (°) date ymd\n",
       " 2199  3/3/23   700       39.0      95             0.0        N | 0   230303,\n",
       " 188:         Date  Time  Temp (°F)  RH (%)  Wind Spd (mph) Wind Dir (°) date ymd\n",
       " 2203  3/3/23   300       36.8      92             0.3      E | 100   230303,\n",
       " 189:         Date  Time  Temp (°F)  RH (%)  Wind Spd (mph) Wind Dir (°) date ymd\n",
       " 2131  3/6/23   300       34.9      94             0.1     NNE | 18   230306,\n",
       " 190:          Date  Time  Temp (°F)  RH (%)  Wind Spd (mph) Wind Dir (°) date ymd\n",
       " 1626  3/27/23   500       32.1      89             0.1     NW | 315   230327,\n",
       " 191:          Date  Time  Temp (°F)  RH (%)  Wind Spd (mph) Wind Dir (°) date ymd\n",
       " 1623  3/27/23   800       33.8      93             0.0    WNW | 295   230327,\n",
       " 192:         Date  Time  Temp (°F)  RH (%)  Wind Spd (mph) Wind Dir (°) date ymd\n",
       " 1452  4/3/23  1100       51.6      43             8.2    WNW | 303   230403,\n",
       " 193:         Date  Time  Temp (°F)  RH (%)  Wind Spd (mph) Wind Dir (°) date ymd\n",
       " 1505  4/1/23   600       35.6      94             0.1     SE | 131   230401,\n",
       " 194:         Date  Time  Temp (°F)  RH (%)  Wind Spd (mph) Wind Dir (°) date ymd\n",
       " 1503  4/1/23   800       39.1      95             0.0        N | 0   230401,\n",
       " 195:         Date  Time  Temp (°F)  RH (%)  Wind Spd (mph) Wind Dir (°) date ymd\n",
       " 353  5/19/23   600       47.2      94             0.0     ENE | 64   230519,\n",
       " 196:         Date  Time  Temp (°F)  RH (%)  Wind Spd (mph) Wind Dir (°) date ymd\n",
       " 1456  4/3/23   700       39.1      66             4.5     NW | 319   230403,\n",
       " 197:          Date  Time  Temp (°F)  RH (%)  Wind Spd (mph) Wind Dir (°) date ymd\n",
       " 1625  3/27/23   600       31.1      91             0.0        N | 0   230327,\n",
       " 198:         Date  Time  Temp (°F)  RH (%)  Wind Spd (mph) Wind Dir (°) date ymd\n",
       " 2083  3/8/23   300       45.2      90             2.9      S | 178   230308,\n",
       " 199:         Date  Time  Temp (°F)  RH (%)  Wind Spd (mph) Wind Dir (°) date ymd\n",
       " 2083  3/8/23   300       45.2      90             2.9      S | 178   230308,\n",
       " 200:         Date  Time  Temp (°F)  RH (%)  Wind Spd (mph) Wind Dir (°) date ymd\n",
       " 353  5/19/23   600       47.2      94             0.0     ENE | 64   230519,\n",
       " 201:         Date  Time  Temp (°F)  RH (%)  Wind Spd (mph) Wind Dir (°) date ymd\n",
       " 2131  3/6/23   300       34.9      94             0.1     NNE | 18   230306,\n",
       " 202:         Date  Time  Temp (°F)  RH (%)  Wind Spd (mph) Wind Dir (°) date ymd\n",
       " 2131  3/6/23   300       34.9      94             0.1     NNE | 18   230306,\n",
       " 203:         Date  Time  Temp (°F)  RH (%)  Wind Spd (mph) Wind Dir (°) date ymd\n",
       " 2130  3/6/23   400       33.8      94             0.0      W | 274   230306,\n",
       " 204:          Date  Time  Temp (°F)  RH (%)  Wind Spd (mph) Wind Dir (°) date ymd\n",
       " 1627  3/27/23   400       32.5      88             0.1      N | 356   230327,\n",
       " 205:          Date  Time  Temp (°F)  RH (%)  Wind Spd (mph) Wind Dir (°) date ymd\n",
       " 1648  3/26/23   700       32.4      87             0.0        N | 0   230326,\n",
       " 206:         Date  Time  Temp (°F)  RH (%)  Wind Spd (mph) Wind Dir (°) date ymd\n",
       " 2131  3/6/23   300       34.9      94             0.1     NNE | 18   230306,\n",
       " 207:         Date  Time  Temp (°F)  RH (%)  Wind Spd (mph) Wind Dir (°) date ymd\n",
       " 1454  4/3/23   900       45.0      55             7.0     NW | 318   230403,\n",
       " 208:         Date  Time  Temp (°F)  RH (%)  Wind Spd (mph) Wind Dir (°) date ymd\n",
       " 1504  4/1/23   700       35.9      95             0.0      N | 350   230401,\n",
       " 209:         Date  Time  Temp (°F)  RH (%)  Wind Spd (mph) Wind Dir (°) date ymd\n",
       " 353  5/19/23   600       47.2      94             0.0     ENE | 64   230519,\n",
       " 210:         Date  Time  Temp (°F)  RH (%)  Wind Spd (mph) Wind Dir (°) date ymd\n",
       " 353  5/19/23   600       47.2      94             0.0     ENE | 64   230519,\n",
       " 211:         Date  Time  Temp (°F)  RH (%)  Wind Spd (mph) Wind Dir (°) date ymd\n",
       " 353  5/19/23   600       47.2      94             0.0     ENE | 64   230519,\n",
       " 212:          Date  Time  Temp (°F)  RH (%)  Wind Spd (mph) Wind Dir (°) date ymd\n",
       " 1626  3/27/23   500       32.1      89             0.1     NW | 315   230327,\n",
       " 213:         Date  Time  Temp (°F)  RH (%)  Wind Spd (mph) Wind Dir (°) date ymd\n",
       " 1503  4/1/23   800       39.1      95             0.0        N | 0   230401,\n",
       " 214:         Date  Time  Temp (°F)  RH (%)  Wind Spd (mph) Wind Dir (°) date ymd\n",
       " 347  5/19/23  1200       69.0      59             4.6      S | 171   230519,\n",
       " 215:         Date  Time  Temp (°F)  RH (%)  Wind Spd (mph) Wind Dir (°) date ymd\n",
       " 1454  4/3/23   900       45.0      55             7.0     NW | 318   230403,\n",
       " 216:          Date  Time  Temp (°F)  RH (%)  Wind Spd (mph) Wind Dir (°) date ymd\n",
       " 1672  3/25/23   700       33.8      90             0.0      NE | 53   230325,\n",
       " 217:         Date  Time  Temp (°F)  RH (%)  Wind Spd (mph) Wind Dir (°) date ymd\n",
       " 2203  3/3/23   300       36.8      92             0.3      E | 100   230303,\n",
       " 218:         Date  Time  Temp (°F)  RH (%)  Wind Spd (mph) Wind Dir (°) date ymd\n",
       " 348  5/19/23  1100       67.2      56             2.8      S | 180   230519,\n",
       " 219:         Date  Time  Temp (°F)  RH (%)  Wind Spd (mph) Wind Dir (°) date ymd\n",
       " 353  5/19/23   600       47.2      94             0.0     ENE | 64   230519,\n",
       " 220:          Date  Time  Temp (°F)  RH (%)  Wind Spd (mph) Wind Dir (°) date ymd\n",
       " 1625  3/27/23   600       31.1      91             0.0        N | 0   230327,\n",
       " 221:         Date  Time  Temp (°F)  RH (%)  Wind Spd (mph) Wind Dir (°) date ymd\n",
       " 1504  4/1/23   700       35.9      95             0.0      N | 350   230401,\n",
       " 222:          Date  Time  Temp (°F)  RH (%)  Wind Spd (mph) Wind Dir (°) date ymd\n",
       " 1625  3/27/23   600       31.1      91             0.0        N | 0   230327,\n",
       " 223:         Date  Time  Temp (°F)  RH (%)  Wind Spd (mph) Wind Dir (°) date ymd\n",
       " 348  5/19/23  1100       67.2      56             2.8      S | 180   230519,\n",
       " 224:         Date  Time  Temp (°F)  RH (%)  Wind Spd (mph) Wind Dir (°) date ymd\n",
       " 2194  3/3/23  1200       55.2      60             2.2    SSE | 153   230303,\n",
       " 225:          Date  Time  Temp (°F)  RH (%)  Wind Spd (mph) Wind Dir (°) date ymd\n",
       " 1626  3/27/23   500       32.1      89             0.1     NW | 315   230327,\n",
       " 226:         Date  Time  Temp (°F)  RH (%)  Wind Spd (mph) Wind Dir (°) date ymd\n",
       " 1452  4/3/23  1100       51.6      43             8.2    WNW | 303   230403,\n",
       " 227:         Date  Time  Temp (°F)  RH (%)  Wind Spd (mph) Wind Dir (°) date ymd\n",
       " 2083  3/8/23   300       45.2      90             2.9      S | 178   230308,\n",
       " 228:         Date  Time  Temp (°F)  RH (%)  Wind Spd (mph) Wind Dir (°) date ymd\n",
       " 2130  3/6/23   400       33.8      94             0.0      W | 274   230306,\n",
       " 229:         Date  Time  Temp (°F)  RH (%)  Wind Spd (mph) Wind Dir (°) date ymd\n",
       " 2199  3/3/23   700       39.0      95             0.0        N | 0   230303,\n",
       " 230:         Date  Time  Temp (°F)  RH (%)  Wind Spd (mph) Wind Dir (°) date ymd\n",
       " 2131  3/6/23   300       34.9      94             0.1     NNE | 18   230306,\n",
       " 231:         Date  Time  Temp (°F)  RH (%)  Wind Spd (mph) Wind Dir (°) date ymd\n",
       " 353  5/19/23   600       47.2      94             0.0     ENE | 64   230519,\n",
       " 232:         Date  Time  Temp (°F)  RH (%)  Wind Spd (mph) Wind Dir (°) date ymd\n",
       " 2083  3/8/23   300       45.2      90             2.9      S | 178   230308,\n",
       " 233:         Date  Time  Temp (°F)  RH (%)  Wind Spd (mph) Wind Dir (°) date ymd\n",
       " 1504  4/1/23   700       35.9      95             0.0      N | 350   230401,\n",
       " 234:         Date  Time  Temp (°F)  RH (%)  Wind Spd (mph) Wind Dir (°) date ymd\n",
       " 1504  4/1/23   700       35.9      95             0.0      N | 350   230401,\n",
       " 235:         Date  Time  Temp (°F)  RH (%)  Wind Spd (mph) Wind Dir (°) date ymd\n",
       " 2196  3/3/23  1000       49.6      74             4.8    SSE | 166   230303,\n",
       " 236:          Date  Time  Temp (°F)  RH (%)  Wind Spd (mph) Wind Dir (°) date ymd\n",
       " 1626  3/27/23   500       32.1      89             0.1     NW | 315   230327,\n",
       " 237:         Date  Time  Temp (°F)  RH (%)  Wind Spd (mph) Wind Dir (°) date ymd\n",
       " 348  5/19/23  1100       67.2      56             2.8      S | 180   230519,\n",
       " 238:         Date  Time  Temp (°F)  RH (%)  Wind Spd (mph) Wind Dir (°) date ymd\n",
       " 1479  4/2/23   800       44.4      93             0.0      W | 262   230402,\n",
       " 239:         Date  Time  Temp (°F)  RH (%)  Wind Spd (mph) Wind Dir (°) date ymd\n",
       " 2199  3/3/23   700       39.0      95             0.0        N | 0   230303,\n",
       " 240:         Date  Time  Temp (°F)  RH (%)  Wind Spd (mph) Wind Dir (°) date ymd\n",
       " 2130  3/6/23   400       33.8      94             0.0      W | 274   230306,\n",
       " 241:         Date  Time  Temp (°F)  RH (%)  Wind Spd (mph) Wind Dir (°) date ymd\n",
       " 2195  3/3/23  1100       53.1      63             2.9      S | 190   230303,\n",
       " 242:         Date  Time  Temp (°F)  RH (%)  Wind Spd (mph) Wind Dir (°) date ymd\n",
       " 2199  3/3/23   700       39.0      95             0.0        N | 0   230303,\n",
       " 243:          Date  Time  Temp (°F)  RH (%)  Wind Spd (mph) Wind Dir (°) date ymd\n",
       " 1649  3/26/23   600       36.1      77             2.0     NW | 318   230326,\n",
       " 244:         Date  Time  Temp (°F)  RH (%)  Wind Spd (mph) Wind Dir (°) date ymd\n",
       " 2199  3/3/23   700       39.0      95             0.0        N | 0   230303,\n",
       " 245:          Date  Time  Temp (°F)  RH (%)  Wind Spd (mph) Wind Dir (°) date ymd\n",
       " 1626  3/27/23   500       32.1      89             0.1     NW | 315   230327,\n",
       " 246:         Date  Time  Temp (°F)  RH (%)  Wind Spd (mph) Wind Dir (°) date ymd\n",
       " 2131  3/6/23   300       34.9      94             0.1     NNE | 18   230306,\n",
       " 247:         Date  Time  Temp (°F)  RH (%)  Wind Spd (mph) Wind Dir (°) date ymd\n",
       " 2130  3/6/23   400       33.8      94             0.0      W | 274   230306,\n",
       " 248:          Date  Time  Temp (°F)  RH (%)  Wind Spd (mph) Wind Dir (°) date ymd\n",
       " 1235  4/12/23  1200       60.2      41             5.7    WNW | 287   230412,\n",
       " 249:          Date  Time  Temp (°F)  RH (%)  Wind Spd (mph) Wind Dir (°) date ymd\n",
       " 1240  4/12/23   700       38.4      81             0.0     NW | 325   230412,\n",
       " 250:         Date  Time  Temp (°F)  RH (%)  Wind Spd (mph) Wind Dir (°) date ymd\n",
       " 353  5/19/23   600       47.2      94             0.0     ENE | 64   230519,\n",
       " 251:         Date  Time  Temp (°F)  RH (%)  Wind Spd (mph) Wind Dir (°) date ymd\n",
       " 2083  3/8/23   300       45.2      90             2.9      S | 178   230308,\n",
       " 252:          Date  Time  Temp (°F)  RH (%)  Wind Spd (mph) Wind Dir (°) date ymd\n",
       " 1672  3/25/23   700       33.8      90             0.0      NE | 53   230325,\n",
       " 253:          Date  Time  Temp (°F)  RH (%)  Wind Spd (mph) Wind Dir (°) date ymd\n",
       " 1622  3/27/23   900       42.6      73             0.0        N | 0   230327,\n",
       " 254:         Date  Time  Temp (°F)  RH (%)  Wind Spd (mph) Wind Dir (°) date ymd\n",
       " 1455  4/3/23   800       41.8      62             3.2    WNW | 286   230403,\n",
       " 255:         Date  Time  Temp (°F)  RH (%)  Wind Spd (mph) Wind Dir (°) date ymd\n",
       " 2194  3/3/23  1200       55.2      60             2.2    SSE | 153   230303,\n",
       " 256:         Date  Time  Temp (°F)  RH (%)  Wind Spd (mph) Wind Dir (°) date ymd\n",
       " 348  5/19/23  1100       67.2      56             2.8      S | 180   230519,\n",
       " 257:         Date  Time  Temp (°F)  RH (%)  Wind Spd (mph) Wind Dir (°) date ymd\n",
       " 2131  3/6/23   300       34.9      94             0.1     NNE | 18   230306,\n",
       " 258:         Date  Time  Temp (°F)  RH (%)  Wind Spd (mph) Wind Dir (°) date ymd\n",
       " 353  5/19/23   600       47.2      94             0.0     ENE | 64   230519,\n",
       " 259:          Date  Time  Temp (°F)  RH (%)  Wind Spd (mph) Wind Dir (°) date ymd\n",
       " 1648  3/26/23   700       32.4      87             0.0        N | 0   230326,\n",
       " 260:         Date  Time  Temp (°F)  RH (%)  Wind Spd (mph) Wind Dir (°) date ymd\n",
       " 2199  3/3/23   700       39.0      95             0.0        N | 0   230303,\n",
       " 261:         Date  Time  Temp (°F)  RH (%)  Wind Spd (mph) Wind Dir (°) date ymd\n",
       " 1479  4/2/23   800       44.4      93             0.0      W | 262   230402,\n",
       " 262:          Date  Time  Temp (°F)  RH (%)  Wind Spd (mph) Wind Dir (°) date ymd\n",
       " 1622  3/27/23   900       42.6      73             0.0        N | 0   230327,\n",
       " 263:         Date  Time  Temp (°F)  RH (%)  Wind Spd (mph) Wind Dir (°) date ymd\n",
       " 2130  3/6/23   400       33.8      94             0.0      W | 274   230306,\n",
       " 264:         Date  Time  Temp (°F)  RH (%)  Wind Spd (mph) Wind Dir (°) date ymd\n",
       " 2083  3/8/23   300       45.2      90             2.9      S | 178   230308,\n",
       " 265:         Date  Time  Temp (°F)  RH (%)  Wind Spd (mph) Wind Dir (°) date ymd\n",
       " 2083  3/8/23   300       45.2      90             2.9      S | 178   230308,\n",
       " 266:         Date  Time  Temp (°F)  RH (%)  Wind Spd (mph) Wind Dir (°) date ymd\n",
       " 353  5/19/23   600       47.2      94             0.0     ENE | 64   230519,\n",
       " 267:         Date  Time  Temp (°F)  RH (%)  Wind Spd (mph) Wind Dir (°) date ymd\n",
       " 2083  3/8/23   300       45.2      90             2.9      S | 178   230308,\n",
       " 268:         Date  Time  Temp (°F)  RH (%)  Wind Spd (mph) Wind Dir (°) date ymd\n",
       " 2131  3/6/23   300       34.9      94             0.1     NNE | 18   230306,\n",
       " 269:         Date  Time  Temp (°F)  RH (%)  Wind Spd (mph) Wind Dir (°) date ymd\n",
       " 348  5/19/23  1100       67.2      56             2.8      S | 180   230519,\n",
       " 270:          Date  Time  Temp (°F)  RH (%)  Wind Spd (mph) Wind Dir (°) date ymd\n",
       " 1623  3/27/23   800       33.8      93             0.0    WNW | 295   230327,\n",
       " 271:         Date  Time  Temp (°F)  RH (%)  Wind Spd (mph) Wind Dir (°) date ymd\n",
       " 1453  4/3/23  1000       48.7      46             8.8    NNW | 334   230403,\n",
       " 272:          Date  Time  Temp (°F)  RH (%)  Wind Spd (mph) Wind Dir (°) date ymd\n",
       " 1649  3/26/23   600       36.1      77             2.0     NW | 318   230326,\n",
       " 273:          Date  Time  Temp (°F)  RH (%)  Wind Spd (mph) Wind Dir (°) date ymd\n",
       " 1623  3/27/23   800       33.8      93             0.0    WNW | 295   230327,\n",
       " 274:         Date  Time  Temp (°F)  RH (%)  Wind Spd (mph) Wind Dir (°) date ymd\n",
       " 2131  3/6/23   300       34.9      94             0.1     NNE | 18   230306,\n",
       " 275:         Date  Time  Temp (°F)  RH (%)  Wind Spd (mph) Wind Dir (°) date ymd\n",
       " 353  5/19/23   600       47.2      94             0.0     ENE | 64   230519,\n",
       " 276:          Date  Time  Temp (°F)  RH (%)  Wind Spd (mph) Wind Dir (°) date ymd\n",
       " 1622  3/27/23   900       42.6      73             0.0        N | 0   230327,\n",
       " 277:          Date  Time  Temp (°F)  RH (%)  Wind Spd (mph) Wind Dir (°) date ymd\n",
       " 1624  3/27/23   700       30.9      92             0.0        N | 8   230327,\n",
       " 278:         Date  Time  Temp (°F)  RH (%)  Wind Spd (mph) Wind Dir (°) date ymd\n",
       " 1453  4/3/23  1000       48.7      46             8.8    NNW | 334   230403,\n",
       " 279:          Date  Time  Temp (°F)  RH (%)  Wind Spd (mph) Wind Dir (°) date ymd\n",
       " 1622  3/27/23   900       42.6      73             0.0        N | 0   230327,\n",
       " 280:         Date  Time  Temp (°F)  RH (%)  Wind Spd (mph) Wind Dir (°) date ymd\n",
       " 1503  4/1/23   800       39.1      95             0.0        N | 0   230401,\n",
       " 281:         Date  Time  Temp (°F)  RH (%)  Wind Spd (mph) Wind Dir (°) date ymd\n",
       " 1479  4/2/23   800       44.4      93             0.0      W | 262   230402,\n",
       " 282:         Date  Time  Temp (°F)  RH (%)  Wind Spd (mph) Wind Dir (°) date ymd\n",
       " 2131  3/6/23   300       34.9      94             0.1     NNE | 18   230306,\n",
       " 283:         Date  Time  Temp (°F)  RH (%)  Wind Spd (mph) Wind Dir (°) date ymd\n",
       " 353  5/19/23   600       47.2      94             0.0     ENE | 64   230519,\n",
       " 284:          Date  Time  Temp (°F)  RH (%)  Wind Spd (mph) Wind Dir (°) date ymd\n",
       " 1626  3/27/23   500       32.1      89             0.1     NW | 315   230327,\n",
       " 285:         Date  Time  Temp (°F)  RH (%)  Wind Spd (mph) Wind Dir (°) date ymd\n",
       " 1452  4/3/23  1100       51.6      43             8.2    WNW | 303   230403,\n",
       " 286:          Date  Time  Temp (°F)  RH (%)  Wind Spd (mph) Wind Dir (°) date ymd\n",
       " 1235  4/12/23  1200       60.2      41             5.7    WNW | 287   230412,\n",
       " 287:          Date  Time  Temp (°F)  RH (%)  Wind Spd (mph) Wind Dir (°) date ymd\n",
       " 1842  3/18/23   500       41.2      95             0.0     ENE | 58   230318,\n",
       " 288:         Date  Time  Temp (°F)  RH (%)  Wind Spd (mph) Wind Dir (°) date ymd\n",
       " 1504  4/1/23   700       35.9      95             0.0      N | 350   230401,\n",
       " 289:          Date  Time  Temp (°F)  RH (%)  Wind Spd (mph) Wind Dir (°) date ymd\n",
       " 1626  3/27/23   500       32.1      89             0.1     NW | 315   230327,\n",
       " 290:         Date  Time  Temp (°F)  RH (%)  Wind Spd (mph) Wind Dir (°) date ymd\n",
       " 2196  3/3/23  1000       49.6      74             4.8    SSE | 166   230303,\n",
       " 291:         Date  Time  Temp (°F)  RH (%)  Wind Spd (mph) Wind Dir (°) date ymd\n",
       " 1454  4/3/23   900       45.0      55             7.0     NW | 318   230403,\n",
       " 292:         Date  Time  Temp (°F)  RH (%)  Wind Spd (mph) Wind Dir (°) date ymd\n",
       " 1504  4/1/23   700       35.9      95             0.0      N | 350   230401,\n",
       " 293:         Date  Time  Temp (°F)  RH (%)  Wind Spd (mph) Wind Dir (°) date ymd\n",
       " 348  5/19/23  1100       67.2      56             2.8      S | 180   230519,\n",
       " 294:         Date  Time  Temp (°F)  RH (%)  Wind Spd (mph) Wind Dir (°) date ymd\n",
       " 1453  4/3/23  1000       48.7      46             8.8    NNW | 334   230403,\n",
       " 295:         Date  Time  Temp (°F)  RH (%)  Wind Spd (mph) Wind Dir (°) date ymd\n",
       " 1433  4/4/23   600       32.8      89             1.1       E | 90   230404,\n",
       " 296:         Date  Time  Temp (°F)  RH (%)  Wind Spd (mph) Wind Dir (°) date ymd\n",
       " 1452  4/3/23  1100       51.6      43             8.2    WNW | 303   230403,\n",
       " 297:          Date  Time  Temp (°F)  RH (%)  Wind Spd (mph) Wind Dir (°) date ymd\n",
       " 1626  3/27/23   500       32.1      89             0.1     NW | 315   230327,\n",
       " 298:          Date  Time  Temp (°F)  RH (%)  Wind Spd (mph) Wind Dir (°) date ymd\n",
       " 1622  3/27/23   900       42.6      73             0.0        N | 0   230327,\n",
       " 299:         Date  Time  Temp (°F)  RH (%)  Wind Spd (mph) Wind Dir (°) date ymd\n",
       " 2201  3/3/23   500       36.7      95             0.1       E | 80   230303,\n",
       " 300:         Date  Time  Temp (°F)  RH (%)  Wind Spd (mph) Wind Dir (°) date ymd\n",
       " 1453  4/3/23  1000       48.7      46             8.8    NNW | 334   230403,\n",
       " 301:         Date  Time  Temp (°F)  RH (%)  Wind Spd (mph) Wind Dir (°) date ymd\n",
       " 2083  3/8/23   300       45.2      90             2.9      S | 178   230308,\n",
       " 302:          Date  Time  Temp (°F)  RH (%)  Wind Spd (mph) Wind Dir (°) date ymd\n",
       " 1240  4/12/23   700       38.4      81             0.0     NW | 325   230412,\n",
       " 303:         Date  Time  Temp (°F)  RH (%)  Wind Spd (mph) Wind Dir (°) date ymd\n",
       " 2196  3/3/23  1000       49.6      74             4.8    SSE | 166   230303,\n",
       " 304:          Date  Time  Temp (°F)  RH (%)  Wind Spd (mph) Wind Dir (°) date ymd\n",
       " 1648  3/26/23   700       32.4      87             0.0        N | 0   230326,\n",
       " 305:         Date  Time  Temp (°F)  RH (%)  Wind Spd (mph) Wind Dir (°) date ymd\n",
       " 2199  3/3/23   700       39.0      95             0.0        N | 0   230303,\n",
       " 306:         Date  Time  Temp (°F)  RH (%)  Wind Spd (mph) Wind Dir (°) date ymd\n",
       " 2194  3/3/23  1200       55.2      60             2.2    SSE | 153   230303,\n",
       " 307:         Date  Time  Temp (°F)  RH (%)  Wind Spd (mph) Wind Dir (°) date ymd\n",
       " 348  5/19/23  1100       67.2      56             2.8      S | 180   230519,\n",
       " 308:         Date  Time  Temp (°F)  RH (%)  Wind Spd (mph) Wind Dir (°) date ymd\n",
       " 353  5/19/23   600       47.2      94             0.0     ENE | 64   230519,\n",
       " 309:         Date  Time  Temp (°F)  RH (%)  Wind Spd (mph) Wind Dir (°) date ymd\n",
       " 2194  3/3/23  1200       55.2      60             2.2    SSE | 153   230303,\n",
       " 310:         Date  Time  Temp (°F)  RH (%)  Wind Spd (mph) Wind Dir (°) date ymd\n",
       " 348  5/19/23  1100       67.2      56             2.8      S | 180   230519,\n",
       " 311:         Date  Time  Temp (°F)  RH (%)  Wind Spd (mph) Wind Dir (°) date ymd\n",
       " 2083  3/8/23   300       45.2      90             2.9      S | 178   230308,\n",
       " 312:         Date  Time  Temp (°F)  RH (%)  Wind Spd (mph) Wind Dir (°) date ymd\n",
       " 353  5/19/23   600       47.2      94             0.0     ENE | 64   230519,\n",
       " 313:          Date  Time  Temp (°F)  RH (%)  Wind Spd (mph) Wind Dir (°) date ymd\n",
       " 1649  3/26/23   600       36.1      77             2.0     NW | 318   230326,\n",
       " 314:         Date  Time  Temp (°F)  RH (%)  Wind Spd (mph) Wind Dir (°) date ymd\n",
       " 1452  4/3/23  1100       51.6      43             8.2    WNW | 303   230403,\n",
       " 315:         Date  Time  Temp (°F)  RH (%)  Wind Spd (mph) Wind Dir (°) date ymd\n",
       " 2203  3/3/23   300       36.8      92             0.3      E | 100   230303,\n",
       " 316:          Date  Time  Temp (°F)  RH (%)  Wind Spd (mph) Wind Dir (°) date ymd\n",
       " 1626  3/27/23   500       32.1      89             0.1     NW | 315   230327,\n",
       " 317:          Date  Time  Temp (°F)  RH (%)  Wind Spd (mph) Wind Dir (°) date ymd\n",
       " 1623  3/27/23   800       33.8      93             0.0    WNW | 295   230327,\n",
       " 318:         Date  Time  Temp (°F)  RH (%)  Wind Spd (mph) Wind Dir (°) date ymd\n",
       " 1504  4/1/23   700       35.9      95             0.0      N | 350   230401}"
      ]
     },
     "execution_count": 42,
     "metadata": {},
     "output_type": "execute_result"
    }
   ],
   "source": [
    "fndt"
   ]
  },
  {
   "cell_type": "markdown",
   "id": "66d23875",
   "metadata": {},
   "source": [
    "# computing medians for each mkimg"
   ]
  },
  {
   "cell_type": "code",
   "execution_count": 11,
   "id": "133498e1",
   "metadata": {},
   "outputs": [],
   "source": [
    "datapath = '/Users/avery/seoproject/data2w/'\n",
    "fpath = '/Users/avery/seoproject/filenames.csv'"
   ]
  },
  {
   "cell_type": "code",
   "execution_count": 12,
   "id": "96450649",
   "metadata": {},
   "outputs": [],
   "source": [
    "fnames = pd.read_csv(fpath)\n",
    "fn = fnames['filename']"
   ]
  },
  {
   "cell_type": "code",
   "execution_count": 153,
   "id": "8f8c1358",
   "metadata": {},
   "outputs": [
    {
     "data": {
      "text/plain": [
       "\n",
       "SIMPLE  =                    T / conforms to FITS standard\n",
       "BITPIX  =                  -32 / array data type\n",
       "NAXIS   =                    2 / number of array dimensions\n",
       "NAXIS1  =                 2048 / \n",
       "NAXIS2  =                 2064 / \n",
       "EXTEND  =                    T / \n",
       "DEWTEM1 =                  -15 / dewar temperature (C)\n",
       "DETECTOR= 'ProLine_PL230'      / \n",
       "GAIN    =                  0.0 / e-/ADU\n",
       "DARKTIME=                  112 / time since last read (seconds)\n",
       "XBIN    =                    1 / \n",
       "YBIN    =                    1 / \n",
       "PIXSIZE1=                   15 / pixel size for axis 1 (microns)\n",
       "PIXSIZE2=                   15 / pixel size for axis 2 (microns)\n",
       "OBSERVAT= 'StoneEdge'          / \n",
       "TELESCOP= '0.5meter'           / \n",
       "OBSLONG =             -122.504 / east longitude in degrees\n",
       "OBSLAT  =              38.2887 / latitude in degrees\n",
       "ELEVATIO=                   60 / elevation in meters\n",
       "TELSCALE=                 51.6 / arc-seconds/mm\n",
       "OBSERVER= 'ixchel'             / \n",
       "RA      = '11:17:55.8396'      / \n",
       "DEC     = '2:39:22.4351'       / \n",
       "COMMENT Original key: \"EQUINOX\"\n",
       "_QUINOX =                 2000 / \n",
       "OVER    =                    F / \n",
       "HA      = '00:35:40'           / \n",
       "AIRMASS =                 1.25 / secant z\n",
       "DOMEAZ  =                189.4 / degrees\n",
       "TRAKHA  =               15.041 / arc-sec/second\n",
       "TRAKDEC =                    0 / arc-sec/second\n",
       "TELFOCUS=                 4751 / mm\n",
       "AMBIENT =                  6.3 / Lower truss North (C)\n",
       "PRIMARY =                  8.2 / Primary mirror cell (C)\n",
       "SECONDAR=                  6.7 / Outside ring (C)\n",
       "CLOUD   =                 0.92 / cloud coverage (0-1)\n",
       "FILTER  = 'i-band'             / \n",
       "SLIT    = 'open'               / \n",
       "MIRROR  = 'open'               / \n",
       "COMMENT Original key: \"CRPIX1\"\n",
       "_RPIX1  =                 1024 / \n",
       "COMMENT Original key: \"CRPIX2\"\n",
       "_RPIX2  =                 1032 / \n",
       "COMMENT Original key: \"CTYPE1\"\n",
       "_TYPE1  = 'RA---TAN'           / \n",
       "COMMENT Original key: \"CTYPE2\"\n",
       "_TYPE2  = 'DEC--TAN'           / \n",
       "COMMENT Original key: \"CRVAL1\"\n",
       "_RVAL1  =           169.484583 / \n",
       "COMMENT Original key: \"CRVAL2\"\n",
       "_RVAL2  =             2.623564 / \n",
       "WCSDIM  =                    2 / \n",
       "COMMENT Original key: \"CD1_1\"\n",
       "_D1_1   =        -0.0002149583 / \n",
       "COMMENT Original key: \"CD1_2\"\n",
       "_D1_2   =         -2.63248E-20 / \n",
       "COMMENT Original key: \"CD2_2\"\n",
       "_D2_2   =        -0.0002149583 / \n",
       "COMMENT Original key: \"CD2_1\"\n",
       "_D2_1   =          2.63248E-20 / \n",
       "EXPTIME =                   60 / ACTUAL exposure time (seconds)\n",
       "SHUTTER = 'open'               / camera shutter\n",
       "TIMESYS = 'UTC approximate'    / \n",
       "DATE-OBS= '2023-04-01T07:27:15' / \n",
       "UT      = '07:27:15'           / shutter opening time\n",
       "MJD-OBS =       60035.31059028 / MJD of observation start\n",
       "MJDHDR  =       60035.31131076 / MJD of header creation\n",
       "LSTHDR  = '11:54:51'           / LST of header creation\n",
       "IMAGETYP= 'OBJECT'             / \n",
       "OBJECT  = 'k2-22'              / \n",
       "PRODTYPE= 'astrometrylocal'    / Product Type\n",
       "PIPEVERS= '1_3_0beta3'         / Pipeline Version\n",
       "FILENAME= 'k2-22_i-band_60.0s_bin1_230401_072705_jhyoussef_seo_0_WCS.fits' / \n",
       "DATE    = '2023-04-01T11:18:19' / \n",
       "RHALF   =    2.121729912080446 / Mean half-power radius of LTS stars (pixels)\n",
       "RHALFSTD=   0.1666901299444661 / std of half-power radii of LTS stars (pixels)\n",
       "ELONG   =    1.115143197658201 / Mean elongation ratio of accepted sources\n",
       "ETHRESH =                  5.0 / Extraction threshold for SEP_objects table\n",
       "EXTNAME = 'PRIMARY IMAGE'      / ID of the HDU\n",
       "HISTORY Reduced: addkeys v0.1 2023-04-01_11:18:06\n",
       "HISTORY  addkeys: filternames=['u-band', 'g-band', 'i-band', 'r-band', 'z-band',\n",
       "HISTORY  'h-alpha', 'clear']\n",
       "HISTORY  addkeys: keystocopy=['OBSERVER', 'OBJECT', 'FILTER', 'GAIN', 'RA', 'DEC\n",
       "HISTORY ', 'DATE-OBS']\n",
       "HISTORY CONFIG: /data/scripts/pipeline/config/pipeconf_SEO.txt\n",
       "HISTORY bdf: Best bias = /data/images/StoneEdge/0.5meter/2023/MastersCCD/Bias/da\n",
       "HISTORY rktempfit_h-alpha_0.001s_bin1_221031-221208_2.3-19.3C_BTFIT.fits\n",
       "HISTORY bdf: Best dark = /data/images/StoneEdge/0.5meter/2023/MastersCCD/Dark/da\n",
       "HISTORY rktempfit_h-alpha_128.0s_bin1_221031-221208_0.3-21.3C_TFIT.fits\n",
       "HISTORY bdf: Best flat = /data/images/StoneEdge/0.5meter/2023/MastersCCD/Flat/fl\n",
       "HISTORY at_i-band_2.03s_bin1H_20221101_013911_chultun_seo_8_MFLAT.fits\n",
       "HISTORY BIAS: /data/images/StoneEdge/0.5meter/2023/MastersCCD/Bias/darktempfit_h\n",
       "HISTORY -alpha_0.001s_bin1_221031-221208_2.3-19.3C_BTFIT.fits\n",
       "HISTORY DARK: /data/images/StoneEdge/0.5meter/2023/MastersCCD/Dark/darktempfit_h\n",
       "HISTORY -alpha_128.0s_bin1_221031-221208_0.3-21.3C_TFIT.fits\n",
       "HISTORY FLAT: /data/images/StoneEdge/0.5meter/2023/MastersCCD/Flat/flat_i-band_2\n",
       "HISTORY .03s_bin1H_20221101_013911_chultun_seo_8_MFLAT.fits\n",
       "HISTORY Reduced: bdf v0.1 2023-04-01_11:18:08\n",
       "HISTORY  bdf: reload=True\n",
       "HISTORY  bdf: remove_cosmics=True\n",
       "HISTORY  bdf: psffwhm=5.0\n",
       "HISTORY  bdf: fsmode=convolve\n",
       "HISTORY  bdf: cleantype=medmask\n",
       "HISTORY  bdf: biasfile=$MASTER_BDF_FOLDER/Bias/*.fits\n",
       "HISTORY  bdf: bkupbias=\n",
       "HISTORY  bdf: biasfitkeys=['NAXIS1', 'XBIN', 'DATE-OBS']\n",
       "HISTORY  bdf: daterange=0.5\n",
       "HISTORY  bdf: darkfile=$MASTER_BDF_FOLDER/Dark/*.fits\n",
       "HISTORY  bdf: bkupdark=\n",
       "HISTORY  bdf: darkfitkeys=['NAXIS1', 'XBIN', 'EXPTIME', 'DATE-OBS']\n",
       "HISTORY  bdf: flatfile=$MASTER_BDF_FOLDER/Flat/*.fits\n",
       "HISTORY  bdf: bkupflat=\n",
       "HISTORY  bdf: flatfitkeys=['NAXIS1', 'XBIN', 'FILTER', 'DATE-OBS']\n",
       "HISTORY PipeMode = seo_server_ccd\n",
       "HISTORY Reduced: srcextpy v0.1 2023-04-01_11:18:11\n",
       "HISTORY  srcextpy: sourcetable=True\n",
       "HISTORY  srcextpy: sourcetableformat=csv\n",
       "HISTORY  srcextpy: bkg_maskthreshold=0.0\n",
       "HISTORY  srcextpy: bkg_wh=[16, 16]\n",
       "HISTORY  srcextpy: bkg_filterwh=[3, 3]\n",
       "HISTORY  srcextpy: bkg_fthreshold=0.0\n",
       "HISTORY  srcextpy: ext_thresh=5.0\n",
       "HISTORY  srcextpy: ext_bfactor=10.0\n",
       "HISTORY  srcextpy: ext_deblend=256\n",
       "HISTORY  srcextpy: phot_kronf=2.5\n",
       "HISTORY  srcextpy: save_background=True\n",
       "COMMENT Original key: \"END\"\n",
       "COMMENT \n",
       "COMMENT --Start of Astrometry.net WCS solution--\n",
       "COMMENT --Put in by the new-wcs program--\n",
       "COMMENT \n",
       "WCSAXES =                    2 / no comment\n",
       "CTYPE1  = 'RA---TAN-SIP'       / TAN (gnomic) projection + SIP distortions\n",
       "CTYPE2  = 'DEC--TAN-SIP'       / TAN (gnomic) projection + SIP distortions\n",
       "EQUINOX =               2000.0 / Equatorial coordinates definition (yr)\n",
       "LONPOLE =                180.0 / no comment\n",
       "LATPOLE =                  0.0 / no comment\n",
       "CRVAL1  =    169.4826649276689 / RA  of reference point\n",
       "CRVAL2  =    2.656231970833963 / DEC of reference point\n",
       "CRPIX1  =               1024.0 / X reference pixel\n",
       "CRPIX2  =               1032.0 / Y reference pixel\n",
       "CUNIT1  = 'deg'                / X pixel scale units\n",
       "CUNIT2  = 'deg'                / Y pixel scale units\n",
       "CD1_1   =   -0.000214469383386 / Transformation matrix\n",
       "CD1_2   =   -3.80720684668E-06 / no comment\n",
       "CD2_1   =     3.8841453292E-06 / no comment\n",
       "CD2_2   =   -0.000214524732464 / no comment\n",
       "IMAGEW  =                 2048 / Image width,  in pixels.\n",
       "IMAGEH  =                 2064 / Image height, in pixels.\n",
       "A_ORDER =                    2 / Polynomial order, axis 1\n",
       "A_0_0   =                    0 / no comment\n",
       "A_0_1   =                    0 / no comment\n",
       "A_0_2   =    9.88816401485E-07 / no comment\n",
       "A_1_0   =                    0 / no comment\n",
       "A_1_1   =    4.23933025382E-07 / no comment\n",
       "A_2_0   =   -1.14653193156E-06 / no comment\n",
       "B_ORDER =                    2 / Polynomial order, axis 2\n",
       "B_0_0   =                    0 / no comment\n",
       "B_0_1   =                    0 / no comment\n",
       "B_0_2   =    1.52760388871E-08 / no comment\n",
       "B_1_0   =                    0 / no comment\n",
       "B_1_1   =   -3.93815453573E-07 / no comment\n",
       "B_2_0   =    9.97872361647E-08 / no comment\n",
       "AP_ORDER=                    2 / Inv polynomial order, axis 1\n",
       "AP_0_0  =    1.53096713837E-06 / no comment\n",
       "AP_0_1  =   -2.26928380005E-07 / no comment\n",
       "AP_0_2  =   -9.88815746178E-07 / no comment\n",
       "AP_1_0  =    7.08552785005E-07 / no comment\n",
       "AP_1_1  =   -4.23928625676E-07 / no comment\n",
       "AP_2_0  =    1.14652455831E-06 / no comment\n",
       "BP_ORDER=                    2 / Inv polynomial order, axis 2\n",
       "BP_0_0  =   -2.64390606971E-07 / no comment\n",
       "BP_0_1  =    -5.8884795598E-09 / no comment\n",
       "BP_0_2  =   -1.52752194934E-08 / no comment\n",
       "BP_1_0  =   -1.75365030336E-07 / no comment\n",
       "BP_1_1  =    3.93814368927E-07 / no comment\n",
       "BP_2_0  =   -9.97868696621E-08 / no comment\n",
       "HISTORY Created by the Astrometry.net suite.\n",
       "HISTORY For more details, see http://astrometry.net.\n",
       "HISTORY Git URL https://github.com/dstndstn/astrometry.net\n",
       "HISTORY Git revision 0.70\n",
       "HISTORY Git date Wed_Dec_7_11:52:34_2016_-0500\n",
       "HISTORY This WCS header was created by the program \"blind\".\n",
       "HISTORY Astrometry.Net: At downsample = 4, search took 186 seconds\n",
       "HISTORY Astrometry: Paramopts = Downsample=4 Paramopts=--guess-sc\n",
       "HISTORY Reduced: astrometrylocal v0.2 2023-04-01_11:18:19\n",
       "HISTORY  astrometrylocal: astrocmd=/data/scripts/astrometry/install/bin/solve-fi\n",
       "HISTORY eld         --no-verify --crpix-center --no-plots --overwrite --continue\n",
       "HISTORY                --index-xyls none --axy none --temp-axy --solved none --m\n",
       "HISTORY atch none --rdls none --corr none            --scale-units arcsecperpix\n",
       "HISTORY --cpulimit 300 --scale-low 0.5 --scale-high 2.0 --sort-column FLUX %s --\n",
       "HISTORY out %s\n",
       "HISTORY  astrometrylocal: verbose=True\n",
       "HISTORY  astrometrylocal: delete_temp=True\n",
       "HISTORY  astrometrylocal: downsample=[4, 2, 6, 8, 10]\n",
       "HISTORY  astrometrylocal: paramoptions=['--guess-scale', '--scale-low 0.5 --scal\n",
       "HISTORY e-high 2.0 --sort-column FLUX']\n",
       "HISTORY  astrometrylocal: timeout=120\n",
       "HISTORY  astrometrylocal: ra=\n",
       "HISTORY  astrometrylocal: dec=\n",
       "HISTORY  astrometrylocal: searchradius=5\n",
       "COMMENT Original WCS key: \"DATE\"\n",
       "_ATE    = '2023-04-01T11:18:18' / Date this file was created.\n",
       "COMMENT -- blind solver parameters: --\n",
       "COMMENT Index(0):\n",
       "COMMENT   /data/scripts/astrometry/install/data/index-4207-06.fits\n",
       "COMMENT Index(1):\n",
       "COMMENT   /data/scripts/astrometry/install/data/index-4201-27.fits\n",
       "COMMENT Index(2):\n",
       "COMMENT   /data/scripts/astrometry/install/data/index-4201-25.fits\n",
       "COMMENT Field name: /tmp/tmp.axy.vijSmE\n",
       "COMMENT Field scale lower: 0.766111 arcsec/pixel\n",
       "COMMENT Field scale upper: 0.781588 arcsec/pixel\n",
       "COMMENT X col name: X\n",
       "COMMENT Y col name: Y\n",
       "COMMENT Start obj: 10\n",
       "COMMENT End obj: 20\n",
       "COMMENT Solved_in: (null)\n",
       "COMMENT Solved_out: (null)\n",
       "COMMENT Solvedserver: (null)\n",
       "COMMENT Parity: 2\n",
       "COMMENT Codetol: 0.01\n",
       "COMMENT Verify pixels: 1 pix\n",
       "COMMENT Maxquads: 0\n",
       "COMMENT Maxmatches: 0\n",
       "COMMENT Cpu limit: 300.000000 s\n",
       "COMMENT Time limit: 0 s\n",
       "COMMENT Total time limit: 0 s\n",
       "COMMENT Total CPU limit: 300.000000 s\n",
       "COMMENT Tweak: yes\n",
       "COMMENT Tweak AB order: 2\n",
       "COMMENT Tweak ABP order: 2\n",
       "COMMENT --\n",
       "COMMENT -- properties of the matching quad: --\n",
       "COMMENT index id: 4207\n",
       "COMMENT index healpix: 6\n",
       "COMMENT index hpnside: 1\n",
       "COMMENT log odds: 143.594\n",
       "COMMENT odds: 2.30246e+62\n",
       "COMMENT quadno: 168640\n",
       "COMMENT stars: 187822,187839,187808,187847\n",
       "COMMENT field: 2,18,3,6\n",
       "COMMENT code error: 0.00268608\n",
       "COMMENT nmatch: 17\n",
       "COMMENT nconflict: 0\n",
       "COMMENT nfield: 345\n",
       "COMMENT nindex: 17\n",
       "COMMENT scale: 0.772313 arcsec/pix\n",
       "COMMENT parity: 1\n",
       "COMMENT quads tried: 1158\n",
       "COMMENT quads matched: 89\n",
       "COMMENT quads verified: 0\n",
       "COMMENT objs tried: 19\n",
       "COMMENT cpu time: 0.015998\n",
       "COMMENT --\n",
       "COMMENT \n",
       "COMMENT --End of Astrometry.net WCS--\n",
       "COMMENT --(Put in by the new-wcs program)--\n",
       "COMMENT "
      ]
     },
     "execution_count": 153,
     "metadata": {},
     "output_type": "execute_result"
    }
   ],
   "source": [
    "h"
   ]
  },
  {
   "cell_type": "code",
   "execution_count": 13,
   "id": "9d7896d4",
   "metadata": {},
   "outputs": [],
   "source": [
    "expts = []\n",
    "\n",
    "for f in fn:\n",
    "    h = fitsio.read_header(datapath+f)\n",
    "    et = h['EXPTIME']\n",
    "    expts.append(et)"
   ]
  },
  {
   "cell_type": "code",
   "execution_count": 45,
   "id": "6119ae09",
   "metadata": {},
   "outputs": [],
   "source": [
    "nimgs = []\n",
    "\n",
    "for i in range(0,len(fn)):\n",
    "    data = fitsio.read(datapath+fn[i])\n",
    "#     data = data / np.median(data)\n",
    "    data = data / expts[i]\n",
    "    nimgs.append(data)"
   ]
  },
  {
   "cell_type": "code",
   "execution_count": 107,
   "id": "e5c1b9e8",
   "metadata": {},
   "outputs": [
    {
     "name": "stdout",
     "output_type": "stream",
     "text": [
      "CPU times: user 16min 58s, sys: 1min 3s, total: 18min 1s\n",
      "Wall time: 18min 27s\n"
     ]
    }
   ],
   "source": [
    "%%time\n",
    "\n",
    "mimgs = []\n",
    "meds = []\n",
    "segmaps = []\n",
    "# dsb = []\n",
    "# vs = []\n",
    "objs = []\n",
    "\n",
    "for d in range(0,len(fn)):\n",
    "#     data = fitsio.read(datapath+fncl[d])\n",
    "    data = nimgs[d]\n",
    "    bkg = sep.Background(data)\n",
    "    data_sub = data - bkg\n",
    "#     data_sub = data_sub / expts[d]\n",
    "#     dsb.append(data_sub)\n",
    "    \n",
    "    v = np.var(data_sub)\n",
    "#     vs.append(v)\n",
    "    th = 0.2\n",
    "    \n",
    "    objects, segmap = sep.extract(data_sub, thresh=th, var=v, segmentation_map=True)\n",
    "    segmap = scipy.ndimage.binary_dilation(segmap, iterations=5) # default # of iters = 1\n",
    "#     segmaps.append(segmap)\n",
    "#     objs.append(objects)\n",
    "    \n",
    "    if len(objects)==0:\n",
    "        print('no sources {}-th index'.format(d))\n",
    "    \n",
    "    mimg = np.zeros_like(data)\n",
    "    mimg[segmap<1]=data[segmap<1]\n",
    "    mimgs.append(mimg)\n",
    "    \n",
    "    med = np.median(data[segmap<1])\n",
    "    meds.append(med)\n",
    "    \n",
    "mkimgs = np.asarray(mimgs)\n"
   ]
  },
  {
   "cell_type": "code",
   "execution_count": 108,
   "id": "0c6d2d8d",
   "metadata": {},
   "outputs": [],
   "source": [
    "np.save('/Users/avery/seoproject/expbkgmeds5iter',meds)"
   ]
  },
  {
   "cell_type": "markdown",
   "id": "2bd5c07b",
   "metadata": {},
   "source": [
    "# creating list of climate data for plotting"
   ]
  },
  {
   "cell_type": "code",
   "execution_count": 14,
   "id": "c12d803b",
   "metadata": {},
   "outputs": [],
   "source": [
    "fncl = []\n",
    "temps = []\n",
    "rh = []\n",
    "wsp = []\n",
    "wd = []\n",
    "for i in range(0,len(rtimes)):\n",
    "    if not fndt[i].empty:\n",
    "        fncl.append(fn[i])\n",
    "        temps.append(fndt[i]['Temp (°F)'].values[0])\n",
    "        rh.append(fndt[i]['RH (%)'].values[0])\n",
    "        wsp.append(fndt[i]['Wind Spd (mph)'].values[0])\n",
    "        wd.append(fndt[i]['Wind Dir (°)'].values[0].split(\" | \")[1])"
   ]
  },
  {
   "cell_type": "code",
   "execution_count": 25,
   "id": "d47ba811",
   "metadata": {},
   "outputs": [],
   "source": [
    "findict = {'temp':temps, 'rh':rh,'wind spd':wsp, 'wind dir':wd, 'moon angle': spval}"
   ]
  },
  {
   "cell_type": "code",
   "execution_count": 26,
   "id": "1bc03138",
   "metadata": {},
   "outputs": [],
   "source": [
    "findf = pd.DataFrame.from_dict(findict)"
   ]
  },
  {
   "cell_type": "code",
   "execution_count": 28,
   "id": "849f6827",
   "metadata": {},
   "outputs": [],
   "source": [
    "findf.to_csv('/Users/avery/seoproject/parapim.csv')"
   ]
  },
  {
   "cell_type": "code",
   "execution_count": 48,
   "id": "588d7d6b",
   "metadata": {},
   "outputs": [],
   "source": [
    "meds = np.load('/Users/avery/seoproject/bkgmeds5iter.npy')"
   ]
  },
  {
   "cell_type": "code",
   "execution_count": 16,
   "id": "4f334623",
   "metadata": {},
   "outputs": [],
   "source": [
    "exmeds = np.load('/Users/avery/seoproject/expbkgmeds5iter.npy')"
   ]
  },
  {
   "cell_type": "code",
   "execution_count": 49,
   "id": "be8eb23d",
   "metadata": {},
   "outputs": [],
   "source": [
    "x = np.isin(fn, fncl)\n",
    "medscl = meds[x]"
   ]
  },
  {
   "cell_type": "code",
   "execution_count": 17,
   "id": "c80979c4",
   "metadata": {},
   "outputs": [],
   "source": [
    "exmeds = np.asarray(exmeds)\n",
    "x = np.isin(fn, fncl)\n",
    "exmedscl = exmeds[x]"
   ]
  },
  {
   "cell_type": "markdown",
   "id": "1fcf1c85",
   "metadata": {},
   "source": [
    "## plotting bkg medians versus weather parameters"
   ]
  },
  {
   "cell_type": "markdown",
   "id": "ba99cc05",
   "metadata": {},
   "source": [
    "### normalized by median value"
   ]
  },
  {
   "cell_type": "code",
   "execution_count": 52,
   "id": "b1832059",
   "metadata": {},
   "outputs": [
    {
     "data": {
      "text/plain": [
       "Text(0, 0.5, 'bkg med val')"
      ]
     },
     "execution_count": 52,
     "metadata": {},
     "output_type": "execute_result"
    },
    {
     "data": {
      "image/png": "[encoded data removed]",
      "text/plain": [
       "<Figure size 432x288 with 1 Axes>"
      ]
     },
     "metadata": {
      "needs_background": "light"
     },
     "output_type": "display_data"
    },
    {
     "data": {
      "image/png": "[encoded data removed]",
      "text/plain": [
       "<Figure size 432x288 with 1 Axes>"
      ]
     },
     "metadata": {
      "needs_background": "light"
     },
     "output_type": "display_data"
    }
   ],
   "source": [
    "plt.figure()\n",
    "plt.scatter(temps, medscl, s = 1)\n",
    "plt.title('temp vs bkg med')\n",
    "plt.xlabel('temp °F')\n",
    "plt.ylabel('bkg med val')\n",
    "\n",
    "plt.figure()\n",
    "plt.scatter(rh, medscl, s = 1)\n",
    "plt.title('RH vs bkg med')\n",
    "plt.xlabel('RH %')\n",
    "plt.ylabel('bkg med val')"
   ]
  },
  {
   "cell_type": "code",
   "execution_count": 53,
   "id": "12eb80c0",
   "metadata": {},
   "outputs": [
    {
     "data": {
      "text/plain": [
       "Text(0, 0.5, 'bkg med val')"
      ]
     },
     "execution_count": 53,
     "metadata": {},
     "output_type": "execute_result"
    },
    {
     "data": {
      "image/png": "[encoded data removed]",
      "text/plain": [
       "<Figure size 432x288 with 1 Axes>"
      ]
     },
     "metadata": {
      "needs_background": "light"
     },
     "output_type": "display_data"
    }
   ],
   "source": [
    "plt.scatter(rh, medscl, s = 1)\n",
    "plt.title('RH vs bkg med')\n",
    "plt.xlabel('RH %')\n",
    "plt.ylabel('bkg med val')"
   ]
  },
  {
   "cell_type": "code",
   "execution_count": 54,
   "id": "0ce9c36f",
   "metadata": {},
   "outputs": [
    {
     "data": {
      "text/plain": [
       "Text(0, 0.5, 'bkg med val')"
      ]
     },
     "execution_count": 54,
     "metadata": {},
     "output_type": "execute_result"
    },
    {
     "data": {
      "image/png": "[encoded data removed]",
      "text/plain": [
       "<Figure size 432x288 with 1 Axes>"
      ]
     },
     "metadata": {
      "needs_background": "light"
     },
     "output_type": "display_data"
    }
   ],
   "source": [
    "plt.scatter(wsp, medscl, s = 1)\n",
    "plt.title('wind spd vs bkg med')\n",
    "plt.xlabel('wind spd mph')\n",
    "plt.ylabel('bkg med val')"
   ]
  },
  {
   "cell_type": "code",
   "execution_count": 55,
   "id": "cffb2070",
   "metadata": {},
   "outputs": [
    {
     "data": {
      "text/plain": [
       "Text(0, 0.5, 'bkg med val')"
      ]
     },
     "execution_count": 55,
     "metadata": {},
     "output_type": "execute_result"
    },
    {
     "data": {
      "image/png": "[encoded data removed]",
      "text/plain": [
       "<Figure size 432x288 with 1 Axes>"
      ]
     },
     "metadata": {
      "needs_background": "light"
     },
     "output_type": "display_data"
    }
   ],
   "source": [
    "plt.scatter(wd, medscl, s = 1)\n",
    "plt.title('wind direction vs bkg med')\n",
    "plt.xlabel('wind direction °')\n",
    "plt.ylabel('bkg med val')"
   ]
  },
  {
   "cell_type": "markdown",
   "id": "633e75ff",
   "metadata": {},
   "source": [
    "### normalized by exposure time"
   ]
  },
  {
   "cell_type": "code",
   "execution_count": 61,
   "id": "ab68466c",
   "metadata": {},
   "outputs": [
    {
     "data": {
      "text/plain": [
       "Text(0, 0.5, 'bkg med val')"
      ]
     },
     "execution_count": 61,
     "metadata": {},
     "output_type": "execute_result"
    },
    {
     "data": {
      "image/png": "[encoded data removed]",
      "text/plain": [
       "<Figure size 432x288 with 1 Axes>"
      ]
     },
     "metadata": {
      "needs_background": "light"
     },
     "output_type": "display_data"
    },
    {
     "data": {
      "image/png": "[encoded data removed]",
      "text/plain": [
       "<Figure size 432x288 with 1 Axes>"
      ]
     },
     "metadata": {
      "needs_background": "light"
     },
     "output_type": "display_data"
    },
    {
     "data": {
      "image/png": "[encoded data removed]",
      "text/plain": [
       "<Figure size 432x288 with 1 Axes>"
      ]
     },
     "metadata": {
      "needs_background": "light"
     },
     "output_type": "display_data"
    },
    {
     "data": {
      "image/png": "[encoded data removed]",
      "text/plain": [
       "<Figure size 432x288 with 1 Axes>"
      ]
     },
     "metadata": {
      "needs_background": "light"
     },
     "output_type": "display_data"
    }
   ],
   "source": [
    "plt.figure()\n",
    "plt.scatter(temps, exmedscl, s = 2)\n",
    "plt.title('temp vs bkg med')\n",
    "plt.xlabel('temp °F')\n",
    "plt.ylabel('bkg med val')\n",
    "\n",
    "plt.figure()\n",
    "plt.scatter(rh, exmedscl, s = 2)\n",
    "plt.title('RH vs bkg med')\n",
    "plt.xlabel('RH %')\n",
    "plt.ylabel('bkg med val')\n",
    "\n",
    "plt.figure()\n",
    "plt.scatter(wsp, exmedscl, s = 2)\n",
    "plt.title('wind spd vs bkg med')\n",
    "plt.xlabel('wind spd mph')\n",
    "plt.ylabel('bkg med val')\n",
    "\n",
    "plt.figure()\n",
    "plt.scatter(wd, exmedscl, s = 2)\n",
    "plt.title('wind direction vs bkg med')\n",
    "plt.xlabel('wind direction °')\n",
    "plt.ylabel('bkg med val')"
   ]
  },
  {
   "cell_type": "markdown",
   "id": "f00e5d0b",
   "metadata": {},
   "source": [
    "## trying another climate data set"
   ]
  },
  {
   "cell_type": "code",
   "execution_count": 120,
   "id": "ad700126",
   "metadata": {},
   "outputs": [
    {
     "name": "stderr",
     "output_type": "stream",
     "text": [
      "/var/folders/dn/860znfzd5g994cf8xvnckf1r0000gp/T/ipykernel_6787/2971390619.py:9: UserWarning: Boolean Series key will be reindexed to match DataFrame index.\n",
      "  fndf = df3[df3['date ymd']==fdates[i]][df3['Time']==rtimes[i]]\n"
     ]
    }
   ],
   "source": [
    "x=np.isin(df['Time'],rtimes)\n",
    "df2 = df[x]\n",
    "\n",
    "y = np.isin(df2['date ymd'], fdates)\n",
    "df3 = df2[y]\n",
    "\n",
    "fndt2 = {}\n",
    "for i in range(0,len(rtimes)):\n",
    "    fndf = df3[df3['date ymd']==fdates[i]][df3['Time']==rtimes[i]]\n",
    "    fndt2[i]=fndf\n",
    "    \n",
    "# for i in range(0,len(rtimes)):\n",
    "#     if fndt[i].empty:\n",
    "#         fndt[i]='noclimdata'"
   ]
  },
  {
   "cell_type": "code",
   "execution_count": 121,
   "id": "811be53d",
   "metadata": {},
   "outputs": [],
   "source": [
    "fncl2 = []\n",
    "temps2 = []\n",
    "rh2 = []\n",
    "wsp2 = []\n",
    "wd2 = []\n",
    "for i in range(0,len(rtimes)):\n",
    "    if not fndt2[i].empty:\n",
    "        fncl2.append(fn[i])\n",
    "        temps2.append(fndt2[i]['Temp (°F)'].values[0])\n",
    "        rh2.append(fndt2[i]['RH (%)'].values[0])\n",
    "        wsp2.append(fndt2[i]['Wind Spd (mph)'].values[0])\n",
    "        wd2.append(fndt2[i]['Wind Dir (°)'].values[0].split(\" | \")[1])"
   ]
  },
  {
   "cell_type": "code",
   "execution_count": 123,
   "id": "7b56cf10",
   "metadata": {},
   "outputs": [
    {
     "data": {
      "text/plain": [
       "194"
      ]
     },
     "execution_count": 123,
     "metadata": {},
     "output_type": "execute_result"
    }
   ],
   "source": [
    "len(fncl2)"
   ]
  },
  {
   "cell_type": "markdown",
   "id": "a6b53680",
   "metadata": {},
   "source": [
    "## trying a third climate data set"
   ]
  },
  {
   "cell_type": "code",
   "execution_count": 126,
   "id": "f07695c6",
   "metadata": {},
   "outputs": [
    {
     "name": "stderr",
     "output_type": "stream",
     "text": [
      "/var/folders/dn/860znfzd5g994cf8xvnckf1r0000gp/T/ipykernel_6787/2246857031.py:9: UserWarning: Boolean Series key will be reindexed to match DataFrame index.\n",
      "  fndf = df3[df3['date ymd']==fdates[i]][df3['Time']==rtimes[i]]\n"
     ]
    }
   ],
   "source": [
    "x=np.isin(df['Time'],rtimes)\n",
    "df2 = df[x]\n",
    "\n",
    "y = np.isin(df2['date ymd'], fdates)\n",
    "df3 = df2[y]\n",
    "\n",
    "fndt3 = {}\n",
    "for i in range(0,len(rtimes)):\n",
    "    fndf = df3[df3['date ymd']==fdates[i]][df3['Time']==rtimes[i]]\n",
    "    fndt3[i]=fndf\n",
    "    \n",
    "# for i in range(0,len(rtimes)):\n",
    "#     if fndt[i].empty:\n",
    "#         fndt[i]='noclimdata'"
   ]
  },
  {
   "cell_type": "code",
   "execution_count": 127,
   "id": "cadf338b",
   "metadata": {},
   "outputs": [],
   "source": [
    "fncl3 = []\n",
    "temps3 = []\n",
    "rh3 = []\n",
    "wsp3 = []\n",
    "wd3 = []\n",
    "for i in range(0,len(rtimes)):\n",
    "    if not fndt3[i].empty:\n",
    "        fncl3.append(fn[i])\n",
    "        temps3.append(fndt3[i]['Temp (°F)'].values[0])\n",
    "        rh3.append(fndt3[i]['RH (%)'].values[0])\n",
    "        wsp3.append(fndt3[i]['Wind Spd (mph)'].values[0])\n",
    "        wd3.append(fndt3[i]['Wind Dir (°)'].values[0].split(\" | \")[1])"
   ]
  },
  {
   "cell_type": "code",
   "execution_count": 129,
   "id": "885853f0",
   "metadata": {},
   "outputs": [
    {
     "data": {
      "text/plain": [
       "True"
      ]
     },
     "execution_count": 129,
     "metadata": {},
     "output_type": "execute_result"
    }
   ],
   "source": [
    "fncl3==fncl2"
   ]
  },
  {
   "cell_type": "code",
   "execution_count": 136,
   "id": "1b71b98d",
   "metadata": {},
   "outputs": [],
   "source": [
    "fdates=np.asarray(fdates)\n",
    "fdcl=fdates[x]\n",
    "rtimes=np.asarray(rtimes)\n",
    "rtcl = rtimes[x]"
   ]
  },
  {
   "cell_type": "code",
   "execution_count": 140,
   "id": "73f5257c",
   "metadata": {},
   "outputs": [],
   "source": [
    "uq, ix = np.unique(fdcl, return_inverse=True)"
   ]
  },
  {
   "cell_type": "code",
   "execution_count": 141,
   "id": "7e480c97",
   "metadata": {},
   "outputs": [
    {
     "data": {
      "text/plain": [
       "array(['230303', '230306', '230308', '230401', '230402', '230403',\n",
       "       '230404', '230405', '230601'], dtype='<U6')"
      ]
     },
     "execution_count": 141,
     "metadata": {},
     "output_type": "execute_result"
    }
   ],
   "source": [
    "uq"
   ]
  },
  {
   "cell_type": "code",
   "execution_count": 151,
   "id": "3e719baf",
   "metadata": {},
   "outputs": [
    {
     "data": {
      "text/plain": [
       "array([600])"
      ]
     },
     "execution_count": 151,
     "metadata": {},
     "output_type": "execute_result"
    }
   ],
   "source": [
    "np.unique(rtcl[np.where(ix==6)])"
   ]
  },
  {
   "cell_type": "code",
   "execution_count": 10,
   "id": "3788b6b8",
   "metadata": {},
   "outputs": [],
   "source": [
    "import astropy.coordinates"
   ]
  },
  {
   "cell_type": "code",
   "execution_count": 154,
   "id": "4f4a2b83",
   "metadata": {},
   "outputs": [
    {
     "data": {
      "text/plain": [
       "\n",
       "SIMPLE  =                    T / conforms to FITS standard\n",
       "BITPIX  =                  -32 / array data type\n",
       "NAXIS   =                    2 / number of array dimensions\n",
       "NAXIS1  =                 2048 / \n",
       "NAXIS2  =                 2064 / \n",
       "EXTEND  =                    T / \n",
       "DEWTEM1 =                  -15 / dewar temperature (C)\n",
       "DETECTOR= 'ProLine_PL230'      / \n",
       "GAIN    =                  0.0 / e-/ADU\n",
       "DARKTIME=                  112 / time since last read (seconds)\n",
       "XBIN    =                    1 / \n",
       "YBIN    =                    1 / \n",
       "PIXSIZE1=                   15 / pixel size for axis 1 (microns)\n",
       "PIXSIZE2=                   15 / pixel size for axis 2 (microns)\n",
       "OBSERVAT= 'StoneEdge'          / \n",
       "TELESCOP= '0.5meter'           / \n",
       "OBSLONG =             -122.504 / east longitude in degrees\n",
       "OBSLAT  =              38.2887 / latitude in degrees\n",
       "ELEVATIO=                   60 / elevation in meters\n",
       "TELSCALE=                 51.6 / arc-seconds/mm\n",
       "OBSERVER= 'ixchel'             / \n",
       "RA      = '11:17:55.8396'      / \n",
       "DEC     = '2:39:22.4351'       / \n",
       "COMMENT Original key: \"EQUINOX\"\n",
       "_QUINOX =                 2000 / \n",
       "OVER    =                    F / \n",
       "HA      = '00:35:40'           / \n",
       "AIRMASS =                 1.25 / secant z\n",
       "DOMEAZ  =                189.4 / degrees\n",
       "TRAKHA  =               15.041 / arc-sec/second\n",
       "TRAKDEC =                    0 / arc-sec/second\n",
       "TELFOCUS=                 4751 / mm\n",
       "AMBIENT =                  6.3 / Lower truss North (C)\n",
       "PRIMARY =                  8.2 / Primary mirror cell (C)\n",
       "SECONDAR=                  6.7 / Outside ring (C)\n",
       "CLOUD   =                 0.92 / cloud coverage (0-1)\n",
       "FILTER  = 'i-band'             / \n",
       "SLIT    = 'open'               / \n",
       "MIRROR  = 'open'               / \n",
       "COMMENT Original key: \"CRPIX1\"\n",
       "_RPIX1  =                 1024 / \n",
       "COMMENT Original key: \"CRPIX2\"\n",
       "_RPIX2  =                 1032 / \n",
       "COMMENT Original key: \"CTYPE1\"\n",
       "_TYPE1  = 'RA---TAN'           / \n",
       "COMMENT Original key: \"CTYPE2\"\n",
       "_TYPE2  = 'DEC--TAN'           / \n",
       "COMMENT Original key: \"CRVAL1\"\n",
       "_RVAL1  =           169.484583 / \n",
       "COMMENT Original key: \"CRVAL2\"\n",
       "_RVAL2  =             2.623564 / \n",
       "WCSDIM  =                    2 / \n",
       "COMMENT Original key: \"CD1_1\"\n",
       "_D1_1   =        -0.0002149583 / \n",
       "COMMENT Original key: \"CD1_2\"\n",
       "_D1_2   =         -2.63248E-20 / \n",
       "COMMENT Original key: \"CD2_2\"\n",
       "_D2_2   =        -0.0002149583 / \n",
       "COMMENT Original key: \"CD2_1\"\n",
       "_D2_1   =          2.63248E-20 / \n",
       "EXPTIME =                   60 / ACTUAL exposure time (seconds)\n",
       "SHUTTER = 'open'               / camera shutter\n",
       "TIMESYS = 'UTC approximate'    / \n",
       "DATE-OBS= '2023-04-01T07:27:15' / \n",
       "UT      = '07:27:15'           / shutter opening time\n",
       "MJD-OBS =       60035.31059028 / MJD of observation start\n",
       "MJDHDR  =       60035.31131076 / MJD of header creation\n",
       "LSTHDR  = '11:54:51'           / LST of header creation\n",
       "IMAGETYP= 'OBJECT'             / \n",
       "OBJECT  = 'k2-22'              / \n",
       "PRODTYPE= 'astrometrylocal'    / Product Type\n",
       "PIPEVERS= '1_3_0beta3'         / Pipeline Version\n",
       "FILENAME= 'k2-22_i-band_60.0s_bin1_230401_072705_jhyoussef_seo_0_WCS.fits' / \n",
       "DATE    = '2023-04-01T11:18:19' / \n",
       "RHALF   =    2.121729912080446 / Mean half-power radius of LTS stars (pixels)\n",
       "RHALFSTD=   0.1666901299444661 / std of half-power radii of LTS stars (pixels)\n",
       "ELONG   =    1.115143197658201 / Mean elongation ratio of accepted sources\n",
       "ETHRESH =                  5.0 / Extraction threshold for SEP_objects table\n",
       "EXTNAME = 'PRIMARY IMAGE'      / ID of the HDU\n",
       "HISTORY Reduced: addkeys v0.1 2023-04-01_11:18:06\n",
       "HISTORY  addkeys: filternames=['u-band', 'g-band', 'i-band', 'r-band', 'z-band',\n",
       "HISTORY  'h-alpha', 'clear']\n",
       "HISTORY  addkeys: keystocopy=['OBSERVER', 'OBJECT', 'FILTER', 'GAIN', 'RA', 'DEC\n",
       "HISTORY ', 'DATE-OBS']\n",
       "HISTORY CONFIG: /data/scripts/pipeline/config/pipeconf_SEO.txt\n",
       "HISTORY bdf: Best bias = /data/images/StoneEdge/0.5meter/2023/MastersCCD/Bias/da\n",
       "HISTORY rktempfit_h-alpha_0.001s_bin1_221031-221208_2.3-19.3C_BTFIT.fits\n",
       "HISTORY bdf: Best dark = /data/images/StoneEdge/0.5meter/2023/MastersCCD/Dark/da\n",
       "HISTORY rktempfit_h-alpha_128.0s_bin1_221031-221208_0.3-21.3C_TFIT.fits\n",
       "HISTORY bdf: Best flat = /data/images/StoneEdge/0.5meter/2023/MastersCCD/Flat/fl\n",
       "HISTORY at_i-band_2.03s_bin1H_20221101_013911_chultun_seo_8_MFLAT.fits\n",
       "HISTORY BIAS: /data/images/StoneEdge/0.5meter/2023/MastersCCD/Bias/darktempfit_h\n",
       "HISTORY -alpha_0.001s_bin1_221031-221208_2.3-19.3C_BTFIT.fits\n",
       "HISTORY DARK: /data/images/StoneEdge/0.5meter/2023/MastersCCD/Dark/darktempfit_h\n",
       "HISTORY -alpha_128.0s_bin1_221031-221208_0.3-21.3C_TFIT.fits\n",
       "HISTORY FLAT: /data/images/StoneEdge/0.5meter/2023/MastersCCD/Flat/flat_i-band_2\n",
       "HISTORY .03s_bin1H_20221101_013911_chultun_seo_8_MFLAT.fits\n",
       "HISTORY Reduced: bdf v0.1 2023-04-01_11:18:08\n",
       "HISTORY  bdf: reload=True\n",
       "HISTORY  bdf: remove_cosmics=True\n",
       "HISTORY  bdf: psffwhm=5.0\n",
       "HISTORY  bdf: fsmode=convolve\n",
       "HISTORY  bdf: cleantype=medmask\n",
       "HISTORY  bdf: biasfile=$MASTER_BDF_FOLDER/Bias/*.fits\n",
       "HISTORY  bdf: bkupbias=\n",
       "HISTORY  bdf: biasfitkeys=['NAXIS1', 'XBIN', 'DATE-OBS']\n",
       "HISTORY  bdf: daterange=0.5\n",
       "HISTORY  bdf: darkfile=$MASTER_BDF_FOLDER/Dark/*.fits\n",
       "HISTORY  bdf: bkupdark=\n",
       "HISTORY  bdf: darkfitkeys=['NAXIS1', 'XBIN', 'EXPTIME', 'DATE-OBS']\n",
       "HISTORY  bdf: flatfile=$MASTER_BDF_FOLDER/Flat/*.fits\n",
       "HISTORY  bdf: bkupflat=\n",
       "HISTORY  bdf: flatfitkeys=['NAXIS1', 'XBIN', 'FILTER', 'DATE-OBS']\n",
       "HISTORY PipeMode = seo_server_ccd\n",
       "HISTORY Reduced: srcextpy v0.1 2023-04-01_11:18:11\n",
       "HISTORY  srcextpy: sourcetable=True\n",
       "HISTORY  srcextpy: sourcetableformat=csv\n",
       "HISTORY  srcextpy: bkg_maskthreshold=0.0\n",
       "HISTORY  srcextpy: bkg_wh=[16, 16]\n",
       "HISTORY  srcextpy: bkg_filterwh=[3, 3]\n",
       "HISTORY  srcextpy: bkg_fthreshold=0.0\n",
       "HISTORY  srcextpy: ext_thresh=5.0\n",
       "HISTORY  srcextpy: ext_bfactor=10.0\n",
       "HISTORY  srcextpy: ext_deblend=256\n",
       "HISTORY  srcextpy: phot_kronf=2.5\n",
       "HISTORY  srcextpy: save_background=True\n",
       "COMMENT Original key: \"END\"\n",
       "COMMENT \n",
       "COMMENT --Start of Astrometry.net WCS solution--\n",
       "COMMENT --Put in by the new-wcs program--\n",
       "COMMENT \n",
       "WCSAXES =                    2 / no comment\n",
       "CTYPE1  = 'RA---TAN-SIP'       / TAN (gnomic) projection + SIP distortions\n",
       "CTYPE2  = 'DEC--TAN-SIP'       / TAN (gnomic) projection + SIP distortions\n",
       "EQUINOX =               2000.0 / Equatorial coordinates definition (yr)\n",
       "LONPOLE =                180.0 / no comment\n",
       "LATPOLE =                  0.0 / no comment\n",
       "CRVAL1  =    169.4826649276689 / RA  of reference point\n",
       "CRVAL2  =    2.656231970833963 / DEC of reference point\n",
       "CRPIX1  =               1024.0 / X reference pixel\n",
       "CRPIX2  =               1032.0 / Y reference pixel\n",
       "CUNIT1  = 'deg'                / X pixel scale units\n",
       "CUNIT2  = 'deg'                / Y pixel scale units\n",
       "CD1_1   =   -0.000214469383386 / Transformation matrix\n",
       "CD1_2   =   -3.80720684668E-06 / no comment\n",
       "CD2_1   =     3.8841453292E-06 / no comment\n",
       "CD2_2   =   -0.000214524732464 / no comment\n",
       "IMAGEW  =                 2048 / Image width,  in pixels.\n",
       "IMAGEH  =                 2064 / Image height, in pixels.\n",
       "A_ORDER =                    2 / Polynomial order, axis 1\n",
       "A_0_0   =                    0 / no comment\n",
       "A_0_1   =                    0 / no comment\n",
       "A_0_2   =    9.88816401485E-07 / no comment\n",
       "A_1_0   =                    0 / no comment\n",
       "A_1_1   =    4.23933025382E-07 / no comment\n",
       "A_2_0   =   -1.14653193156E-06 / no comment\n",
       "B_ORDER =                    2 / Polynomial order, axis 2\n",
       "B_0_0   =                    0 / no comment\n",
       "B_0_1   =                    0 / no comment\n",
       "B_0_2   =    1.52760388871E-08 / no comment\n",
       "B_1_0   =                    0 / no comment\n",
       "B_1_1   =   -3.93815453573E-07 / no comment\n",
       "B_2_0   =    9.97872361647E-08 / no comment\n",
       "AP_ORDER=                    2 / Inv polynomial order, axis 1\n",
       "AP_0_0  =    1.53096713837E-06 / no comment\n",
       "AP_0_1  =   -2.26928380005E-07 / no comment\n",
       "AP_0_2  =   -9.88815746178E-07 / no comment\n",
       "AP_1_0  =    7.08552785005E-07 / no comment\n",
       "AP_1_1  =   -4.23928625676E-07 / no comment\n",
       "AP_2_0  =    1.14652455831E-06 / no comment\n",
       "BP_ORDER=                    2 / Inv polynomial order, axis 2\n",
       "BP_0_0  =   -2.64390606971E-07 / no comment\n",
       "BP_0_1  =    -5.8884795598E-09 / no comment\n",
       "BP_0_2  =   -1.52752194934E-08 / no comment\n",
       "BP_1_0  =   -1.75365030336E-07 / no comment\n",
       "BP_1_1  =    3.93814368927E-07 / no comment\n",
       "BP_2_0  =   -9.97868696621E-08 / no comment\n",
       "HISTORY Created by the Astrometry.net suite.\n",
       "HISTORY For more details, see http://astrometry.net.\n",
       "HISTORY Git URL https://github.com/dstndstn/astrometry.net\n",
       "HISTORY Git revision 0.70\n",
       "HISTORY Git date Wed_Dec_7_11:52:34_2016_-0500\n",
       "HISTORY This WCS header was created by the program \"blind\".\n",
       "HISTORY Astrometry.Net: At downsample = 4, search took 186 seconds\n",
       "HISTORY Astrometry: Paramopts = Downsample=4 Paramopts=--guess-sc\n",
       "HISTORY Reduced: astrometrylocal v0.2 2023-04-01_11:18:19\n",
       "HISTORY  astrometrylocal: astrocmd=/data/scripts/astrometry/install/bin/solve-fi\n",
       "HISTORY eld         --no-verify --crpix-center --no-plots --overwrite --continue\n",
       "HISTORY                --index-xyls none --axy none --temp-axy --solved none --m\n",
       "HISTORY atch none --rdls none --corr none            --scale-units arcsecperpix\n",
       "HISTORY --cpulimit 300 --scale-low 0.5 --scale-high 2.0 --sort-column FLUX %s --\n",
       "HISTORY out %s\n",
       "HISTORY  astrometrylocal: verbose=True\n",
       "HISTORY  astrometrylocal: delete_temp=True\n",
       "HISTORY  astrometrylocal: downsample=[4, 2, 6, 8, 10]\n",
       "HISTORY  astrometrylocal: paramoptions=['--guess-scale', '--scale-low 0.5 --scal\n",
       "HISTORY e-high 2.0 --sort-column FLUX']\n",
       "HISTORY  astrometrylocal: timeout=120\n",
       "HISTORY  astrometrylocal: ra=\n",
       "HISTORY  astrometrylocal: dec=\n",
       "HISTORY  astrometrylocal: searchradius=5\n",
       "COMMENT Original WCS key: \"DATE\"\n",
       "_ATE    = '2023-04-01T11:18:18' / Date this file was created.\n",
       "COMMENT -- blind solver parameters: --\n",
       "COMMENT Index(0):\n",
       "COMMENT   /data/scripts/astrometry/install/data/index-4207-06.fits\n",
       "COMMENT Index(1):\n",
       "COMMENT   /data/scripts/astrometry/install/data/index-4201-27.fits\n",
       "COMMENT Index(2):\n",
       "COMMENT   /data/scripts/astrometry/install/data/index-4201-25.fits\n",
       "COMMENT Field name: /tmp/tmp.axy.vijSmE\n",
       "COMMENT Field scale lower: 0.766111 arcsec/pixel\n",
       "COMMENT Field scale upper: 0.781588 arcsec/pixel\n",
       "COMMENT X col name: X\n",
       "COMMENT Y col name: Y\n",
       "COMMENT Start obj: 10\n",
       "COMMENT End obj: 20\n",
       "COMMENT Solved_in: (null)\n",
       "COMMENT Solved_out: (null)\n",
       "COMMENT Solvedserver: (null)\n",
       "COMMENT Parity: 2\n",
       "COMMENT Codetol: 0.01\n",
       "COMMENT Verify pixels: 1 pix\n",
       "COMMENT Maxquads: 0\n",
       "COMMENT Maxmatches: 0\n",
       "COMMENT Cpu limit: 300.000000 s\n",
       "COMMENT Time limit: 0 s\n",
       "COMMENT Total time limit: 0 s\n",
       "COMMENT Total CPU limit: 300.000000 s\n",
       "COMMENT Tweak: yes\n",
       "COMMENT Tweak AB order: 2\n",
       "COMMENT Tweak ABP order: 2\n",
       "COMMENT --\n",
       "COMMENT -- properties of the matching quad: --\n",
       "COMMENT index id: 4207\n",
       "COMMENT index healpix: 6\n",
       "COMMENT index hpnside: 1\n",
       "COMMENT log odds: 143.594\n",
       "COMMENT odds: 2.30246e+62\n",
       "COMMENT quadno: 168640\n",
       "COMMENT stars: 187822,187839,187808,187847\n",
       "COMMENT field: 2,18,3,6\n",
       "COMMENT code error: 0.00268608\n",
       "COMMENT nmatch: 17\n",
       "COMMENT nconflict: 0\n",
       "COMMENT nfield: 345\n",
       "COMMENT nindex: 17\n",
       "COMMENT scale: 0.772313 arcsec/pix\n",
       "COMMENT parity: 1\n",
       "COMMENT quads tried: 1158\n",
       "COMMENT quads matched: 89\n",
       "COMMENT quads verified: 0\n",
       "COMMENT objs tried: 19\n",
       "COMMENT cpu time: 0.015998\n",
       "COMMENT --\n",
       "COMMENT \n",
       "COMMENT --End of Astrometry.net WCS--\n",
       "COMMENT --(Put in by the new-wcs program)--\n",
       "COMMENT "
      ]
     },
     "execution_count": 154,
     "metadata": {},
     "output_type": "execute_result"
    }
   ],
   "source": [
    "h"
   ]
  },
  {
   "cell_type": "code",
   "execution_count": 157,
   "id": "d76daf81",
   "metadata": {},
   "outputs": [
    {
     "data": {
      "text/plain": [
       "<Time object: scale='utc' format='mjd' value=60035.31059028>"
      ]
     },
     "execution_count": 157,
     "metadata": {},
     "output_type": "execute_result"
    }
   ],
   "source": [
    "astropy.time.Time(h['MJD-OBS'], format='mjd')"
   ]
  },
  {
   "cell_type": "code",
   "execution_count": 20,
   "id": "2d6a8741",
   "metadata": {},
   "outputs": [],
   "source": [
    "earth = astropy.coordinates.EarthLocation(lon=h['OBSLONG'], lat=h['OBSLAT'])\n",
    "\n",
    "coords = []\n",
    "for i in range(0,len(fncl)):\n",
    "    h = fitsio.read_header(datapath+fncl[i])\n",
    "    time = astropy.time.Time(h['MJD-OBS'], format='mjd')\n",
    "    moon = astropy.coordinates.get_body(body='moon', time=time, location=earth)\n",
    "    coords.append(moon.transform_to('icrs'))"
   ]
  },
  {
   "cell_type": "code",
   "execution_count": 163,
   "id": "7599933e",
   "metadata": {},
   "outputs": [
    {
     "data": {
      "text/plain": [
       "139.84478961562726"
      ]
     },
     "execution_count": 163,
     "metadata": {},
     "output_type": "execute_result"
    }
   ],
   "source": [
    "coords[0].ra.value"
   ]
  },
  {
   "cell_type": "code",
   "execution_count": 14,
   "id": "d435120b",
   "metadata": {},
   "outputs": [],
   "source": [
    "import astropy.units as u"
   ]
  },
  {
   "cell_type": "code",
   "execution_count": 62,
   "id": "083849c1",
   "metadata": {},
   "outputs": [
    {
     "data": {
      "text/plain": [
       "array(['230303', '230306', '230308', '230318', '230325', '230326',\n",
       "       '230327', '230401', '230402', '230403', '230404', '230405',\n",
       "       '230412', '230519', '230601'], dtype='<U6')"
      ]
     },
     "execution_count": 62,
     "metadata": {},
     "output_type": "execute_result"
    }
   ],
   "source": [
    "np.unique(fdates)"
   ]
  },
  {
   "cell_type": "markdown",
   "id": "74e4df75",
   "metadata": {},
   "source": [
    "coordinate frame of telescope is j2000; icrs closest substitute according to [astropy](https://docs.astropy.org/en/stable/api/astropy.coordinates.ICRS.html)"
   ]
  },
  {
   "cell_type": "code",
   "execution_count": 22,
   "id": "a8c09ddd",
   "metadata": {},
   "outputs": [],
   "source": [
    "tcoords = []\n",
    "for i in range(0,len(fncl)):\n",
    "    h = fitsio.read_header(datapath+fncl[i])\n",
    "    ra = h['RA']\n",
    "    dec = h['DEC']\n",
    "    coord = [ra,dec]\n",
    "    c = astropy.coordinates.SkyCoord(ra, dec, unit=(u.hourangle, u.deg), frame='icrs')\n",
    "    tcoords.append(c)"
   ]
  },
  {
   "cell_type": "code",
   "execution_count": 23,
   "id": "82dc5992",
   "metadata": {},
   "outputs": [],
   "source": [
    "seps = []\n",
    "\n",
    "for i in range(0,len(fncl)):\n",
    "    sep = tcoords[i].separation(coords[i])\n",
    "    seps.append(sep)"
   ]
  },
  {
   "cell_type": "code",
   "execution_count": 24,
   "id": "aa4309df",
   "metadata": {},
   "outputs": [],
   "source": [
    "spval = []\n",
    "for s in seps:\n",
    "    spval.append(s.value)"
   ]
  },
  {
   "cell_type": "code",
   "execution_count": 216,
   "id": "198460b3",
   "metadata": {},
   "outputs": [
    {
     "data": {
      "text/plain": [
       "Text(0, 0.5, 'bkg med val')"
      ]
     },
     "execution_count": 216,
     "metadata": {},
     "output_type": "execute_result"
    },
    {
     "data": {
      "image/png": "[encoded data removed]",
      "text/plain": [
       "<Figure size 432x288 with 1 Axes>"
      ]
     },
     "metadata": {
      "needs_background": "light"
     },
     "output_type": "display_data"
    }
   ],
   "source": [
    "plt.figure()\n",
    "plt.scatter(spval, exmedscl, s=3)\n",
    "plt.title(f'moon angle vs bkg med')\n",
    "plt.xlabel('moon angle (deg)')\n",
    "plt.ylabel('bkg med val')"
   ]
  },
  {
   "cell_type": "markdown",
   "id": "1481b700",
   "metadata": {},
   "source": [
    "below is plotted with all images. above is only those included in climate data"
   ]
  },
  {
   "cell_type": "code",
   "execution_count": 15,
   "id": "e4986049",
   "metadata": {},
   "outputs": [],
   "source": [
    "datapath = '/Users/avery/seoproject/data2w/'\n",
    "h = fitsio.read_header(datapath+fn[0])\n",
    "earth = astropy.coordinates.EarthLocation(lon=h['OBSLONG'], lat=h['OBSLAT'])\n",
    "\n",
    "coords = []\n",
    "for i in range(0,len(fn)):\n",
    "    h = fitsio.read_header(datapath+fn[i])\n",
    "    time = astropy.time.Time(h['MJD-OBS'], format='mjd')\n",
    "    moon = astropy.coordinates.get_body(body='moon', time=time, location=earth)\n",
    "    coords.append(moon.transform_to('icrs'))\n",
    "\n",
    "tcoords = []\n",
    "for i in range(0,len(fn)):\n",
    "    h = fitsio.read_header(datapath+fn[i])\n",
    "    ra = h['RA']\n",
    "    dec = h['DEC']\n",
    "    coord = [ra,dec]\n",
    "    c = astropy.coordinates.SkyCoord(ra, dec, unit=(u.hourangle, u.deg), frame='icrs')\n",
    "    tcoords.append(c)\n",
    "    \n",
    "seps = []\n",
    "\n",
    "for i in range(0,len(fn)):\n",
    "    sep = coords[i].separation(tcoords[i])\n",
    "    seps.append(sep)\n",
    "    \n",
    "spval = []\n",
    "for s in seps:\n",
    "    spval.append(s.value)"
   ]
  },
  {
   "cell_type": "code",
   "execution_count": 16,
   "id": "4147f70f",
   "metadata": {},
   "outputs": [],
   "source": [
    "meds = np.load('/Users/avery/seoproject/expbkgmeds5iter.npy')"
   ]
  },
  {
   "cell_type": "code",
   "execution_count": 17,
   "id": "74271f0d",
   "metadata": {},
   "outputs": [
    {
     "data": {
      "text/plain": [
       "Text(0, 0.5, 'bkg med val')"
      ]
     },
     "execution_count": 17,
     "metadata": {},
     "output_type": "execute_result"
    },
    {
     "data": {
      "image/png": "[encoded data removed]",
      "text/plain": [
       "<Figure size 432x288 with 1 Axes>"
      ]
     },
     "metadata": {
      "needs_background": "light"
     },
     "output_type": "display_data"
    }
   ],
   "source": [
    "plt.figure()\n",
    "plt.scatter(spval, meds, s=1.5)\n",
    "plt.title(f'moon angle vs bkg med')\n",
    "plt.xlabel('moon angle (deg)')\n",
    "plt.ylabel('bkg med val')"
   ]
  },
  {
   "cell_type": "code",
   "execution_count": 5,
   "id": "1373198b",
   "metadata": {},
   "outputs": [],
   "source": [
    "datapath = '/Users/avery/seoproject/data2w/'\n",
    "clouds = []\n",
    "ambients = []\n",
    "primaries = []\n",
    "secondars = []\n",
    "times = []\n",
    "\n",
    "for f in fn:\n",
    "    h = fitsio.read_header(datapath+f)\n",
    "    clouds.append(h['CLOUD'])\n",
    "    ambients.append(h['AMBIENT'])\n",
    "    primaries.append(h['PRIMARY'])\n",
    "    secondars.append(h['SECONDAR'])\n",
    "    times.append(int(h['UT'].replace(':', '')))"
   ]
  },
  {
   "cell_type": "code",
   "execution_count": 6,
   "id": "565b398c",
   "metadata": {},
   "outputs": [],
   "source": [
    "meds = np.load('/Users/avery/seoproject/expbkgmeds5iter.npy')"
   ]
  },
  {
   "cell_type": "code",
   "execution_count": 7,
   "id": "775969b0",
   "metadata": {},
   "outputs": [
    {
     "data": {
      "text/plain": [
       "Text(0.5, 1.0, 'secondar C  vs med pix val')"
      ]
     },
     "execution_count": 7,
     "metadata": {},
     "output_type": "execute_result"
    },
    {
     "data": {
      "image/png": "[encoded data removed]",
      "text/plain": [
       "<Figure size 720x720 with 4 Axes>"
      ]
     },
     "metadata": {
      "needs_background": "light"
     },
     "output_type": "display_data"
    }
   ],
   "source": [
    "fig, axs = plt.subplots(2,2, figsize=(10,10))\n",
    "fig.tight_layout\n",
    "axs[0,0].scatter(clouds, meds, s=0.5)\n",
    "axs[0,0].set_title('clouds vs med pix val')\n",
    "\n",
    "axs[0,1].scatter(ambients, meds, s=0.5)\n",
    "axs[0,1].set_title('ambient C vs med pix val')\n",
    "\n",
    "axs[1,0].scatter(primaries, meds, s=0.5)\n",
    "axs[1,0].set_title('primary C  vs med pix val')\n",
    "\n",
    "\n",
    "axs[1,1].scatter(secondars, meds, s=0.5)\n",
    "axs[1,1].set_title('secondar C  vs med pix val')"
   ]
  }
 ],
 "metadata": {
  "kernelspec": {
   "display_name": "Python [conda env:a211env] *",
   "language": "python",
   "name": "conda-env-a211env-py"
  },
  "language_info": {
   "codemirror_mode": {
    "name": "ipython",
    "version": 3
   },
   "file_extension": ".py",
   "mimetype": "text/x-python",
   "name": "python",
   "nbconvert_exporter": "python",
   "pygments_lexer": "ipython3",
   "version": "3.8.17"
  }
 },
 "nbformat": 4,
 "nbformat_minor": 5
}
